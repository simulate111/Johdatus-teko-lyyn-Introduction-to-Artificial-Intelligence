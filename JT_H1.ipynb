{
  "cells": [
    {
      "cell_type": "markdown",
      "metadata": {
        "id": "view-in-github",
        "colab_type": "text"
      },
      "source": [
        "<a href=\"https://colab.research.google.com/github/simulate111/Johdatus-teko-lyyn-Introduction-to-Artificial-Intelligence/blob/main/JT_H1.ipynb\" target=\"_parent\"><img src=\"https://colab.research.google.com/assets/colab-badge.svg\" alt=\"Open In Colab\"/></a>"
      ]
    },
    {
      "cell_type": "code",
      "execution_count": 1,
      "metadata": {
        "id": "GiuVkZ63nIuB"
      },
      "outputs": [],
      "source": [
        "import os\n",
        "import copy\n",
        "import time\n",
        "import queue\n",
        "import random\n",
        "from IPython.display import clear_output"
      ]
    },
    {
      "cell_type": "code",
      "source": [
        "pip install imblearn umap-learn onedrivedownloader"
      ],
      "metadata": {
        "id": "zItbKzyDn6H0",
        "colab": {
          "base_uri": "https://localhost:8080/"
        },
        "outputId": "69024e2c-d0e8-4acc-9a07-a0093cde81f1"
      },
      "execution_count": 2,
      "outputs": [
        {
          "output_type": "stream",
          "name": "stdout",
          "text": [
            "Requirement already satisfied: imblearn in /usr/local/lib/python3.10/dist-packages (0.0)\n",
            "Requirement already satisfied: umap-learn in /usr/local/lib/python3.10/dist-packages (0.5.5)\n",
            "Requirement already satisfied: onedrivedownloader in /usr/local/lib/python3.10/dist-packages (1.1.3)\n",
            "Requirement already satisfied: imbalanced-learn in /usr/local/lib/python3.10/dist-packages (from imblearn) (0.10.1)\n",
            "Requirement already satisfied: numpy>=1.17 in /usr/local/lib/python3.10/dist-packages (from umap-learn) (1.25.2)\n",
            "Requirement already satisfied: scipy>=1.3.1 in /usr/local/lib/python3.10/dist-packages (from umap-learn) (1.11.4)\n",
            "Requirement already satisfied: scikit-learn>=0.22 in /usr/local/lib/python3.10/dist-packages (from umap-learn) (1.2.2)\n",
            "Requirement already satisfied: numba>=0.51.2 in /usr/local/lib/python3.10/dist-packages (from umap-learn) (0.58.1)\n",
            "Requirement already satisfied: pynndescent>=0.5 in /usr/local/lib/python3.10/dist-packages (from umap-learn) (0.5.11)\n",
            "Requirement already satisfied: tqdm in /usr/local/lib/python3.10/dist-packages (from umap-learn) (4.66.2)\n",
            "Requirement already satisfied: requests in /usr/local/lib/python3.10/dist-packages (from onedrivedownloader) (2.31.0)\n",
            "Requirement already satisfied: llvmlite<0.42,>=0.41.0dev0 in /usr/local/lib/python3.10/dist-packages (from numba>=0.51.2->umap-learn) (0.41.1)\n",
            "Requirement already satisfied: joblib>=0.11 in /usr/local/lib/python3.10/dist-packages (from pynndescent>=0.5->umap-learn) (1.3.2)\n",
            "Requirement already satisfied: threadpoolctl>=2.0.0 in /usr/local/lib/python3.10/dist-packages (from scikit-learn>=0.22->umap-learn) (3.3.0)\n",
            "Requirement already satisfied: charset-normalizer<4,>=2 in /usr/local/lib/python3.10/dist-packages (from requests->onedrivedownloader) (3.3.2)\n",
            "Requirement already satisfied: idna<4,>=2.5 in /usr/local/lib/python3.10/dist-packages (from requests->onedrivedownloader) (3.6)\n",
            "Requirement already satisfied: urllib3<3,>=1.21.1 in /usr/local/lib/python3.10/dist-packages (from requests->onedrivedownloader) (2.0.7)\n",
            "Requirement already satisfied: certifi>=2017.4.17 in /usr/local/lib/python3.10/dist-packages (from requests->onedrivedownloader) (2024.2.2)\n"
          ]
        }
      ]
    },
    {
      "cell_type": "code",
      "execution_count": 3,
      "metadata": {
        "id": "awFGisxMnIuC"
      },
      "outputs": [],
      "source": [
        "from onedrivedownloader import download\n",
        "\n",
        "link2data = 'https://unioulu-my.sharepoint.com/:u:/g/personal/jukmaatt_univ_yo_oulu_fi/EfLLqEVV7a5AmQRsrbjDBEQBPgyU3vaOCzBiugGq8GvcXQ?e=9AWxtf'\n",
        "\n",
        "if not os.path.exists('./imgs'):\n",
        "    print('Downloading data')\n",
        "    download(link2data, filename='./imgs.zip', unzip=True, unzip_path='./')"
      ]
    },
    {
      "cell_type": "markdown",
      "metadata": {
        "id": "f3TndywfnIuD"
      },
      "source": [
        "# <center>521160P Introduction to artificial intelligence<br><br>Exercise #1<br><br>Search algorithms<br></center>\n",
        "\n",
        "This exercise deals with depth-first search and breadth-search to solve the river crossing problem and creates heuristic evaluation functions for the 8-puzzle game. **Look return deadlines from moodle**. It is possible the get 4 points from this exercise (2p + 2p)\n",
        "\n",
        "If you have any questions related to exercises or you face any problems during this exercise please use **moodle forum for programming exercise 1.**"
      ]
    },
    {
      "cell_type": "markdown",
      "metadata": {
        "id": "_wRTeuH7nIuD"
      },
      "source": [
        "**First fill in your group information (name and student number)**\n",
        "\n",
        "# Group member information :\n",
        "\n",
        "* **Member 1 :** `Mohammadreza Akhtari 2401691 `\n",
        "* **Member 2 :** `...`\n",
        "* **Member 3 :** `... `"
      ]
    },
    {
      "cell_type": "markdown",
      "metadata": {
        "id": "Tn3rh1e9nIuE"
      },
      "source": [
        "# Task 1. Wolf, sheep, cabbage and shepherd river crossing puzzle with breadth-first and depth first algorithms\n",
        "\n",
        "<br>\n",
        "<div style=\"width:image width px; font-size:80%; text-align:center;\">\n",
        "    <center>\n",
        "    <img src='https://github.com/simulate111/Johdatus-teko-lyyn-Introduction-to-Artificial-Intelligence/blob/main/imgs/rivercrossingpuzzle.png?raw=1' width='700' height='auto' alt='alternate text' style='padding-bottom:0.5em;' />\n",
        "    </center>\n",
        "    <span>Figure 1. Wolf, sheep, cabbage and shepherd river crossing puzzle's initial state.</span>\n",
        "</div>\n",
        "<br>\n",
        "\n",
        "Description: Shepherd is crossing a river with a rowing boat. He must get wolf, sheep and cabbage to other side of the river. The boat is small so it can hold only one item at the time. Shepherd's mission is restricted by following rules:\n",
        "\n",
        "* Sheep cannot be left alone with the cabbage on the same side, for then the sheep eats the cabbage.\n",
        "\n",
        "* Wolf cannot be left alone with the sheep on the same side, for then the wolf eats the sheep.\n",
        "\n",
        "Help shepherd to find right order of moves to get to other side of the river with wolf, sheep and cabbage using **breadth-first** and **depth-first** algorithms. Let's define initial state according to figure 1, where all the objects are on the same side and on the island there is no one."
      ]
    },
    {
      "cell_type": "code",
      "execution_count": 4,
      "metadata": {
        "id": "WXieCl9KnIuE",
        "colab": {
          "base_uri": "https://localhost:8080/"
        },
        "outputId": "03fdf18a-34c5-4514-d18d-a5b4af4ff6ca"
      },
      "outputs": [
        {
          "output_type": "stream",
          "name": "stdout",
          "text": [
            "Initially on mainland there is ['C', 'S', 'Shp', 'W'] and on island there is []\n"
          ]
        }
      ],
      "source": [
        "objects = sorted(['W','S','C','Shp']) # sorted() asures that objects are in alphabetical order\n",
        "island = sorted([])\n",
        "mainland = copy.deepcopy(objects)\n",
        "\n",
        "print(f\"Initially on mainland there is {mainland} and on island there is {island}\")"
      ]
    },
    {
      "cell_type": "markdown",
      "metadata": {
        "id": "VbUH58sinIuE"
      },
      "source": [
        "After this let's make a few helper functions for defining restrictions of the problem"
      ]
    },
    {
      "cell_type": "code",
      "execution_count": 5,
      "metadata": {
        "id": "71JftySRnIuE"
      },
      "outputs": [],
      "source": [
        "def shepherd_on_island(island):\n",
        "    \"\"\"\n",
        "    On this function it is checked if shepherd is on island\n",
        "    if shepherd is on island returns True otherwise False\n",
        "    \"\"\"\n",
        "    if \"Shp\" in island:\n",
        "        return True\n",
        "    return False\n",
        "\n",
        "def objects_on_island(objects, mainland):\n",
        "    \"\"\"\n",
        "    On this function we check which objects are on island when objects on mainland are known.\n",
        "    Deletes all objects from objects list that are on mainland\n",
        "    \"\"\"\n",
        "    return [obj for obj in objects if obj not in mainland]\n",
        "\n",
        "def permited_state(objects, mainland):\n",
        "    \"\"\"\n",
        "    On this function it is checked if the planned move is allowed on both mainland and on island\n",
        "    if move is not allowed function returns False and if move is allowed returns True\n",
        "    \"\"\"\n",
        "\n",
        "    island = objects_on_island(objects, mainland)\n",
        "    # if shepherd is on island, (wolf and sheep) or (sheep and cabbage) can't be on mainland\n",
        "    if shepherd_on_island(island):\n",
        "        if (\"W\" in mainland and \"S\" in mainland) or (\"S\" in mainland and \"C\" in mainland):\n",
        "            return False\n",
        "        return True\n",
        "    # Using same rules as above but this time shepherd is on mainland\n",
        "    else:\n",
        "        if (\"W\" in island and \"S\" in island) or (\"S\" in island and \"C\" in island):\n",
        "            return False\n",
        "        return True\n",
        "\n",
        "def generate_new_permited_mainlands(objects, mainland):\n",
        "    \"This function will generate new permited states for mainland\"\n",
        "    mainland = copy.deepcopy(mainland)\n",
        "    new_mainlands = [] # initialize new_mainlands list\n",
        "    island = objects_on_island(objects, mainland)\n",
        "    if shepherd_on_island(island):\n",
        "        island.remove(\"Shp\") # atleast shepherd is moving out of island\n",
        "        mainland.append(\"Shp\")\n",
        "        if permited_state(objects, mainland):\n",
        "            new_mainlands.append(sorted(mainland))\n",
        "        for obj in island:\n",
        "            mainland_tmp = mainland + [obj]\n",
        "            if permited_state(objects, mainland_tmp):\n",
        "                new_mainlands.append(sorted(mainland_tmp))\n",
        "\n",
        "    else:\n",
        "        mainland.remove(\"Shp\") # Atleast shepherd leaves mainland\n",
        "        island.append(\"Shp\")\n",
        "        if permited_state(objects, mainland):\n",
        "            new_mainlands.append(sorted(mainland))\n",
        "        mainland_tmp = copy.deepcopy(mainland)\n",
        "        for obj in mainland:\n",
        "            mainland_tmp.remove(obj)\n",
        "            if permited_state(objects, mainland_tmp):\n",
        "                new_mainlands.append(sorted(mainland_tmp))\n",
        "            mainland_tmp.append(obj)\n",
        "    return new_mainlands\n",
        "\n",
        "def print_moves(objects, path):\n",
        "    \"\"\"\n",
        "    This function prints complete path once path is found.\n",
        "    \"\"\"\n",
        "    print('    Mainland' + ' '*23 + 'Boat' +' '*28 + 'Island'+'\\n')\n",
        "    print('*'*110)\n",
        "    for i, mainland in enumerate(path):\n",
        "        island = objects_on_island(objects, mainland)\n",
        "        if shepherd_on_island(island):\n",
        "            print('     {}'.format(mainland) + ' '*(61-len(str(mainland))) + '{}'.format(island))\n",
        "            print('*'*110)\n",
        "            if i<len(path)-1:\n",
        "                boat = [x for x in island if x not in objects_on_island(objects, path[i+1])]\n",
        "                print('{}.   '.format(i+1) + ' '*27 + '<-{}'.format(boat))\n",
        "        else:\n",
        "            print('     {}'.format(mainland) + ' '*(61-len(str(mainland))) + '{}'.format(island))\n",
        "            print('*'*110)\n",
        "            if i<len(path)-1:\n",
        "                boat = [x for x in mainland if x not in path[i+1]]\n",
        "                print('{}.   '.format(i+1) + ' '*29 + '{}->'.format(boat))\n"
      ]
    },
    {
      "cell_type": "markdown",
      "metadata": {
        "id": "Ng4pTJUEnIuF"
      },
      "source": [
        "## Uninformed search\n",
        "\n",
        "### Depth-first\n",
        "\n",
        "Implement **depth-first search** using pseudocode bellow. A few steps of the pseudocode is already implmented your job is to fill missing parts.\n",
        "1. Initialize two empty lists open list and closed list. Open list corresponds to unexplored states and closed list corresponds to already treated states.\n",
        "2. Define initial state which consists of two other lists mainland and path\n",
        "3. Add initial state to open list\n",
        "4. Loo through open list until empty\n",
        "    1. Pick last element of the open list\n",
        "    2. if mainland is not in closed_list\n",
        "        1. Add mainland to closed list\n",
        "        2. Check if mainland is same as goal\n",
        "            1. if it is, return path\n",
        "        3. Generate new mainlands using helper function *generate_new_permited_mainlands(objects, mainland)*\n",
        "        4. loop through new mainlands one at a time Käy läpi silmukassa uudet mantereet yksi kerrallaan\n",
        "            1. Solve new path by adding new mainland to current path\n",
        "            2. add new state to open list which consists of new mainland and new path\n",
        "5. print error message when open list is empty and no solution was not found.\n",
        "        "
      ]
    },
    {
      "cell_type": "code",
      "source": [
        "def depth_first(objects, mainland):\n",
        "    \"\"\"\n",
        "    This function solves the river crossing puzzle using depth-first search\n",
        "    \"\"\"\n",
        "    goal = []\n",
        "    path = [mainland]\n",
        "    #-------- WRITE HERE YOUR CODE --------\n",
        "    # 1. Initialize two empty lists: open_list and closed_list\n",
        "    open_list = []\n",
        "    closed_list = []\n",
        "\n",
        "    # 2. Define variable initial_state which is list that consists of two other lists mainland and path\n",
        "    initial_state = [mainland, path]\n",
        "\n",
        "    # 3. add initial_state to open_list\n",
        "    open_list.append(initial_state)\n",
        "\n",
        "    # 4. Loop through open_list until it is empty (Tip: while loop)\n",
        "    while open_list:\n",
        "        # 4.A choose last element of open_list\n",
        "        mainland, path = open_list.pop()\n",
        "\n",
        "        # 4.B if variable mainland is not in closed_list\n",
        "        if mainland not in closed_list:\n",
        "            # 4.B.a Add variable mainland to closed_list\n",
        "            closed_list.append(mainland)\n",
        "\n",
        "            # 4.B.b check if mainland is same as goal\n",
        "            if mainland == goal:\n",
        "                # 4.B.b.i if it is return path\n",
        "                return path\n",
        "\n",
        "            # 4.B.c Generatating variable new_mainlands using helper function generate_new_permited_mainlands\n",
        "            new_mainlands = generate_new_permited_mainlands(objects, mainland)\n",
        "\n",
        "            # 4.B.d Loop through new_mainlands one at a time using loop variable new_mainland\n",
        "            for new_mainland in new_mainlands:\n",
        "                # 4.B.d.i Solve variable new_path by adding to list variables path and new_mainland\n",
        "                new_path = path + [new_mainland]\n",
        "                # 4.B.d.ii Append to open_list new state which consists of variables new_mainland and new_path\n",
        "                open_list.append([new_mainland, new_path])\n",
        "\n",
        "    # 5. print error message when open_list is empty and no solution found\n",
        "    print(\"Solution couldn't be found.\")\n",
        "    #-----------------------------------"
      ],
      "metadata": {
        "id": "4KLZk4nQpDHW"
      },
      "execution_count": 6,
      "outputs": []
    },
    {
      "cell_type": "code",
      "source": [
        "depth_first_path = depth_first(objects, mainland)\n",
        "print_moves(objects, depth_first_path)"
      ],
      "metadata": {
        "id": "Ps7NWpWwNNxL",
        "outputId": "2a83587b-27a3-4565-d445-5f1f62ccdbd5",
        "colab": {
          "base_uri": "https://localhost:8080/"
        }
      },
      "execution_count": 7,
      "outputs": [
        {
          "output_type": "stream",
          "name": "stdout",
          "text": [
            "    Mainland                       Boat                            Island\n",
            "\n",
            "**************************************************************************************************************\n",
            "     ['C', 'S', 'Shp', 'W']                                       []\n",
            "**************************************************************************************************************\n",
            "1.                                ['S', 'Shp']->\n",
            "     ['C', 'W']                                                   ['S', 'Shp']\n",
            "**************************************************************************************************************\n",
            "2.                              <-['Shp']\n",
            "     ['C', 'Shp', 'W']                                            ['S']\n",
            "**************************************************************************************************************\n",
            "3.                                ['Shp', 'W']->\n",
            "     ['C']                                                        ['S', 'Shp', 'W']\n",
            "**************************************************************************************************************\n",
            "4.                              <-['S', 'Shp']\n",
            "     ['C', 'S', 'Shp']                                            ['W']\n",
            "**************************************************************************************************************\n",
            "5.                                ['C', 'Shp']->\n",
            "     ['S']                                                        ['C', 'Shp', 'W']\n",
            "**************************************************************************************************************\n",
            "6.                              <-['Shp']\n",
            "     ['S', 'Shp']                                                 ['C', 'W']\n",
            "**************************************************************************************************************\n",
            "7.                                ['S', 'Shp']->\n",
            "     []                                                           ['C', 'S', 'Shp', 'W']\n",
            "**************************************************************************************************************\n"
          ]
        }
      ]
    },
    {
      "cell_type": "markdown",
      "metadata": {
        "id": "BaXFbCiHnIuF"
      },
      "source": [
        "### Breadth-first\n",
        "\n",
        "In addition implemnt **breadth-first** algorithm. Code is similar to depth-first algorithm only difference is that in pseudocode above on part 4A instead of picking last element of list you pick the first one. Part of the pseudocode is already implemented fill the missing parts"
      ]
    },
    {
      "cell_type": "code",
      "source": [
        "def breadth_first(objects, mainland):\n",
        "    \"\"\"\n",
        "    This function solves river crossing puzzle using breadth-first search.\n",
        "    Solution is simalr to depth-first search only exception being on pseudocode's part 4.A you pick\n",
        "    first element of the list instead of last element.\n",
        "    \"\"\"\n",
        "    goal = []\n",
        "    path = [mainland]\n",
        "    #-------- WRITE HERE YOUR CODE --------\n",
        "    # 1. Initialize two empty lists: open_list and closed_list\n",
        "    open_list = []\n",
        "    closed_list = []\n",
        "\n",
        "    # 2. Define variable initial_state which is list that consists of two other lists mainland and path\n",
        "    initial_state = [mainland, path]\n",
        "\n",
        "    # 3. add initial_state to open_list\n",
        "    open_list.append(initial_state)\n",
        "\n",
        "    # 4. Loop through open_list until it is empty (Tip: while loop)\n",
        "    while open_list:\n",
        "        # 4.A choose first element of open_list (Tip: .pop(0) list method)\n",
        "        mainland, path = open_list.pop(0)\n",
        "\n",
        "        # 4.B if variable mainland is not in closed_list\n",
        "        if mainland not in closed_list:\n",
        "            # 4.B.a Add variable mainland to closed_list\n",
        "            closed_list.append(mainland)\n",
        "\n",
        "            # 4.B.b check if mainland is same as goal\n",
        "            if mainland == goal:\n",
        "                # 4.B.b.i if it is return path\n",
        "                return path\n",
        "\n",
        "            # 4.B.c Generatating variable new_mainlands using helper function generate_new_permited_mainlands\n",
        "            new_mainlands = generate_new_permited_mainlands(objects, mainland)\n",
        "\n",
        "            # 4.B.d Loop through new_mainlands one at a time using loop variable new_mainland\n",
        "            for new_mainland in new_mainlands:\n",
        "                # 4.B.d.i Solve variable new_path by adding to list variables path and new_mainland\n",
        "                new_path = path + [new_mainland]\n",
        "                # 4.B.d.ii Append to open_list new state which consists of variables new_mainland and new_path\n",
        "                open_list.append([new_mainland, new_path])\n",
        "\n",
        "    # 5. print error message when open_list is empty and no solution found\n",
        "    print(\"Solution couldn't be found.\")\n",
        "    #-----------------------------------"
      ],
      "metadata": {
        "id": "llaFWar0pMXA"
      },
      "execution_count": 8,
      "outputs": []
    },
    {
      "cell_type": "code",
      "source": [
        "breadth_first_path = breadth_first(objects, mainland)\n",
        "print_moves(objects, breadth_first_path)"
      ],
      "metadata": {
        "id": "y2O-J6G7PWF2",
        "outputId": "f0715669-a4cf-4907-9b1b-acfd5176e4af",
        "colab": {
          "base_uri": "https://localhost:8080/"
        }
      },
      "execution_count": 9,
      "outputs": [
        {
          "output_type": "stream",
          "name": "stdout",
          "text": [
            "    Mainland                       Boat                            Island\n",
            "\n",
            "**************************************************************************************************************\n",
            "     ['C', 'S', 'Shp', 'W']                                       []\n",
            "**************************************************************************************************************\n",
            "1.                                ['S', 'Shp']->\n",
            "     ['C', 'W']                                                   ['S', 'Shp']\n",
            "**************************************************************************************************************\n",
            "2.                              <-['Shp']\n",
            "     ['C', 'Shp', 'W']                                            ['S']\n",
            "**************************************************************************************************************\n",
            "3.                                ['C', 'Shp']->\n",
            "     ['W']                                                        ['C', 'S', 'Shp']\n",
            "**************************************************************************************************************\n",
            "4.                              <-['S', 'Shp']\n",
            "     ['S', 'Shp', 'W']                                            ['C']\n",
            "**************************************************************************************************************\n",
            "5.                                ['Shp', 'W']->\n",
            "     ['S']                                                        ['C', 'Shp', 'W']\n",
            "**************************************************************************************************************\n",
            "6.                              <-['Shp']\n",
            "     ['S', 'Shp']                                                 ['C', 'W']\n",
            "**************************************************************************************************************\n",
            "7.                                ['S', 'Shp']->\n",
            "     []                                                           ['C', 'S', 'Shp', 'W']\n",
            "**************************************************************************************************************\n"
          ]
        }
      ]
    },
    {
      "cell_type": "markdown",
      "metadata": {
        "id": "VOmflxGAnIuF"
      },
      "source": [
        "**How many steps are required for depth-first and breadth-first algorithms to complete? How they differ from each other?**\n",
        "\n",
        "` **7 steps.** In th efirst approach or depth first, the first solution is explored into the depth, which is why the first element is carried first. This is while in the second one or breadth first, all possible solutions are investigated at the same level. THe first solution uses also less memory as one branch is explored but in the second approach, all pathes should be examined which uses more memory.`\n",
        "\n"
      ]
    },
    {
      "cell_type": "markdown",
      "metadata": {
        "id": "cEqteaa3nIuF"
      },
      "source": [
        "# Task 2. 8-puzzle game with heuristic estimation functions\n",
        "\n",
        "<br>\n",
        "<div style=\"width:image width px; font-size:80%; text-align:center;\">\n",
        "    <center>\n",
        "    <img src='https://github.com/simulate111/Johdatus-teko-lyyn-Introduction-to-Artificial-Intelligence/blob/main/imgs/eightpuzzle1.png?raw=1' width='400' height='auto' alt='alternate text' style='padding-bottom:0.5em;' />\n",
        "    </center>\n",
        "    <span>Kuva 2. one initial state and goal state for 8-puzzle game.</span>\n",
        "</div>\n",
        "<br>\n",
        "\n",
        "This task creates heuristic evaluation functions for $h(n)$ 8-puzzle game. 8-puzzle consists of eight sliding tile that are numbered from one to eight. Numbered tiles are placed on a 3x3 grid.One square from the grid is empty where you can either horizontally or vertically move one of the tiles next to it. When one of the tiles are moved to an empty tile, a previous place for the tile is left blank.  On 8-puzzle game, the purpose is to reach the target state as few moves from a known initial state. Figure 2 is an 8-puzzle game, an initial state and a target state.\n",
        "\n",
        "8-puzzle game's search space is so large that with uninformed search algorithms it would take long. Because of that to find solution for game we use informed search algorithm **A\\*-search**  \n",
        "\n",
        "First let's implement a few essential helper functions for game."
      ]
    },
    {
      "cell_type": "code",
      "execution_count": 10,
      "metadata": {
        "id": "8XIlLwfYnIuG"
      },
      "outputs": [],
      "source": [
        "def print_state(state):\n",
        "    \"\"\"\n",
        "    Creates printable game table\n",
        "    \"\"\"\n",
        "\n",
        "    printout = \"\"\n",
        "    printout += \"+---+---+---+\\n\"\n",
        "    for i in range(3):\n",
        "        for j in range(3):\n",
        "            tile = state[i*3+j]\n",
        "            printout += \"| {} \".format(\" \" if tile == 0 else tile)\n",
        "        printout += \"|\\n\"\n",
        "        printout += \"+---+---+---+\\n\"\n",
        "    return printout\n",
        "\n",
        "def solve_permited_moves(location):\n",
        "    \"\"\"\n",
        "    This function solves moves for empty tile\n",
        "    \"\"\"\n",
        "\n",
        "    moves = [1, -1, 3, -3]\n",
        "    permited_moves = []\n",
        "    for move in moves:\n",
        "        if 0 <= location + move < 9:\n",
        "            if move == 1 and (location == 2 or location == 5 or location == 8):\n",
        "                continue\n",
        "\n",
        "            if move == -1 and (location == 0 or location == 3 or location == 6):\n",
        "                continue\n",
        "\n",
        "            permited_moves.append(move)\n",
        "    return permited_moves\n",
        "\n",
        "def generate_new_permited_states(state):\n",
        "    empty_tile = state.index(0) # empty tile\n",
        "    permited_moves = solve_permited_moves(empty_tile)\n",
        "    new_states = []\n",
        "\n",
        "    for move in permited_moves:\n",
        "        new_state = copy.deepcopy(state)\n",
        "        (new_state[empty_tile + move], new_state[empty_tile]) = (new_state[empty_tile], new_state[empty_tile + move])\n",
        "        new_states.append(new_state)\n",
        "    return new_states\n",
        "\n",
        "def calculate_heuristic_value(state, goal, heuristic_function):\n",
        "    \"\"\"\n",
        "    Calculates value for estimation function depending on chosen heuristic function\n",
        "    \"\"\"\n",
        "    if heuristic_function == \"hamming\":\n",
        "        return calculate_hamming_distance(state, goal)\n",
        "    elif heuristic_function == \"city-block\":\n",
        "        return calculate_city_block_distance(state, goal)\n",
        "    elif heuristic_function == \"euclidean\":\n",
        "        return calculate_euclidean_distance(state, goal)\n",
        "    else:\n",
        "        print(\"Options are 'hamming', 'city-block' or 'euclidean'\")\n",
        "\n",
        "def sort_open_list(open_list, f_scores):\n",
        "    f_scores_tmp = []\n",
        "    for state, path in open_list:\n",
        "        f_scores_tmp.append(f_scores[string(state)])\n",
        "    return [x for y, x in sorted(zip(f_scores_tmp, open_list))]\n",
        "\n",
        "def string(list_of_strings):\n",
        "    \"\"\"Converts list of strings in to string\"\"\"\n",
        "    return \"\".join(list(map(str, list_of_strings)))\n",
        "\n",
        "def a_star(initial_state, goal, heuristic_function):\n",
        "    open_list = []\n",
        "    closed_list = []\n",
        "    path = []\n",
        "    g_scores = {}\n",
        "    f_scores = {}\n",
        "    g_scores[string(initial_state)] = 0\n",
        "    f_scores[string(initial_state)] = g_scores[string(initial_state)] + calculate_heuristic_value(initial_state, goal, heuristic_function)\n",
        "    state = [initial_state, path]\n",
        "    open_list.append(state)\n",
        "\n",
        "    while len(open_list) != 0:\n",
        "        open_list = sort_open_list(open_list, f_scores)\n",
        "        state, path = open_list.pop(0)\n",
        "        if state == goal:\n",
        "            new_path = path + [state]\n",
        "            return new_path, closed_list\n",
        "        closed_list.append(state)\n",
        "        new_states = generate_new_permited_states(state)\n",
        "        for new_state in new_states:\n",
        "            initial_g_score_value = g_scores[string(state)] + 1\n",
        "            if new_state in closed_list and initial_g_score_value >= g_scores[string(new_state)]:\n",
        "                continue\n",
        "            if new_state not in closed_list or initial_g_score_value < g_scores[string(new_state)]:\n",
        "                new_path = path + [state]\n",
        "                g_scores[string(new_state)] = initial_g_score_value\n",
        "                f_scores[string(new_state)] = g_scores[string(new_state)] + calculate_heuristic_value(new_state, goal, heuristic_function)\n",
        "                if new_state not in open_list:\n",
        "                    open_list.append([new_state, new_path])\n",
        "\n",
        "    print(\"Solution couldn't be found\")\n",
        "\n",
        "def solve_game(initial_state, goal, heuristic_function):\n",
        "    path, closed_list = a_star(initial_state, goal, heuristic_function)\n",
        "    for state in path:\n",
        "        clear_output(wait=True)\n",
        "        print(\"Initial state:\\n\"+ print_state(initial_state))\n",
        "        print(f\"\\nSolution with A*-search algorithm using {heuristic_function} distance:\\n\\n\" + print_state(state))\n",
        "        time.sleep(1)\n",
        "    print(f\"Solution was found in {len(path)-1} moves. And to find those algorithm searched in total {len(closed_list)} states\")"
      ]
    },
    {
      "cell_type": "markdown",
      "metadata": {
        "id": "PpYGNC2FnIuG"
      },
      "source": [
        "## Heuristic estimation functions\n",
        "\n",
        "The A * search algorithm requires a heuristic estimation function h(n) i.e. a cost estimate, from the state under study to the target state. A typical solution for a game is about 20 moves long and its branching factor i.e. how many moves can be performed on average in one turn is 2.66. This means that a thorough search from the depth of 20 movements goes through $2.66 ^ {20} = 3.15 * 10 ^ {8}$ space. For this reason, it is especially important to find the best possible heuristic function for an 8-puzzle game. Good options for heuristic functions are **Hamming distance**, **city-block distance** (also known as manhattan distance) and **Euclidean distance**.\n",
        "\n",
        "* Hamming Distance: Counts the number of tiles in the wrong places. A state with few tiles in the wrong places is presumably closer to the target state than, for example, a state with all tiles in the wrong places.\n",
        "\n",
        "* City-block distance: Calculates the horizontal and vertical absolute distance for each tile from the corresponding target space tile and finally sums them together. $h_{2}(n) = \\sum\\limits_{i = 1} ^ {8} | a_ {ix} - b_ {ix} | + | a_ {iy} - b_ {iy} |$, where $ a_ {ix} $ is the x-coordinate of the i-th tile of the initial state and $ b_ {iy} $ is the y-coordinate of the i-th tile of the target state.\n",
        "\n",
        "* Euclidean distance: Calculates the sum of the horizontal and vertical distances squared for each slab from the corresponding target space slab, takes the square root of the sum, and finally sums the square roots together. $h_{3}(n) = \\sum\\limits_{i=1}^{8} \\sqrt{(a_{ix} - b_{ix})^2 + (a_{iy} - b_{iy})^2}$.\n",
        "\n",
        "The Hamming distance for the situation in Figure 2 is $h_ {1}(n) = 4$, because four of the initial state tiles are in the wrong places compared to the target state. The city-block distance is calculated for Figure 2 as follows: $ h_ {2} (n) = 1 + 0 + 0 + 3 + 2 + 0 + 2 + 0 = 8$. The Euclidean distance, in turn, for the situation in Figure 2 is: $h_ {3}(n) = 1 + 0 + 0 + \\sqrt {5} + \\sqrt {2} + 0 + 2 + 0 \\approx 6.65$. The blank tile in the initial state has no effect on the values of the heuristic functions.\n",
        "\n",
        "In the A * search algorithm, the depth of the game tree has been used as the path cost estimate $g(n)$. In the algorithm, unexamined states are stored in an open list and processed states in a closed list. Finally, after the algorithm finds a solution, a path is built from the initial state to the target state."
      ]
    },
    {
      "cell_type": "markdown",
      "metadata": {
        "id": "utk-DcaTnIuG"
      },
      "source": [
        "### Euclidean distance heuristic function\n",
        "\n",
        "Heuristic evaluation functions take the state under study and the target state as arguments. The state under study and the target state are implemented as lists of 9 items, where a value of 0 represents an empty tile. The values in the list run from the upper left corner of the game board to the lower right corner. The initial state in the list in Figure 2 is ***initial state = [7,2,3,1,0,6,5,8,4]*** and the target state is ***target state = [1,2,3,4,5,6,7,8,0]***.\n",
        "\n",
        "As an example a heuristic Euclidean-distance estimation function is implemented. Your task is to implement the Hamming-distance estimation function and the city-block-distance estimation function and test their performance for the initial state and the target state in Figure 2."
      ]
    },
    {
      "cell_type": "code",
      "execution_count": 11,
      "metadata": {
        "id": "DRQQGnKGnIuG"
      },
      "outputs": [],
      "source": [
        "def calculate_euclidean_distance(state, goal):\n",
        "    \"\"\"\n",
        "    This function calculates euclidean distance from state to goal\n",
        "    \"\"\"\n",
        "\n",
        "    # Initialize variable euclidean_value with 0\n",
        "    euclidean_score = 0\n",
        "    # Loop through 1 to 8\n",
        "    for tile_score in range(1, 9):\n",
        "        # Determine for the state and the target state where in the matrix the value of the tile is (e.g. state_x refers to the tile's horizontal coordinate)\n",
        "        (state_x, state_y) = (state.index(tile_score) // 3, state.index(tile_score) % 3)\n",
        "        (goal_x, goal_y) = (goal.index(tile_score) // 3, goal.index(tile_score) % 3)\n",
        "        # Calculate for each tile squared horizontal and vertical distance and add their sum's square root into variable euclidean_score\n",
        "        euclidean_score += ((goal_x-state_x)**2 + (goal_y - state_y)**2)**0.5\n",
        "\n",
        "    return euclidean_score"
      ]
    },
    {
      "cell_type": "markdown",
      "metadata": {
        "id": "rTPpXL84nIuG"
      },
      "source": [
        "check that euclidean distance heuristic function returns ~6,65 which was calculated above"
      ]
    },
    {
      "cell_type": "code",
      "execution_count": 12,
      "metadata": {
        "id": "xKd9R4xunIuG",
        "colab": {
          "base_uri": "https://localhost:8080/"
        },
        "outputId": "de11db18-878e-418c-c9a7-d7f2e2215bdf"
      },
      "outputs": [
        {
          "output_type": "stream",
          "name": "stdout",
          "text": [
            "Euclideam distance for initial state is: 6.650281539872885\n"
          ]
        }
      ],
      "source": [
        "# Define initial state and goal according to figure 2\n",
        "initial_state = [7,2,3,1,0,6,5,8,4]\n",
        "goal = [1,2,3,4,5,6,7,8,0]\n",
        "\n",
        "# Check that function returns correct value\n",
        "print('Euclideam distance for initial state is: {}'.format(calculate_euclidean_distance(initial_state, goal)))"
      ]
    },
    {
      "cell_type": "markdown",
      "metadata": {
        "id": "5lL0z1c0nIuG"
      },
      "source": [
        "After this solve game for initial state using euclidean distance as heuristic function"
      ]
    },
    {
      "cell_type": "code",
      "execution_count": 13,
      "metadata": {
        "id": "193BrfBlnIuG",
        "colab": {
          "base_uri": "https://localhost:8080/"
        },
        "outputId": "ffe81f5b-760e-47f0-a5e1-c62618917a98"
      },
      "outputs": [
        {
          "output_type": "stream",
          "name": "stdout",
          "text": [
            "Initial state:\n",
            "+---+---+---+\n",
            "| 7 | 2 | 3 |\n",
            "+---+---+---+\n",
            "| 1 |   | 6 |\n",
            "+---+---+---+\n",
            "| 5 | 8 | 4 |\n",
            "+---+---+---+\n",
            "\n",
            "\n",
            "Solution with A*-search algorithm using euclidean distance:\n",
            "\n",
            "+---+---+---+\n",
            "| 1 | 2 | 3 |\n",
            "+---+---+---+\n",
            "| 4 | 5 | 6 |\n",
            "+---+---+---+\n",
            "| 7 | 8 |   |\n",
            "+---+---+---+\n",
            "\n",
            "Solution was found in 18 moves. And to find those algorithm searched in total 397 states\n"
          ]
        }
      ],
      "source": [
        "# Solve game using euclidean distance\n",
        "solve_game(initial_state, goal, 'euclidean')"
      ]
    },
    {
      "cell_type": "markdown",
      "metadata": {
        "id": "-UEewpAOnIuG"
      },
      "source": [
        "### Hamming distance estimation function\n",
        "\n",
        "Implement heuristic hamming distance function"
      ]
    },
    {
      "cell_type": "code",
      "source": [
        "def calculate_hamming_distance(state, goal):\n",
        "    \"\"\"\n",
        "    This function calculates hamming distance for target state\n",
        "    \"\"\"\n",
        "    # Initialize variable hamming_score with 0\n",
        "    hamming_score = 0\n",
        "\n",
        "    # Loop through tile's values from 1 to 8\n",
        "    for tile_value in range(1, 9):\n",
        "        # Figure out for state and goal what is the index of a value in given state (e.g state_index is index of tile's value in state parameter). Tip: .index())\n",
        "        state_index = state.index(tile_value)\n",
        "        goal_index = goal.index(tile_value)\n",
        "\n",
        "        # if tile value's index is not equal to goal  value's index\n",
        "        if state_index != goal_index:\n",
        "            # increment hamming_score by 1\n",
        "            hamming_score += 1\n",
        "\n",
        "    # at the end return hamming_score\n",
        "    return hamming_score\n"
      ],
      "metadata": {
        "id": "VWEdMOgrZnRa"
      },
      "execution_count": 14,
      "outputs": []
    },
    {
      "cell_type": "markdown",
      "metadata": {
        "id": "ciIC6omSnIuH"
      },
      "source": [
        "Confirm that calculate_hamming_distance function returns 4 which was calculated above"
      ]
    },
    {
      "cell_type": "code",
      "execution_count": 15,
      "metadata": {
        "id": "BACFGSEDnIuH",
        "colab": {
          "base_uri": "https://localhost:8080/"
        },
        "outputId": "48e6e314-c512-486d-87ec-b5638de0bb54"
      },
      "outputs": [
        {
          "output_type": "stream",
          "name": "stdout",
          "text": [
            "Hamming-distance for initial state is: 4\n"
          ]
        }
      ],
      "source": [
        "# Confirm that right value is returned\n",
        "print('Hamming-distance for initial state is: {}'.format(calculate_hamming_distance(initial_state, goal)))"
      ]
    },
    {
      "cell_type": "markdown",
      "metadata": {
        "id": "-91dVe1_nIuH"
      },
      "source": [
        "After this solve game using hamming distance"
      ]
    },
    {
      "cell_type": "code",
      "execution_count": 16,
      "metadata": {
        "id": "u07unyDunIuH",
        "colab": {
          "base_uri": "https://localhost:8080/"
        },
        "outputId": "6333b233-a578-4d12-87a8-50960e24364f"
      },
      "outputs": [
        {
          "output_type": "stream",
          "name": "stdout",
          "text": [
            "Initial state:\n",
            "+---+---+---+\n",
            "| 7 | 2 | 3 |\n",
            "+---+---+---+\n",
            "| 1 |   | 6 |\n",
            "+---+---+---+\n",
            "| 5 | 8 | 4 |\n",
            "+---+---+---+\n",
            "\n",
            "\n",
            "Solution with A*-search algorithm using hamming distance:\n",
            "\n",
            "+---+---+---+\n",
            "| 1 | 2 | 3 |\n",
            "+---+---+---+\n",
            "| 4 | 5 | 6 |\n",
            "+---+---+---+\n",
            "| 7 | 8 |   |\n",
            "+---+---+---+\n",
            "\n",
            "Solution was found in 18 moves. And to find those algorithm searched in total 1514 states\n"
          ]
        }
      ],
      "source": [
        "# Solve game with hamming distance heuristic function\n",
        "solve_game(initial_state, goal, 'hamming')"
      ]
    },
    {
      "cell_type": "markdown",
      "metadata": {
        "id": "OIyoXtPinIuH"
      },
      "source": [
        "### City-block distance estimation function\n",
        "\n",
        "Implement heuristic city-block distance function"
      ]
    },
    {
      "cell_type": "code",
      "source": [
        "def calculate_city_block_distance(state, goal):\n",
        "    \"\"\"\n",
        "    This function calculates city_block_distance from state to goal\n",
        "    \"\"\"\n",
        "    #-------- YOUR CODE HERE --------\n",
        "    # Initialize variable city_block_score with 0\n",
        "    city_block_score = 0\n",
        "\n",
        "    # Loop through 1 to 8\n",
        "    for tile_score in range(1, 9):\n",
        "        # Determine for the state and the goal state where in the matrix the value of the tile is (e.g. state_x is tile's horizontal coordinate and state_y is tile's vertical coordinate)\n",
        "        (state_x, state_y) = (state.index(tile_score) // 3, state.index(tile_score) % 3)\n",
        "        (goal_x, goal_y) = (goal.index(tile_score) // 3, goal.index(tile_score) % 3)\n",
        "\n",
        "        # Calculate for each tile horizontal and vertical absolute distances and add them to variable city_block_score\n",
        "        city_block_score += abs(goal_x - state_x) + abs(goal_y - state_y)\n",
        "\n",
        "    # Finally return city_block_score\n",
        "    return city_block_score\n",
        "    #-------------------------------------"
      ],
      "metadata": {
        "id": "Woz0eBALaD-i"
      },
      "execution_count": 17,
      "outputs": []
    },
    {
      "cell_type": "markdown",
      "metadata": {
        "id": "sNeOPodgnIuH"
      },
      "source": [
        "Confirm that city-block-distance is calculated correctly. According to calculation above it should be 8"
      ]
    },
    {
      "cell_type": "code",
      "execution_count": 18,
      "metadata": {
        "id": "Z45auhNrnIuH",
        "colab": {
          "base_uri": "https://localhost:8080/"
        },
        "outputId": "1219265d-beb4-4e12-b933-5a647483e0a7"
      },
      "outputs": [
        {
          "output_type": "stream",
          "name": "stdout",
          "text": [
            "City-block distance for initial state is: 8\n"
          ]
        }
      ],
      "source": [
        "# Confirm that function returns correct value\n",
        "print('City-block distance for initial state is: {}'.format(calculate_city_block_distance(initial_state, goal)))"
      ]
    },
    {
      "cell_type": "markdown",
      "metadata": {
        "id": "e16TcTsXnIuI"
      },
      "source": [
        "After this let's solve game with city-block distance"
      ]
    },
    {
      "cell_type": "code",
      "execution_count": 19,
      "metadata": {
        "id": "52jI5TyinIuI",
        "colab": {
          "base_uri": "https://localhost:8080/"
        },
        "outputId": "235b021b-c671-426f-ff76-7846ff066c67"
      },
      "outputs": [
        {
          "output_type": "stream",
          "name": "stdout",
          "text": [
            "Initial state:\n",
            "+---+---+---+\n",
            "| 7 | 2 | 3 |\n",
            "+---+---+---+\n",
            "| 1 |   | 6 |\n",
            "+---+---+---+\n",
            "| 5 | 8 | 4 |\n",
            "+---+---+---+\n",
            "\n",
            "\n",
            "Solution with A*-search algorithm using city-block distance:\n",
            "\n",
            "+---+---+---+\n",
            "| 1 | 2 | 3 |\n",
            "+---+---+---+\n",
            "| 4 | 5 | 6 |\n",
            "+---+---+---+\n",
            "| 7 | 8 |   |\n",
            "+---+---+---+\n",
            "\n",
            "Solution was found in 18 moves. And to find those algorithm searched in total 241 states\n"
          ]
        }
      ],
      "source": [
        "# Solve game using city-block distance\n",
        "solve_game(initial_state, goal, 'city-block')"
      ]
    },
    {
      "cell_type": "markdown",
      "metadata": {
        "id": "ewdmzX_OnIuI"
      },
      "source": [
        "**Which function was best for this problem based on ammount of explored states?**\n",
        "\n",
        "`Although all solution were performed based on 18 movements, the city-block distance estimation function explored the least spaces leading to the faster solution.\n",
        "City-block esplored 241 states.\n",
        "Euclideanexplored 397 states.\n",
        "Hamming explored 1514 states.`"
      ]
    },
    {
      "cell_type": "markdown",
      "metadata": {
        "id": "CH7fSlAYnIuI"
      },
      "source": [
        "# Feedback\n",
        "Finally answer the following questions"
      ]
    },
    {
      "cell_type": "markdown",
      "metadata": {
        "id": "kCXpPwKMnIuI"
      },
      "source": [
        "**How much time did you spent on this exercise?**\n",
        "\n",
        "`Although the main part has been provided, it still requires a lot of time to figure the solution out, especially the city-block. It is better to make it even easier for the first exercise. However, I did like the puzzle solution and the way of illustration while it was solving the problem.`"
      ]
    },
    {
      "cell_type": "markdown",
      "metadata": {
        "id": "scuFaKBqnIuI"
      },
      "source": [
        "**Did you face any problems during this exercise? Was notebook material enough for doing this exercise?**\n",
        "\n",
        "`Your answer here`"
      ]
    },
    {
      "cell_type": "markdown",
      "metadata": {
        "id": "101keNOTnIuI"
      },
      "source": [
        "**Other feedback related to this exercise**\n",
        "\n",
        "`Your answer here`"
      ]
    },
    {
      "cell_type": "markdown",
      "metadata": {
        "collapsed": true,
        "jupyter": {
          "outputs_hidden": true
        },
        "id": "1sTUMR4-nIuL"
      },
      "source": [
        "# Returning the exercise\n",
        "\n",
        "1. Before you return this notebook **make sure that code in notebook works properly** and returns all necessary values by choosing from menu `Kernel -> Restart & Run All`! also make sure you have answer all questions on **bold**\n",
        "2. Empty all outputs and variables by choosing from menu `Kernel -> Restart & Clear Output`. This step reduces the size of notebook remarkably\n",
        "3. Rename this notebook in following format **`JT_H1_[student_number(s)].ipynb`** (e.g `JT_H1_1234567.ipynb` or if you have group `JT_H1_1234567_2345678_3456789.ipynb`)\n",
        "4. Return **only** solved notebook(`file ending with .ipynb`) to moodle programming exercise 1. Everyone must return file to moodle even if you work in a group. **Don't include working directory or other files** when you return the exercise.\n",
        "5. Finally go answer questions in moodle related to programming exercise 1. Everyone in your group must answer to questions."
      ]
    }
  ],
  "metadata": {
    "kernelspec": {
      "display_name": "Python 3 (ipykernel)",
      "language": "python",
      "name": "python3"
    },
    "language_info": {
      "codemirror_mode": {
        "name": "ipython",
        "version": 3
      },
      "file_extension": ".py",
      "mimetype": "text/x-python",
      "name": "python",
      "nbconvert_exporter": "python",
      "pygments_lexer": "ipython3",
      "version": "3.8.13"
    },
    "colab": {
      "provenance": [],
      "include_colab_link": true
    }
  },
  "nbformat": 4,
  "nbformat_minor": 0
}