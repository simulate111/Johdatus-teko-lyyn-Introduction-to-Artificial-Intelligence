{
 "cells": [
  {
   "cell_type": "code",
   "execution_count": null,
   "metadata": {},
   "outputs": [],
   "source": [
    "import os\n",
    "\n",
    "from onedrivedownloader import download\n",
    "\n",
    "link2data = 'https://unioulu-my.sharepoint.com/:u:/g/personal/jukmaatt_univ_yo_oulu_fi/ESs3tMxzs1JOp7-IfspuD24BC53tZacALcyeejw5DF6T_Q?e=JdnssV'\n",
    "\n",
    "if not os.path.exists('./kuvat'):\n",
    "    print('Downloading data')\n",
    "    download(link2data, filename='./kuvat.zip', unzip=True, unzip_path='./')"
   ]
  },
  {
   "cell_type": "markdown",
   "metadata": {},
   "source": [
    "# <center>521160P Johdatus Tekoälyyn<br><br>Harjoitusmateriaali<br><br>Hakualgoritmit<br>\n",
    "\n",
    "Monet arkielämästä tutut hakuongelmat voidaan muokata ratkaistavaksi hakualgoritmeilla. Tyypillinen esimerkki tästä on navigointiongelma, jossa pyritään löytämään mahdollisimman lyhyt ja nopea reitti **alkutilasta** **tavoitetilaan**. Ongelman hakuavaruus voidaan kuvata suunnattuna graafina tai puukaaviona, joissa solmut kuvaavat **sallittuja tiloja** ja niiden väliset linkit kuvaavat liikkeitä/siirtymiä. Usein kaikki mahdolliset liikkeet eivät ole sallittuja, sillä kyseessä voi olla **aiemmin käsitelty tila** tai tutkittava tila on jo etukäteen määritetty **kielletyksi tilaksi**. Tällöin aiemmin käsitellyt tilat ja kielletyt tilat jätetään kokonaan tutkimatta.\n",
    "\n",
    "### Sokeat hakustrategiat (engl. uninformed search)\n",
    "\n",
    "Sokeissa hakustrategioissa tutkittavien tilojen hyvyydestä ei ole etukäteen mitään tietoa. Yleisimmät sokeat hakustrategiat ovat **leveyshaku** ja **syvyyshaku**. Leveyshaussa käydään läpi puukaavion yksi taso kerrallaan, ennen kuin siirrytään tutkimaan seuraavaa tasoa. Syvyyshaussa puolestaan edetään puukaaviossa mahdollisimman syvälle tunnetuista tiloista, ja kun tutkittavan haaran päätepiste saavutetaan, jatketaan tutkimista seuraavaksi syvimmästä tiedossa olevasta tilasta. Molemmissa hakustrategioissa haku pysähtyy, kun tavoitetila löydetään.\n",
    "\n",
    "Leveyshaku ja syvyyshaku tarvitsevat ns. **avoimen listan** (engl. open list), johon tallennetaan tiedossa olevat tutkimattomat tilat sekä ns. **suljetun listan** (engl. closed list), johon tallennetaan käsitellyt tilat. Menetelmäteknisesti niiden ainoa ero on, että leveyshaussa uudet tutkimattomat tilat tallennetaan jonoon, kun taas syvyyshaussa uudet tutkimattomat tilat tallennetaan pinoon. Jonossa tutkimattomat tilat tallennetaan listan perälle ja seuraavaksi tutkittavaksi tilaksi valitaan listan ensimmäinen alkio (engl. first-in-first-out, FIFO). Pinossa tutkimattomat tilat tallennetaan listan alkuun ja seuraavaksi tutkittavaksi tilaksi valitaan listan ensimmäinen alkio (engl. last-in-first-out, LIFO). Kuvassa 1 on havainnollistettu, miten syvyyshaun ja leveyshaun hakustrategiat eroavat samalle puukaaviolle. Tilojen väri- ja numeroarvot kertovat tutkimisjärjestyksen.\n",
    "\n",
    "<br>\n",
    "<div style=\"width:image width px; font-size:80%; text-align:center;\">\n",
    "    <center>\n",
    "    <img src='kuvat/kuva1.png' width='1000' height='auto' style='padding-bottom:0.5em;' />\n",
    "    </center>\n",
    "    <span>Kuva 1. Syvyyshaun ja leveyshaun hakustrategiat eroavat toisistaan.</span>\n",
    "</div>\n",
    "<br>\n",
    "\n",
    "### Tietoiset hakustrategiat (engl. informed search)\n",
    "\n",
    "Useimmissa tapauksissa hakuavaruus on niin suuri, että leveyshakua tai syvyyshakua käyttämällä tavoitetilan löytäminen vie suhteettoman kauan aikaa. Tällöin tilojen kombinatorisen räjähdyksen hillitsemiseksi voidaan käyttää heuristista arviointifunktiota tilojen paremmuuden selvittämiseksi. Arvioidut tilat tallennetaan prioriteettilistaan, josta seuraavan tutkittavan tilan poimintaan käytetään paras-ensin-hakustrategiaa (engl. best-first strategy).\n",
    "\n",
    "**Heuristinen funktio h(n)** on määritelmän mukaan kustannusarvio tutkittavasta tilasta tavoitetilaan. Kun heuristiseen funktioon lisätään vielä tutkittavan **polun kustannusarvio g(n)**, saadaan yhtälöä (1) noudattava **A\\*-hakualgoritmi**.\n",
    "\n",
    "\\begin{equation}\n",
    "f(n) = h(n) + g(n) \\tag{1}\n",
    "\\end{equation}\n",
    "\n",
    "A\\*-hakualgoritmi löytää aina optimaalisimman reitin, **mikäli kustannusarvio h(n) tutkittavasta tilasta tavoitetilaan ei yliarvioi kustannusta** [1]. A\\*-hakualgoritmin optimaalisuusehdon täyttyessä se karsii huomattavan osan hakuavaruudesta toimien varsin tehokkaasti.\n",
    "\n",
    "### Kahden henkilön pelattavat nolla-summapelit\n",
    "\n",
    "Tekoälyä käytetään nykyään erilaisissa tietokone- ja videopeleissä. Yksinkertaisissa deterministisissä kahden henkilön pelattavissa nollasumma-peleissä hakualgoritmeista ei ole apua, joten on turvauduttava erilaiseen lähestymistapaan. Tällöin voidaan käyttää **Minimax-algoritmia**.\n",
    "\n",
    "Minimax-algoritmi arvioi pelipuun liikkeitä, jotka johtavat päätetiloihin. Algoritmissa tekoälyä kutsutaan maksimoivaksi pelaajaksi ja vastustajaa minimoivaksi pelaajaksi. Maksimoiva pelaaja yrittää saavuttaa liikkeillään suurimman mahdollisen tuloksen, kun taas minimoiva pelaaja yrittää minimoida tuloksen vastaliikkeillä. Tarkastellaan esimerkkinä tilannetta, jossa tekoälyllä on kaksi vaihtoehtoista liikettä, jotka johtavat joko voittoon tai häviöön tai pelkästään tasapeliin. Tekoäly olettaa, että minimoiva pelaaja pelaa täydellisesti ja tulee valitsemaan voittavan liikkeen, jos saa siihen mahdollisuuden. Tästä syystä tekoäly valitsee varmana liikkeenä tasapelin.\n",
    "\n",
    "Jätkänshakissa eli 3x3 ristinollassa on kolmenlaisia päätetiloja, joille voidaan antaa seuraavat numeroarvot: voitto +1, häviö -1 ja tasapeli 0. Kuvassa 2 on esimerkkitilanne jätkänshakin pelipuusta, kun peli on lähellä päättymistä. Aluksi Minimax-algoritmi luo koko pelipuun ylhäältä alas päätetiloihin asti. Tämän jälkeen päätetilat arvioidaan antamalla niille arvot +1, -1 tai 0 pelin lopputuloksen perusteella. Seuraavaksi algoritmi siirtyy pelipuussa ylöspäin pakaten numeroarvoja sen mukaan, onko kyseessä maksimoivan vai minimoivan pelaajan vuoro. Jos kyseessä on maksimoivan pelaajan vuoro, merkataan solmuun suurin haarojen arvoista. Vastaavasti jos kyseessä on minimoivan pelaajan vuoro, merkataan solmuun pienin haarojen arvoista. Kerros kerrallaan numeroarvot pakataan aina pelipuun ylimpään solmuun asti. Kuvan 2 ylimmässä solmussa on lopulta vaihtoehtoina arvot +1, -1 ja 0, ja koska kyseessä on maksimoivan pelaajan vuoro, valitsee algoritmi vaihtoehdoista suurimman arvon +1 eli voiton.\n",
    "\n",
    "<br>\n",
    "<div style=\"width:image width px; font-size:80%; text-align:center;\">\n",
    "    <center>\n",
    "    <img src='kuvat/kuva2.jpg' width='600' height='auto' style='padding-bottom:0.5em;' />\n",
    "    </center>\n",
    "    <span>Kuva 2. Jätkänshakin pelipuu saadaan ratkaistua Minimax-algoritmilla.</span>\n",
    "</div>\n",
    "<br>\n",
    "\n",
    "Jätkänshakin hakuavaruus koostuu 255 168 hakupuusta/päätetilasta mutta ottamalla huomioon pelilaudan symmetriat eli rotaatiot ja käännöt, pienenee hakuavaruus 31 596 hakupuuhun. Monissa muissa peleissä kuten shakissa tai Go:ssa hakuavaruus on niin iso, että Minimax-algoritmilta menee äärettömän kauan koko pelipuun tutkimiseksi. Yksi hyvä ratkaisu mahdollisimman hyvän liikkeen löytämiseksi siedettävässä ajassa on katkaista haku ennalta määrätyltä syvyydeltä ja antaa tämän syvyyden päätetiloille arvo erillistä arviointifunktiota käyttäen. Lisäksi voidaan käyttää hakuavaruuden rajaamiseksi **Alpha-beta-karsintaa** (engl. alpha-beta pruning), joka karsii pois haarat, jotka eivät vaikuta tekoälyn lopulliseen päätökseen. Alpha-beta-karsinta tuottaa saman lopputuloksen kuin Minimax-algoritmi mutta nopeammassa ajassa. Parhaassa tapauksessa samalla määrällä laskutoimituksia Alpha-beta-karsinnalla voidaan tutkia kaksi kertaa syvemmältä kuin Minimax-algoritmilla [1].\n",
    "\n",
    "## Lähteet\n",
    "\n",
    "[1] Russell S. & Norvig P. (2009) Artificial Intelligence : A Modern Approach (third edition). Prentice-Hall\n",
    "\n"
   ]
  },
  {
   "cell_type": "code",
   "execution_count": null,
   "metadata": {},
   "outputs": [],
   "source": []
  }
 ],
 "metadata": {
  "kernelspec": {
   "display_name": "Python 3 (ipykernel)",
   "language": "python",
   "name": "python3"
  },
  "language_info": {
   "codemirror_mode": {
    "name": "ipython",
    "version": 3
   },
   "file_extension": ".py",
   "mimetype": "text/x-python",
   "name": "python",
   "nbconvert_exporter": "python",
   "pygments_lexer": "ipython3",
   "version": "3.8.13"
  }
 },
 "nbformat": 4,
 "nbformat_minor": 4
}
