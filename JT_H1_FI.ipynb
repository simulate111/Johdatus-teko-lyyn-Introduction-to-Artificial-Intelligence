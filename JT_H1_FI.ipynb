{
 "cells": [
  {
   "cell_type": "code",
   "execution_count": 1,
   "metadata": {},
   "outputs": [],
   "source": [
    "import os\n",
    "import copy\n",
    "import time\n",
    "import queue\n",
    "import random\n",
    "from IPython.display import clear_output"
   ]
  },
  {
   "cell_type": "code",
   "execution_count": null,
   "metadata": {},
   "outputs": [],
   "source": [
    "from onedrivedownloader import download\n",
    "\n",
    "link2data = 'https://unioulu-my.sharepoint.com/:u:/g/personal/jukmaatt_univ_yo_oulu_fi/ESs3tMxzs1JOp7-IfspuD24BC53tZacALcyeejw5DF6T_Q?e=JdnssV'\n",
    "\n",
    "if not os.path.exists('./kuvat'):\n",
    "    print('Downloading data')\n",
    "    download(link2data, filename='./kuvat.zip', unzip=True, unzip_path='./')"
   ]
  },
  {
   "cell_type": "markdown",
   "metadata": {},
   "source": [
    "# <center>521160P Johdatus Tekoälyyn<br><br>Harjoitus #1<br><br>Hakualgoritmit<br>\n",
    "\n",
    "Tässä harjoituksessa käsitellään syvyyshakua ja leveyshakua joenylitysongelman ratkaisemiseksi ja luodaan heuristisia arviointifunktioita 8-puzzle pelille. **Katso harjoitukseen liittyvät palautuksen deadline moodlesta**. Harjoituksesta on mahdollisuus saada 4 pistettä (2.0p + 2.0p).\n",
    "\n",
    "Jos kohtaat ongelmia harjoitusta tehdessäsi tai sinulla on kysyttävää harjoituksien käytäntöihin liittyen, ole yhteydessä **Moodlesta** löytyvän **ohjelmointiharjoitus 1** foorumin kautta."
   ]
  },
  {
   "cell_type": "markdown",
   "metadata": {},
   "source": [
    "**Täytä aluksi ryhmäsi jäsenten tiedot (nimi ja opiskelijanumero)**\n",
    "\n",
    "# Ryhmän jäsenten tiedot:\n",
    "\n",
    "* **Jäsen 1 :** `Matti Meikäläinen 1234567 `\n",
    "* **Jäsen 2 :** `Maija Meikäläinen 2345678 `\n",
    "* **Jäsen 3 :** `... `"
   ]
  },
  {
   "cell_type": "markdown",
   "metadata": {},
   "source": [
    "# Tehtävä 1. Susi, lammas, kaali ja paimen joenylitysongelma syvyyshaulla ja leveyshaulla\n",
    "\n",
    "<br>\n",
    "<div style=\"width:image width px; font-size:80%; text-align:center;\">\n",
    "    <center>\n",
    "    <img src='kuvat/rivercrossingpuzzle.png' width='700' height='auto' alt='alternate text' style='padding-bottom:0.5em;' />\n",
    "    </center>\n",
    "    <span>Kuva 1. Susi, lammas, kaali ja paimen joenylitysongelman alkutilanne.</span>\n",
    "</div>\n",
    "<br>\n",
    "\n",
    "Ongelman kuvaus: Paimen kuljettaa soutuveneellä meritietä pitkin suden, lampaan ja kaalin saareen. Soutuvene on pieni, joten siihen mahtuu paimenen lisäksi vain yksi objekti kerrallaan. Paimenen tehtävää rajoittaa seuraavat ehdot: \n",
    "\n",
    "* Lammasta ei saa jättää yksin kaalin kanssa samalle puolelle, sillä silloin lammas syö kaalin. \n",
    "\n",
    "* Sutta ei saa jättää yksin lampaan kanssa samalle puolelle, sillä silloin susi syö lampaan.\n",
    "\n",
    "Auta paimenta löytämään oikeat liikkeet päästäkseen saareen suden, lampaan ja kaalin kanssa käyttämällä **leveyshakua** ja **syvyyshakua**. Määritetään aluksi peliin osallistuvat objektit sekä kuvan 1 mukainen pelin alkutilanne, jossa kaikki objektit ovat mantereella ja saaressa ei ole ketään."
   ]
  },
  {
   "cell_type": "code",
   "execution_count": 5,
   "metadata": {},
   "outputs": [
    {
     "name": "stdout",
     "output_type": "stream",
     "text": [
      "Alkutilanteessa mantereella on ['K', 'L', 'P', 'S'] ja saaressa on []\n"
     ]
    }
   ],
   "source": [
    "objektit = sorted(['S','L','K','P']) # sorted() komento huolehtii, että susi, lammas, kaali ja paimen ovat listassa aakkosjärjestyksessä\n",
    "saari = sorted([])\n",
    "manner = copy.deepcopy(objektit)\n",
    "print('Alkutilanteessa mantereella on {} ja saaressa on {}'.format(manner, saari))"
   ]
  },
  {
   "cell_type": "markdown",
   "metadata": {},
   "source": [
    "Toteutetaan tämän jälkeen apufunktioita ongelman rajoitteiden määrittämiseksi."
   ]
  },
  {
   "cell_type": "code",
   "execution_count": 3,
   "metadata": {},
   "outputs": [],
   "source": [
    "def paimen_saaressa(saari):\n",
    "    \"\"\"\n",
    "    Tässä funktiossa tarkistetaan onko paimen saaressa vai mantereella. Jos paimen on saaressa, palautetaan totuusarvo True.\n",
    "    Muussa tapauksessa palautetaan totuusarvo False.\n",
    "    \"\"\"\n",
    "    if 'P' in saari:\n",
    "        return True\n",
    "    return False\n",
    "\n",
    "def objektit_saaressa(objektit, manner):\n",
    "    \"\"\"\n",
    "    Tässä funktiossa selvitetään objektit saaressa, kun tiedossa on mitä objekteja on mantereella.\n",
    "    Poistetaan kaikista peliin osallistuvista objekteista mantereen objektit, jolloin saadaan saaressa olevat objektit.\n",
    "    \"\"\"\n",
    "    return [objekti for objekti in objektit if objekti not in manner]\n",
    "\n",
    "def laillinen_tila(objektit, manner):\n",
    "    \"\"\"\n",
    "    Tässä funktiossa tarkistetaan, onko toteutettavasta liikkeestä aiheutunut tila laillinen molemmilla puolin meritietä.\n",
    "    Jos liike on laiton, palautetaan totuusarvo False. Muussa tapauksessa palautetaan totuusarvo True.\n",
    "    \"\"\"\n",
    "    saari = objektit_saaressa(objektit, manner)\n",
    "    # Jos paimen on saaressa, (susi ja lammas) tai (lammas ja kaali) ei saa olla mantereella.\n",
    "    if paimen_saaressa(saari):\n",
    "        if ('S' in manner and 'L' in manner) or ('L' in manner and 'K' in manner):\n",
    "            return False\n",
    "        return True\n",
    "    # Jos paimen on mantereella, (susi ja lammas) tai (lammas ja kaali) ei saa olla saaressa.\n",
    "    else:\n",
    "        if ('S' in saari and 'L' in saari) or ('L' in saari and 'K' in saari):\n",
    "            return False\n",
    "        return True\n",
    "\n",
    "def generoi_uudet_lailliset_mantereet(objektit, manner):\n",
    "    \"\"\"\n",
    "    Tässä funktiossa generoidaan uudet lailliset tilat mantereelle.\n",
    "    \"\"\"\n",
    "    manner = copy.deepcopy(manner)\n",
    "    uudet_mantereet = [] # alustetaan uudet_mantereet lista\n",
    "    saari = objektit_saaressa(objektit, manner)\n",
    "    if paimen_saaressa(saari):\n",
    "        saari.remove('P') # vähintään paimen liikkuu pois saaresta mantereelle\n",
    "        manner.append('P')\n",
    "        if laillinen_tila(objektit, manner):\n",
    "            uudet_mantereet.append(sorted(manner))\n",
    "        for objekti in saari:\n",
    "            manner_tmp = manner + [objekti]\n",
    "            if laillinen_tila(objektit, manner_tmp):\n",
    "               uudet_mantereet.append(sorted(manner_tmp))\n",
    "    else:\n",
    "        manner.remove('P') # vähintään paimen liikkuu pois mantereelta saareen\n",
    "        saari.append('P')\n",
    "        if laillinen_tila(objektit, manner):\n",
    "            uudet_mantereet.append(sorted(manner))\n",
    "        manner_tmp = copy.deepcopy(manner)\n",
    "        for objekti in manner:\n",
    "            manner_tmp.remove(objekti)\n",
    "            if laillinen_tila(objektit, manner_tmp):\n",
    "               uudet_mantereet.append(sorted(manner_tmp))\n",
    "            manner_tmp.append(objekti)\n",
    "    return uudet_mantereet\n",
    "\n",
    "def tulosta_liikkeet(objektit, polku):\n",
    "    \"\"\"\n",
    "    Tässä funktiossa tulostetaan tehdyt liikkeet, kun valmis polku on löydetty.\n",
    "    \"\"\"\n",
    "    print('     Manner' + ' '*23 + 'Vene' +' '*28 + 'Saari')\n",
    "    for i, manner in enumerate(polku):\n",
    "        saari = objektit_saaressa(objektit, manner)\n",
    "        if paimen_saaressa(saari):\n",
    "            print('     {}'.format(manner) + ' '*(61-len(str(manner))) + '{}'.format(saari))\n",
    "            if i<len(polku)-1:\n",
    "                vene = [x for x in saari if x not in objektit_saaressa(objektit, polku[i+1])]\n",
    "                print('{}.   '.format(i+1) + ' '*27 + '<-{}'.format(vene))\n",
    "        else:\n",
    "            print('     {}'.format(manner) + ' '*(61-len(str(manner))) + '{}'.format(saari))\n",
    "            if i<len(polku)-1:\n",
    "                vene = [x for x in manner if x not in polku[i+1]]\n",
    "                print('{}.   '.format(i+1) + ' '*29 + '{}->'.format(vene))\n",
    "    \n",
    "    "
   ]
  },
  {
   "cell_type": "markdown",
   "metadata": {},
   "source": [
    "## Sokeat hakustrategiat (engl. uninformed search)\n",
    "\n",
    "### Syvyyshaku\n",
    "\n",
    "Toteuta **syvyyshaku** käyttämällä alla olevaa pseudokoodia. Osa pseodokoodin vaiheista on sinulle jo annettuna ja tehtäväsi on toteuttaa puuttuvat vaiheet.\n",
    "1. Alusta kaksi tyhjää listaa: avoin lista ja suljettu lista. Avoin lista vastaa tutkimattomat tilat listaa ja suljettu lista käsitellyt tilat listaa\n",
    "2. Määritä alkutila, joka koostuu kahdesta muusta listasta *manner* ja *polku*\n",
    "3. Lisää alkutila avoimeen listaan\n",
    "4. Käydään läpi avointa listaa niin kauan, kunnes se on tyhjä\n",
    "    1. Valitse avoimen listan viimeinen alkio\n",
    "    2. Jos manner ei ole jo ennestään suljetussa listassa\n",
    "        1. Lisää manner suljettuun listaan\n",
    "        2. Tarkasta onko manner sama kuin tavoitetila\n",
    "            1. Jos näin on, palauta polku\n",
    "        3. Generoi uudet mantereet käyttämällä apufunktiota *generoi_uudet_lailliset_mantereet(objektit, manner)*\n",
    "        4. Käy läpi silmukassa uudet mantereet yksi kerrallaan\n",
    "            1. Selvitä uusi polku lisäämällä nykyiseen polkuun uusi manner\n",
    "            2. Lisää avoimen listaan uusi tila, joka koostuu läpikäytävästä uudesta mantereesta ja uudesta polusta\n",
    "5. Tulosta virheilmoitus, kun avoin lista on tyhjä ja ratkaisua ei löytynyt\n",
    "        \n",
    "        "
   ]
  },
  {
   "cell_type": "code",
   "execution_count": null,
   "metadata": {},
   "outputs": [],
   "source": [
    "def syvyyshaku(objektit, manner):\n",
    "    \"\"\"\n",
    "    Tässä funktiossa etsitään ongelman ratkaiseva polku käyttämällä syvyyshakua (engl. depth-first-search).\n",
    "    \"\"\"\n",
    "    tavoitetila = []\n",
    "    polku = [manner]\n",
    "    #-------- TÄHÄN SINUN KOODI --------\n",
    "    # 1. Alusta kaksi tyhjää listaa: avoin_lista ja suljettu_lista\n",
    "    \n",
    "    \n",
    "    # 2. Määritetään muuttuja alkutila, joka on lista, joka koostuu kahdesta muusta listasta manner ja polku\n",
    "    alkutila = [manner,polku]\n",
    "    # 3. Lisää alkutila avoimeen listaan\n",
    "    \n",
    "    # 4. Käy läpi avointa listaa niin kauan, kunnes se on tyhjä (Vihje: while loop)\n",
    "    \n",
    "        # 4.A Valitaan avoimen listan viimeinen alkio\n",
    "        manner, polku = avoin_lista.pop()\n",
    "        # 4.B Jos muuttuja manner ei ole jo ennestään suljetussa listassa\n",
    "        \n",
    "            # 4.B.a Lisää muuttuja manner suljettuun listaan\n",
    "            \n",
    "            # 4.B.b Tarkasta onko manner sama kuin tavoitetila\n",
    "            \n",
    "                # 4.B.b.i Jos näin on, palauta muuttuja polku\n",
    "                \n",
    "            # 4.B.c Generoidaan muuttuja uudet_mantereet käyttämällä apufunktiota generoi_uudet_lailliset_mantereet(objektit, manner)\n",
    "            uudet_mantereet = generoi_uudet_lailliset_mantereet(objektit, manner)      \n",
    "            # 4.B.d Käydään läpi silmukassa muuttujan uudet_mantereet alkiot yksi kerrallaan käyttämällä alkiosta nimeä uusi_manner\n",
    "            for uusi_manner in uudet_mantereet:\n",
    "                # 4.B.d.i Selvitetään muuttuja uusi_polku lisäämällä listaan polku muuttuja uusi_manner\n",
    "                uusi_polku = polku + [uusi_manner]\n",
    "                # 4.B.d.ii Lisätään listaan avoin_lista uusi tila, joka koostuu läpikäytävästä uudesta mantereesta sekä listasta uusi_polku\n",
    "                avoin_lista.append([uusi_manner, uusi_polku])\n",
    "    # 5. Tulostetaan virheilmoitus, kun avoin lista on tyhjä ja ratkaisua ei löytynyt\n",
    "    print('Ratkaisua ei löytynyt')\n",
    "    #-----------------------------------\n",
    "    \n",
    "syvyyshaku_polku = syvyyshaku(objektit, manner)\n",
    "tulosta_liikkeet(objektit, syvyyshaku_polku)"
   ]
  },
  {
   "cell_type": "markdown",
   "metadata": {},
   "source": [
    "### Leveyshaku\n",
    "\n",
    "Toteuta lisäksi **leveyshaku**, jonka ainut ero syvyyshakuun on, että pseudokoodin vaiheessa 4A. valitaan avoimen listan ensimmäinen alkio, kun syvyyshaussa valitaan avoimen listan viimeinen alkio. Osa pseudokoodin vaiheista on sinulle jo annettuna ja tehtäväsi on toteuttaa puuttuvat vaiheet."
   ]
  },
  {
   "cell_type": "markdown",
   "metadata": {},
   "source": [
    "**Montako liikettä tavoitetilan löytämiseksi menee leveyshaulla ja syvyyshaulla? Miten ratkaisut eroavat leveyshaun ja syvyyshaun välillä?**\n",
    "\n",
    "`Tähän sinun vastaus`"
   ]
  },
  {
   "cell_type": "code",
   "execution_count": null,
   "metadata": {
    "scrolled": true
   },
   "outputs": [],
   "source": [
    "def leveyshaku(objektit, manner):\n",
    "    \"\"\"\n",
    "    Tässä funktiossa etsitään ongelman ratkaiseva polku käyttämällä leveyshaku (engl. breadth-first-search).\n",
    "    Ratkaisu on muuten samanlainen kuin syvyyshaku, mutta pseudokoodin vaiheessa 4.A valitaan nyt listan avoin_lista ensimmäinen alkio.\n",
    "    \"\"\"\n",
    "    tavoitetila = []\n",
    "    polku = [manner]    \n",
    "    #-------- TÄHÄN SINUN KOODI --------   \n",
    "    # 1. Alusta kaksi tyhjää listaa: avoin_lista ja suljettu_lista\n",
    "    \n",
    "    \n",
    "    # 2. Määritetään muuttuja alkutila, joka on lista, joka koostuu kahdesta muusta listasta manner ja polku\n",
    "    alkutila = [manner,polku]\n",
    "    # 3. Lisää alkutila avoimeen listaan\n",
    "    \n",
    "    # 4. Käy läpi avointa listaa niin kauan, kunnes se on tyhjä (Vihje: while loop)\n",
    "\n",
    "        # 4.A Valitse avoimen listan ensimmäinen alkio (Vihje: .pop(0))\n",
    "    \n",
    "        # 4.B Jos muuttuja manner ei ole jo ennestään suljetussa listassa\n",
    "        \n",
    "            # 4.B.a Lisää muuttuja manner suljettuun listaan\n",
    "            \n",
    "            # 4.B.b Tarkasta onko manner sama kuin tavoitetila\n",
    "            \n",
    "                # 4.B.b.i Jos näin on, palauta muuttuja polku\n",
    "                \n",
    "            # 4.B.c Generoidaan muuttuja uudet_mantereet käyttämällä apufunktiota generoi_uudet_lailliset_mantereet(objektit, manner)\n",
    "            uudet_mantereet = generoi_uudet_lailliset_mantereet(objektit, manner)            \n",
    "            # 4.B.d Käydään läpi silmukassa muuttujan uudet_mantereet alkiot yksi kerrallaan käyttämällä alkiosta nimeä uusi_manner\n",
    "            for uusi_manner in uudet_mantereet:\n",
    "                # 4.B.d.i Selvitetään muuttuja uusi_polku lisäämällä listaan polku muuttuja uusi_manner\n",
    "                uusi_polku = polku + [uusi_manner]\n",
    "                # 4.B.d.ii Lisätään listaan avoin_lista uusi tila, joka koostuu läpikäytävästä uudesta mantereesta sekä listasta uusi_polku\n",
    "                avoin_lista.append([uusi_manner, uusi_polku])\n",
    "    # 5. Tulostetaan virheilmoitus, kun avoin lista on tyhjä ja ratkaisua ei löytynyt\n",
    "    print('Ratkaisua ei löytynyt')\n",
    "    #-----------------------------------\n",
    "    \n",
    "leveyshaku_polku = leveyshaku(objektit, manner)\n",
    "tulosta_liikkeet(objektit, leveyshaku_polku)"
   ]
  },
  {
   "cell_type": "markdown",
   "metadata": {},
   "source": [
    "# Tehtävä 2. 8-puzzle peli heuristisilla arviointifunktioilla\n",
    "\n",
    "<br>\n",
    "<div style=\"width:image width px; font-size:80%; text-align:center;\">\n",
    "    <center>\n",
    "    <img src='kuvat/eightpuzzle1.png' width='400' height='auto' alt='alternate text' style='padding-bottom:0.5em;' />\n",
    "    </center>\n",
    "    <span>Kuva 2. Eräs alkutila ja tavoitetila 8-puzzle-pelille.</span>\n",
    "</div>\n",
    "<br>\n",
    "\n",
    "Tässä tehtävässä luodaan heuristisia arviointifunktioita $h(n)$ 8-puzzle pelille. 8-puzzle koostuu kahdeksasta\n",
    "liukuvasta laatasta, jotka ovat numeroitu ykkösestä kahdeksaan. Numeroidut laatat ovat sijoitettu 3x3\n",
    "ruudukolle. Yksi ruudukon paikoista jää tyhjäksi, johon voi siirtää minkä tahansa horisontaalisesti tai\n",
    "vertikaalisesti tyhjän kohdan vieressä olevan laatan. Kun jokin laatoista siirretään tyhjään ruutuun, jää laatan\n",
    "aiempi paikka tyhjäksi. 8-puzzle pelin tarkoitus on saavuttaa tavoitetila mahdollisimman vähin siirroin\n",
    "tunnetusta alkutilasta. Kuvassa 2 on 8-puzzle pelin eräs alkutila ja tavoitetila. \n",
    "\n",
    "8-puzzle pelin hakuavaruus on niin iso, että sokeilla hakustrategioilla ratkaisun löytäminen kestäisi kauan. Tästä syystä pelin ratkaisun löytämiseksi on käytetty tietoista hakustrategiaa A\\*-hakua.  \n",
    "\n",
    "Toteutetaan seuraavaksi pelin toiminnan kannalta välttämättömiä apufunktioita."
   ]
  },
  {
   "cell_type": "code",
   "execution_count": 6,
   "metadata": {},
   "outputs": [],
   "source": [
    "def tulosta_tila(tila):\n",
    "    \"\"\"\n",
    "    Tämä funktio luo tulostettavan pelilaudan.\n",
    "    \"\"\"\n",
    "    tuloste = ''\n",
    "    tuloste += '+---+---+---+\\n'\n",
    "    for i in range(3):\n",
    "        for j in range(3):\n",
    "            laatta = tila[i*3+j]\n",
    "            tuloste += '| {} '.format(' ' if laatta == 0 else laatta)\n",
    "        tuloste += '|\\n'\n",
    "        tuloste += '+---+---+---+\\n'\n",
    "    return tuloste\n",
    "    \n",
    "def ratkaise_lailliset_liikkeet(sijainti):\n",
    "    \"\"\"\n",
    "    Tämä funktio ratkaisee lailliset liikkeet tyhjälle laatalle.\n",
    "    \"\"\"\n",
    "    liikkeet = [1, -1, 3, -3]\n",
    "    lailliset_liikkeet = []\n",
    "    for liike in liikkeet:\n",
    "        if 0 <= sijainti + liike < 9:\n",
    "            if liike == 1 and (sijainti==2 or sijainti==5 or sijainti==8):\n",
    "                continue\n",
    "            if liike == -1 and (sijainti==0 or sijainti==3 or sijainti==6):\n",
    "                continue\n",
    "            lailliset_liikkeet.append(liike)\n",
    "    return lailliset_liikkeet\n",
    "\n",
    "def generoi_uudet_lailliset_tilat(tila):\n",
    "    \"\"\"\n",
    "    Tämä funktio generoi seuraavat lailliset tilat nykyisestä tilasta.\n",
    "    \"\"\"\n",
    "    tyhjä_laatta = tila.index(0)   # tyhjä ruutu\n",
    "    lailliset_liikkeet = ratkaise_lailliset_liikkeet(tyhjä_laatta)\n",
    "    uudet_tilat = []\n",
    "    for liike in lailliset_liikkeet:\n",
    "        uusi_tila = copy.deepcopy(tila)\n",
    "        (uusi_tila[tyhjä_laatta + liike], uusi_tila[tyhjä_laatta]) = (uusi_tila[tyhjä_laatta], uusi_tila[tyhjä_laatta + liike])\n",
    "        uudet_tilat.append(uusi_tila)\n",
    "    return uudet_tilat\n",
    "\n",
    "def laske_heuristinen_arvo(tila, tavoitetila, heuristinen_funktio):\n",
    "    \"\"\"\n",
    "    Tämä funktio valitsee arviointifunktioksi joko hamming-etäisyyden 'hamming', city-block-etäisyyden 'city-block' tai euklidisen etäisyyden 'euklidinen'.\n",
    "    \"\"\"\n",
    "    if heuristinen_funktio == 'hamming':\n",
    "        return laske_hamming_etäisyys(tila, tavoitetila)\n",
    "    elif heuristinen_funktio == 'city-block':\n",
    "        return laske_city_block_etäisyys(tila, tavoitetila)\n",
    "    elif heuristinen_funktio == 'euklidinen':\n",
    "        return laske_euklidinen_etäisyys(tila, tavoitetila)\n",
    "    else:\n",
    "        print('Vaihtoehdot ovat \\'hamming\\' ,\\'city-block\\' tai \\'euklidinen\\'')\n",
    "\n",
    "def järjestä_avoin_lista(avoin_lista, f_arvot):\n",
    "    \"\"\"\n",
    "    Tässä funktiossa järjestetään avoin lista f-arvojen perusteella\n",
    "    \"\"\"\n",
    "    f_arvot_tmp = []\n",
    "    for tila, polku in avoin_lista:\n",
    "        f_arvot_tmp.append(f_arvot[string(tila)])\n",
    "    return [x for y,x in sorted(zip(f_arvot_tmp, avoin_lista))]\n",
    "\n",
    "def string(lista):\n",
    "    \"\"\"\n",
    "    Tämä funktio muuttaa listan stringiksi.\n",
    "    \"\"\"\n",
    "    return ''.join(list(map(str, lista)))\n",
    "                \n",
    "def a_tähti(alkutila, tavoitetila, heuristinen_funktio):\n",
    "    \"\"\"\n",
    "    Tämä funktio ratkaisee pelin käyttämällä A-tähti-hakualgoritmia.\n",
    "    \"\"\"\n",
    "    avoin_lista = []\n",
    "    suljettu_lista = []\n",
    "    polku = []\n",
    "    g_arvot = {}\n",
    "    f_arvot = {}\n",
    "    g_arvot[string(alkutila)] = 0\n",
    "    f_arvot[string(alkutila)] = g_arvot[string(alkutila)] + laske_heuristinen_arvo(alkutila, tavoitetila, heuristinen_funktio)\n",
    "    tila = [alkutila, polku]\n",
    "    avoin_lista.append(tila)\n",
    "    while len(avoin_lista) != 0:\n",
    "        avoin_lista = järjestä_avoin_lista(avoin_lista, f_arvot)\n",
    "        tila, polku = avoin_lista.pop(0)\n",
    "        if tila == tavoitetila:\n",
    "            uusi_polku = polku + [tila]\n",
    "            return uusi_polku, suljettu_lista\n",
    "        suljettu_lista.append(tila)\n",
    "        uudet_tilat = generoi_uudet_lailliset_tilat(tila)\n",
    "        for uusi_tila in uudet_tilat:\n",
    "            alustava_g_arvo = g_arvot[string(tila)] + 1\n",
    "            if uusi_tila in suljettu_lista and alustava_g_arvo >= g_arvot[string(uusi_tila)]:\n",
    "                continue\n",
    "            if uusi_tila not in suljettu_lista or alustava_g_arvo < g_arvot[string(uusi_tila)]:\n",
    "                uusi_polku = polku + [tila]\n",
    "                g_arvot[string(uusi_tila)] = alustava_g_arvo\n",
    "                f_arvot[string(uusi_tila)] = g_arvot[string(uusi_tila)] + laske_heuristinen_arvo(uusi_tila, tavoitetila, heuristinen_funktio)\n",
    "                if uusi_tila not in avoin_lista:\n",
    "                    avoin_lista.append([uusi_tila, uusi_polku])\n",
    "    print('Ratkaisua ei löytynyt!')\n",
    "    \n",
    "def ratkaise_peli(alkutila, tavoitetila, arviointifunktio):\n",
    "    \"\"\"\n",
    "    Tämä funktio luo ratkaisun käytetyllä arviointifunktiolla, kun alkutila ja tavoitetila ovat tiedossa.\n",
    "    \"\"\"\n",
    "    polku, suljettu_lista = a_tähti(alkutila, tavoitetila, arviointifunktio)\n",
    "    for tila in polku:\n",
    "        clear_output(wait=True)\n",
    "        print('Alkutila:\\n' + tulosta_tila(alkutila))\n",
    "        print('\\nRatkaisu alkutilalle A*-hakualgoritmilla {}-etäisyys arviointifunktiota apuna käyttäen:\\n\\n'.format(arviointifunktio) + tulosta_tila(tila))\n",
    "        time.sleep(1)\n",
    "    print('Ratkaisu sisältää {} liikettä, jonka löytämiseksi tutkittiin yhteensä {} tilaa.'.format(len(polku)-1, len(suljettu_lista)))"
   ]
  },
  {
   "cell_type": "markdown",
   "metadata": {},
   "source": [
    "## Heuristiset arviointifunktiot\n",
    "\n",
    "A\\*-hakualgoritmi vaatii toimiakseen heuristisen arviointifunktion h(n) eli kustannusarvion tutkittavasta tilasta tavoitetilaan. Tyypillinen ratkaisu pelille on noin 20 liikettä pitkä ja sen haarautumiskerroin (engl. branching factor), eli kuinka monta liikettä keskimäärin on mahdollista suorittaa yhden vuoron aikana, on 2,66. Tämä tarkoittaa sitä, että perusteellinen haku 20 liikkeen syvyydestä käy läpi $2,66^{20} = 3,15*10^{8}$ tilaa. Tästä syystä on erityisen tärkeä löytää mahdollisimman hyvä heuristinen funktio 8-puzzle pelille. Hyviä vaihtoehtoja heuristisiksi funktioiksi ovat **hamming-etäisyys**, **city-block-etäisyys** (tunnetaan myös nimellä manhattan-etäisyys) ja **euklidinen-etäisyys**.\n",
    "\n",
    "* Hamming-etäisyys: Laskee väärillä paikoilla olevien laattojen lukumäärän. Tila, jolla on vähän laattoja väärillä paikoilla on oletettavasti lähempänä tavoitetilaa kuin esimerkiksi tila, jolla on kaikki laatat väärillä paikoilla.\n",
    "\n",
    "* City-block-etäisyys: Laskee jokaiselle laatalle horisontaalisen ja vertikaalisen absoluuttisen etäisyyden vastaavasta tavoitetilan laatasta ja summaa lopuksi ne yhteen. $h_{2}(n) = \\sum\\limits_{i=1}^{8} |a_{ix} - b_{ix}| + |a_{iy} - b_{iy}|$, missä $a_{ix}$ on alkutilan i:nnen laatan x-koordinaatti ja $b_{iy}$ on tavoitetilan i:nnen laatan y-koordinaatti.\n",
    "\n",
    "* Euklidinen-etäisyys: Laskee jokaiselle laatalle neliöityjen horisontaalisten ja vertikaalisten etäisyyksien summan vastaavasta tavoitetilan laatasta, ottaa summasta neliöjuuren ja lopuksi summaa neliöjuuret yhteen. $h_{3}(n) = \\sum\\limits_{i=1}^{8} \\sqrt{(a_{ix} - b_{ix})^2 + (a_{iy} - b_{iy})^2}$.\n",
    "\n",
    "Hamming-etäisyys kuvan 2 tilanteelle on $h_{1}(n) = 4$, sillä alkutilan laatoista neljä on väärillä paikoilla\n",
    "tavoitetilaan verrattuna. City-block-etäisyys lasketaan kuvalle 2 seuraavasti: $h_{2}(n) = 1 + 0 + 0 + 3 + 2 + 0 + 2 + 0 = 8$. Euklidinen-etäisyys puolestaan kuvan 2 tilanteelle on: $h_{3}(n) = 1 + 0 + 0 + \\sqrt{5} + \\sqrt{2} + 0 + 2 + 0 \\approx 6,65$. Alkutilan tyhjällä ruudulla ei ole vaikutusta heurististen funktioiden arvoihin.\n",
    "\n",
    "A\\*-hakualgoritmissa polun kustannusarviona $g(n)$ on käytetty pelipuun syvyyttä. Algoritmissa tutkimattomat tilat tallennetaan avoimeen listaan ja käsitellyt tilat suljettuun listaan. Lopuksi algoritmin löydettyä ratkaisu, rakennetaan polku alkutilasta tavoitetilaan. "
   ]
  },
  {
   "cell_type": "markdown",
   "metadata": {},
   "source": [
    "### Euklidinen-etäisyys arviointifunktio\n",
    "\n",
    "Heuristiset arviointifunktiot ottavat argumentteina tutkittavan tilan ja tavoitetilan. Tutkittava tila ja tavoitetila ovat toteutettu 9 alkiota sisältävinä listoina, missä arvo 0 kuvaa tyhjää ruutua. Listan arvot kulkevat pelilaudan vasemmasta yläkulmasta oikeaan alakulmaan. Kuvan 2 alkutila listana on ***alkutila = [7,2,3,1,0,6,5,8,4]*** ja tavoitetila on ***tavoitetila = [1,2,3,4,5,6,7,8,0]***.\n",
    "\n",
    "Toteutetaan esimerkkinä heuristinen euklidinen-etäisyys arviointifunktio. Tehtäväsi on toteuttaa hamming-etäisyys arviointifunktio ja city-block-etäisyys arviointifunktio ja testata niiden suorituskykyä kuvan 2 alkutilalle ja tavoitetilalle."
   ]
  },
  {
   "cell_type": "code",
   "execution_count": 7,
   "metadata": {},
   "outputs": [],
   "source": [
    "def laske_euklidinen_etäisyys(tila, tavoitetila):\n",
    "    \"\"\"\n",
    "    Tämä funktio laskee euklidisen etäisyyden tilalle tavoitetilasta.\n",
    "    \"\"\"\n",
    "    # Alustetaan muuttuja euklidinen_arvo arvolla 0\n",
    "    euklidinen_arvo = 0\n",
    "    # Käydään silmukassa läpi laatan arvot 1-8\n",
    "    for laatan_arvo in range(1, 9):\n",
    "        # Selvitetään tilalle ja tavoitetilalle, missä kohtaa matriisia laatan arvo on (esim. tila_x viittaa tilan laatan arvon vaakasuuntaiseen koordinaattiin)\n",
    "        (tila_x, tila_y) = (tila.index(laatan_arvo) // 3, tila.index(laatan_arvo) % 3)\n",
    "        (tavoitetila_x, tavoitetila_y) = (tavoitetila.index(laatan_arvo) // 3, tavoitetila.index(laatan_arvo) % 3)\n",
    "        # Lasketaan jokaiselle laatalle neliöity vaakasuuntainen ja pystysuuntainen etäisyys ja lisätään niiden summan neliöjuuri muuttujaan euklidinen_arvo\n",
    "        euklidinen_arvo += ((tavoitetila_x - tila_x)**2 + (tavoitetila_y - tila_y)**2)**0.5\n",
    "    # Palautetaan lopuksi muuttuja euklidinen_arvo\n",
    "    return euklidinen_arvo"
   ]
  },
  {
   "cell_type": "markdown",
   "metadata": {},
   "source": [
    "Tarkistetaan, että euklidinen-etäisyys arviointifunktio palauttaa alkutilalle aiemmin lasketun arvon ~6,65."
   ]
  },
  {
   "cell_type": "code",
   "execution_count": 8,
   "metadata": {},
   "outputs": [
    {
     "name": "stdout",
     "output_type": "stream",
     "text": [
      "Euklidinen-etäisyys alkutilalle on: 6.650281539872885\n"
     ]
    }
   ],
   "source": [
    "# Määritetään kuvan 2 alkutila ja tavoitetila\n",
    "alkutila = [7,2,3,1,0,6,5,8,4]\n",
    "tavoitetila = [1,2,3,4,5,6,7,8,0]\n",
    "\n",
    "# Tarkistetaan, että funktio laske_euklidinen_etäisyys() palauttaa oikean arvon\n",
    "print('Euklidinen-etäisyys alkutilalle on: {}'.format(laske_euklidinen_etäisyys(alkutila, tavoitetila)))"
   ]
  },
  {
   "cell_type": "markdown",
   "metadata": {},
   "source": [
    "Tämän jälkeen ratkaistaan peli alkutilalle arviointifunktion ollessa euklidinen-etäisyys."
   ]
  },
  {
   "cell_type": "code",
   "execution_count": 9,
   "metadata": {},
   "outputs": [
    {
     "name": "stdout",
     "output_type": "stream",
     "text": [
      "Alkutila:\n",
      "+---+---+---+\n",
      "| 7 | 2 | 3 |\n",
      "+---+---+---+\n",
      "| 1 |   | 6 |\n",
      "+---+---+---+\n",
      "| 5 | 8 | 4 |\n",
      "+---+---+---+\n",
      "\n",
      "\n",
      "Ratkaisu alkutilalle A*-hakualgoritmilla euklidinen-etäisyys arviointifunktiota apuna käyttäen:\n",
      "\n",
      "+---+---+---+\n",
      "| 1 | 2 | 3 |\n",
      "+---+---+---+\n",
      "| 4 | 5 | 6 |\n",
      "+---+---+---+\n",
      "| 7 | 8 |   |\n",
      "+---+---+---+\n",
      "\n",
      "Ratkaisu sisältää 18 liikettä, jonka löytämiseksi tutkittiin yhteensä 397 tilaa.\n"
     ]
    }
   ],
   "source": [
    "# Ratkaistaan peli alkutilalle arviointifunktion ollessa euklidinen-etäisyys.\n",
    "ratkaise_peli(alkutila, tavoitetila, 'euklidinen')"
   ]
  },
  {
   "cell_type": "markdown",
   "metadata": {},
   "source": [
    "### Hamming-etäisyys arviointifunktio\n",
    "\n",
    "Toteuta heuristinen hamming-etäisyys arviointifunktio."
   ]
  },
  {
   "cell_type": "code",
   "execution_count": null,
   "metadata": {},
   "outputs": [],
   "source": [
    "def laske_hamming_etäisyys(tila, tavoitetila):\n",
    "    \"\"\"\n",
    "    Tämä funktio laskee hamming-etäisyyden tilalle tavoitetilasta.\n",
    "    \"\"\"\n",
    "    #-------- TÄHÄN SINUN KOODI --------\n",
    "    # Alusta muuttuja hamming_arvo arvolla 0\n",
    "    \n",
    "    # Käy silmukassa läpi laatan arvot 1-8\n",
    "    \n",
    "        # Selvitä tilalle ja tavoitetilalle, missä kohtaa LISTAA laatan arvo on (esim. tila_indeksi viittaa tilan laatan arvon indeksiin listassa. Vihje: .index())\n",
    "        \n",
    "        \n",
    "        # Jos tilan laatan arvon indeksi on eri kuin tavoitetilan vastaavan laatan arvon indeksi\n",
    "        \n",
    "            # Kasvata muuttujan hamming_arvo arvoa 1:llä\n",
    "            \n",
    "    # Palauta lopuksi muuttuja hamming_arvo\n",
    "    \n",
    "    #-----------------------------------"
   ]
  },
  {
   "cell_type": "markdown",
   "metadata": {},
   "source": [
    "Tarkistetaan, että hamming-etäisyys arviointifunktio palauttaa alkutilalle aiemmin lasketun arvon 4."
   ]
  },
  {
   "cell_type": "code",
   "execution_count": null,
   "metadata": {},
   "outputs": [],
   "source": [
    "# Tarkistetaan, että funktio laske_hamming_etäisyys() palauttaa oikean arvon\n",
    "print('Hamming-etäisyys alkutilalle on: {}'.format(laske_hamming_etäisyys(alkutila, tavoitetila)))"
   ]
  },
  {
   "cell_type": "markdown",
   "metadata": {},
   "source": [
    "Tämän jälkeen ratkaistaan peli alkutilalle arviointifunktion ollessa hamming-etäisyys."
   ]
  },
  {
   "cell_type": "code",
   "execution_count": null,
   "metadata": {},
   "outputs": [],
   "source": [
    "# Ratkaistaan peli alkutilalle arviointifunktion ollessa hamming-etäisyys.\n",
    "ratkaise_peli(alkutila, tavoitetila, 'hamming')"
   ]
  },
  {
   "cell_type": "markdown",
   "metadata": {},
   "source": [
    "### City-block-etäisyys arviointifunktio\n",
    "\n",
    "Toteuta heuristinen city-block-etäisyys arviointifunktio."
   ]
  },
  {
   "cell_type": "code",
   "execution_count": null,
   "metadata": {},
   "outputs": [],
   "source": [
    "def laske_city_block_etäisyys(tila, tavoitetila):\n",
    "    \"\"\"\n",
    "    Tämä funktio laskee city-block-etäisyyden tilalle tavoitetilasta.\n",
    "    \"\"\"\n",
    "    #-------- TÄHÄN SINUN KOODISI --------\n",
    "    # Alusta muuttuja city_block_arvo arvolla 0\n",
    "    \n",
    "    # Käy silmukassa läpi laatan arvot 1-8\n",
    "    \n",
    "        # Selvitä tilalle ja tavoitetilalle, missä kohtaa MATRIISIA laatan arvo on (esim. tila_x viittaa tilan laatan arvon vaakasuuntaiseen koordinaattiin)\n",
    "        \n",
    "        \n",
    "        # Laske jokaiselle laatalle vaakasuuntainen ja pystysuuntainen itseisarvoistettu etäisyys ja lisää ne muuttujaan city-block_arvo\n",
    "        \n",
    "    # Palauta lopuksi muuttuja city_block_arvo\n",
    "    \n",
    "    #-------------------------------------"
   ]
  },
  {
   "cell_type": "markdown",
   "metadata": {},
   "source": [
    "Tarkistetaan, että city-block-etäisyys arviointifunktio palauttaa alkutilalle aiemmin lasketun arvon 8."
   ]
  },
  {
   "cell_type": "code",
   "execution_count": null,
   "metadata": {},
   "outputs": [],
   "source": [
    "# Tarkistetaan, että funktio laske_city_block_etäisyys() palauttaa oikean arvon\n",
    "print('City-block-etäisyys alkutilalle on: {}'.format(laske_city_block_etäisyys(alkutila, tavoitetila)))"
   ]
  },
  {
   "cell_type": "markdown",
   "metadata": {},
   "source": [
    "Tämän jälkeen ratkaistaan peli alkutilalle arviointifunktion ollessa city-block-etäisyys."
   ]
  },
  {
   "cell_type": "code",
   "execution_count": null,
   "metadata": {},
   "outputs": [],
   "source": [
    "# Ratkaistaan peli alkutilalle arviointifunktion ollessa city-block-etäisyys.\n",
    "ratkaise_peli(alkutila, tavoitetila, 'city-block')"
   ]
  },
  {
   "cell_type": "markdown",
   "metadata": {},
   "source": [
    "**Mikä kolmesta käytetystä arviointifunktiosta on paras tälle ongelmalle tutkittujen tilojen määrän perusteella?**\n",
    "\n",
    "`Tähän sinun vastaus`"
   ]
  },
  {
   "cell_type": "markdown",
   "metadata": {},
   "source": [
    "# Palaute\n",
    "Lopuksi vastaa seuraaviin kysymyksiin:"
   ]
  },
  {
   "cell_type": "markdown",
   "metadata": {},
   "source": [
    "**Kuinka paljon aikaa käytit harjoituksen tekemiseen?**\n",
    "\n",
    "`Tähän sinun vastaus`"
   ]
  },
  {
   "cell_type": "markdown",
   "metadata": {},
   "source": [
    "**Kohtasitko ongelmia tai haasteita harjoitusta tehdessäsi? Oliko notebookissa riittävän kattava ohjeistus harjoituksen tekemiseen?**\n",
    "\n",
    "`Tähän sinun vastaus`"
   ]
  },
  {
   "cell_type": "markdown",
   "metadata": {},
   "source": [
    "**Jotain muuta palautetta harjoitukseen liittyen?**\n",
    "\n",
    "`Tähän sinun vastaus`"
   ]
  },
  {
   "cell_type": "markdown",
   "metadata": {
    "collapsed": true,
    "jupyter": {
     "outputs_hidden": true
    }
   },
   "source": [
    "# Palautus\n",
    "\n",
    "1. Ennen kuin palautat tämän notebookin, **tarkista, että notebookin koodi toimii** ja tuottaa kaikki pyydetyt tulokset valitsemalla valikosta `Kernel -> Restart & Run All`! Tarkista lisäksi, että olet vastannut kaikkiin lihavoituihin **kysymyksiin.**\n",
    "2. Tyhjennä kaikki tulosteet ja muuttujat valitsemalla valikosta `Kernel -> Restart & Clear Output`. Tämä välivaihe pienentää palautettavan notebookin kokoa merkittävästi! \n",
    "3. Nimeä uudelleen tämä notebook-tiedosto muodossa **`JT_H1_[opiskelijanumero(t)].ipynb`** (esim. `JT_H1_1234567.ipynb` jos teet harjoituksen yksin tai `JT_H1_1234567_2345678_3456789.ipynb` jos teette harjoituksen ryhmässä)\n",
    "4. Palauta **ainoastaan** ratkaisemasi notebook-tiedosto (`.ipynb` päätteinen tiedosto) Moodleen Harjoitus 1 Hakualgoritmit. **Älä siis sisällytä työkansiota tai muita tiedostoja** palautukseesi! **HOX jokainen palauttaa tiedoston itsenäisesti moodleen**\n",
    "5. Vastaa **Moodlessa harjoitus 1** henkilökohtaisesti vastaaviin kysymyksiin"
   ]
  },
  {
   "cell_type": "code",
   "execution_count": null,
   "metadata": {},
   "outputs": [],
   "source": []
  }
 ],
 "metadata": {
  "kernelspec": {
   "display_name": "Python 3 (ipykernel)",
   "language": "python",
   "name": "python3"
  },
  "language_info": {
   "codemirror_mode": {
    "name": "ipython",
    "version": 3
   },
   "file_extension": ".py",
   "mimetype": "text/x-python",
   "name": "python",
   "nbconvert_exporter": "python",
   "pygments_lexer": "ipython3",
   "version": "3.8.13"
  }
 },
 "nbformat": 4,
 "nbformat_minor": 4
}
