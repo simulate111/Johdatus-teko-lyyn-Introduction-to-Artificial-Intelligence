{
  "cells": [
    {
      "cell_type": "markdown",
      "metadata": {
        "id": "view-in-github",
        "colab_type": "text"
      },
      "source": [
        "<a href=\"https://colab.research.google.com/github/simulate111/Johdatus-teko-lyyn-Introduction-to-Artificial-Intelligence/blob/main/exercise_material_search_algorithms.ipynb\" target=\"_parent\"><img src=\"https://colab.research.google.com/assets/colab-badge.svg\" alt=\"Open In Colab\"/></a>"
      ]
    },
    {
      "cell_type": "code",
      "source": [
        "pip install imblearn umap-learn onedrivedownloader"
      ],
      "metadata": {
        "colab": {
          "base_uri": "https://localhost:8080/"
        },
        "id": "Bmn5sH6in4tC",
        "outputId": "82e97401-86bd-4d37-dc77-446913f21b69"
      },
      "execution_count": 1,
      "outputs": [
        {
          "output_type": "stream",
          "name": "stdout",
          "text": [
            "Requirement already satisfied: imblearn in /usr/local/lib/python3.10/dist-packages (0.0)\n",
            "Requirement already satisfied: umap-learn in /usr/local/lib/python3.10/dist-packages (0.5.5)\n",
            "Requirement already satisfied: onedrivedownloader in /usr/local/lib/python3.10/dist-packages (1.1.3)\n",
            "Requirement already satisfied: imbalanced-learn in /usr/local/lib/python3.10/dist-packages (from imblearn) (0.10.1)\n",
            "Requirement already satisfied: numpy>=1.17 in /usr/local/lib/python3.10/dist-packages (from umap-learn) (1.25.2)\n",
            "Requirement already satisfied: scipy>=1.3.1 in /usr/local/lib/python3.10/dist-packages (from umap-learn) (1.11.4)\n",
            "Requirement already satisfied: scikit-learn>=0.22 in /usr/local/lib/python3.10/dist-packages (from umap-learn) (1.2.2)\n",
            "Requirement already satisfied: numba>=0.51.2 in /usr/local/lib/python3.10/dist-packages (from umap-learn) (0.58.1)\n",
            "Requirement already satisfied: pynndescent>=0.5 in /usr/local/lib/python3.10/dist-packages (from umap-learn) (0.5.11)\n",
            "Requirement already satisfied: tqdm in /usr/local/lib/python3.10/dist-packages (from umap-learn) (4.66.2)\n",
            "Requirement already satisfied: requests in /usr/local/lib/python3.10/dist-packages (from onedrivedownloader) (2.31.0)\n",
            "Requirement already satisfied: llvmlite<0.42,>=0.41.0dev0 in /usr/local/lib/python3.10/dist-packages (from numba>=0.51.2->umap-learn) (0.41.1)\n",
            "Requirement already satisfied: joblib>=0.11 in /usr/local/lib/python3.10/dist-packages (from pynndescent>=0.5->umap-learn) (1.3.2)\n",
            "Requirement already satisfied: threadpoolctl>=2.0.0 in /usr/local/lib/python3.10/dist-packages (from scikit-learn>=0.22->umap-learn) (3.3.0)\n",
            "Requirement already satisfied: charset-normalizer<4,>=2 in /usr/local/lib/python3.10/dist-packages (from requests->onedrivedownloader) (3.3.2)\n",
            "Requirement already satisfied: idna<4,>=2.5 in /usr/local/lib/python3.10/dist-packages (from requests->onedrivedownloader) (3.6)\n",
            "Requirement already satisfied: urllib3<3,>=1.21.1 in /usr/local/lib/python3.10/dist-packages (from requests->onedrivedownloader) (2.0.7)\n",
            "Requirement already satisfied: certifi>=2017.4.17 in /usr/local/lib/python3.10/dist-packages (from requests->onedrivedownloader) (2024.2.2)\n"
          ]
        }
      ]
    },
    {
      "cell_type": "code",
      "execution_count": 2,
      "metadata": {
        "id": "S-G4kY-PnGbR"
      },
      "outputs": [],
      "source": [
        "import os\n",
        "\n",
        "from onedrivedownloader import download\n",
        "\n",
        "link2data = 'https://unioulu-my.sharepoint.com/:u:/g/personal/jukmaatt_univ_yo_oulu_fi/EfLLqEVV7a5AmQRsrbjDBEQBPgyU3vaOCzBiugGq8GvcXQ?e=9AWxtf'\n",
        "\n",
        "if not os.path.exists('./imgs'):\n",
        "    print('Downloading data')\n",
        "    download(link2data, filename='./imgs.zip', unzip=True, unzip_path='./')"
      ]
    },
    {
      "cell_type": "markdown",
      "metadata": {
        "id": "5dGAJz-qnGbX"
      },
      "source": [
        "# <center>521160P Introduction to artificial intelligence<br><br>Exercise material<br><br>Search algorithms<br>\n",
        "\n",
        "Many search problems familiar from everyday life can be modified to be solved by search algorithms. A typical example of this is a navigation problem that seeks to find the shortest and quickest possible route from the initial state to the target state. The search space of the problem can be described as a directional graph or a tree diagram, where nodes describe the allowed states and links between them describe movements / transitions. Often not all possible movements are allowed as this may be **previously treated state** or state is pre-designated as **prohibited state**. In that case, previously treated premises and prohibited premises shall be excluded from examination in their entirety.\n",
        "\n",
        "### Uninformed search\n",
        "\n",
        "In uninformed search strategies, there is no prior knowledge about states or search space. Most common uninformed search strategies are **breadth-first search** and **depth-first search**. The breadth-first search goes through the tree diagram one level at a time before moving on to examine next level. The depth-first search on the other hand proceeds as deeply as possible from the known states in the tree diagram and when the end point of the branch under study is reached the search continues from the next deepest known state. In both search strategies the search stops when the target state is found.\n",
        "\n",
        "Breadth-first and depth-first require **open list** which stores known unexplored states and **closed list** which stores treated states. Methodologically, their only difference is that in width search, new unexplored states are stored in a queue, while in depth search, new unexplored states are stored in a stack. In the queue, the unexamined states are stored at the end of the list and the first item in the list (first-in-first-out, FIFO) is selected as the next state to be examined. The unexamined states in the stack are stored at the top of the list, and the last item in the list (LIFO) is selected as the next state to be examined. Figure 1 illustrates how depth search and width search search strategies differ for the same tree diagram. The color and numerical values of the spaces indicate the order of examination.\n",
        "\n",
        "<br>\n",
        "<div style=\"width:image width px; font-size:80%; text-align:center;\">\n",
        "    <center>\n",
        "    <img src='https://github.com/simulate111/Johdatus-teko-lyyn-Introduction-to-Artificial-Intelligence/blob/main/imgs/kuva1.png?raw=1' width='1000' height='auto' style='padding-bottom:0.5em;' />\n",
        "    </center>\n",
        "    <span>Figure 1. Depth-first(left) and breadth-first(right) search strategies differentiate from each other.</span>\n",
        "</div>\n",
        "<br>\n",
        "\n",
        "### Informed search\n",
        "\n",
        "In most cases, the search space is so large that using breadth-first or depth-first search algorithms finding the target space takes a disproportionate amount of time. In this case to control the combinatorial explosion of the spaces, a heuristic evaluation function can be used to determine the superiority of the spaces. The estimated states are stored in a priority queue, from which the best-first strategy is used to select the next state to be examined.\n",
        "\n",
        "When **the cost estimate g(n)** of the path under investigation is added to the heuristic function, the **A\\*-search algorithm** according to equation (1) is obtained.\n",
        "\n",
        "\\begin{equation}\n",
        "f(n) = h(n) + g(n) \\tag{1}\n",
        "\\end{equation}\n",
        "\n",
        "The A\\*-search algorithm always finds the most optimal route, **if the cost estimate h(n) from the studied state to the target state does not overestimate the cost** [1]. When the optimal condition of the A\\*-search algorithm is met, it cuts a considerable part of the search space, acting quite efficiently.\n",
        "\n",
        "### Zero-sum games played by two people\n",
        "\n",
        "Artificial intelligence is used today in various computer and video games. In simple deterministic two-person zero-sum games, search algorithms are of no help, so a different approach must be resorted to. In this case, the Minimax algorithm can be used.\n",
        "\n",
        "The Minimax algorithm evaluates the movements of the game tree that lead to the terminal states. In the algorithm, artificial intelligence is called the maximizing player and the opponent minimizing the player. The maximizing player tries to achieve the highest possible result with his moves, while the minimizing player tries to minimize the result with counter moves. Consider, as an example, a situation where artificial intelligence has two alternative movements that lead to either a win or a loss or just a draw. Artificial intelligence assumes that the minimizing player plays perfectly and will choose the winning move if given the chance. For this reason, artificial intelligence chooses a draw as a sure move.\n",
        "\n",
        "There are three types of end states in TicTacToe to which the following numeric values can be assigned: win +1, loss -1, and draw 0. Figure 2 shows an example of a TicTacToe game tree when the game is nearing completion. Initially, the Minimax algorithm creates the entire game tree from top to bottom to the end states. The end states are then evaluated by assigning them values of +1, -1, or 0 based on the outcome of the game. Next, the algorithm moves up in the game tree, compressing numeric values according to whether it is the turn of the maximizing or minimizing player. In the case of a maximizing player's turn, the largest of the branch values is marked in the node. Similarly, in the case of a minimizing player's turn, the lowest of the branch values is marked in the node. Layer by layer, the numeric values are packed all the way to the top node of the game tree. In the end, the top node of Figure 2 has the values +1, -1 and 0 as options, and since it is the turn of the maximizing player, the algorithm selects the largest value from the options +1, i.e. the win.\n",
        "\n",
        "<br>\n",
        "<div style=\"width:image width px; font-size:80%; text-align:center;\">\n",
        "    <center>\n",
        "    <img src='https://github.com/simulate111/Johdatus-teko-lyyn-Introduction-to-Artificial-Intelligence/blob/main/imgs/kuva2.jpg?raw=1' width='600' height='auto' style='padding-bottom:0.5em;' />\n",
        "    </center>\n",
        "    <span>Figure 2. TicTacToe's game tree can be solved with Minmax algorithm</span>\n",
        "</div>\n",
        "<br>\n",
        "\n",
        "The search space for a TicTacToe consists of 255,168 search trees / terminal spaces, but taking into account the symmetries of the game board, ie rotations and turns, the search space is reduced to 31,596 search trees. In many other games such as chess or Go, the search space is so large that it takes the Minimax algorithm an infinite amount of time to explore the entire game tree. One good solution to find the best possible motion in the tolerable time is to cut off the search from a predetermined depth and assign a value to the end states of this depth using a separate evaluation function. In addition, Alpha-beta pruning can be used to narrow the search space, which prunes off branches that do not affect the final decision of the AI. The Alpha beta qualifier produces the same result as the Minimax algorithm but in a faster time. Ideally, with the same number of calculations, Alpha-beta qualifiers can be studied twice as deeply as with the Minimax algorithm [1].\n",
        "\n",
        "## Sources\n",
        "\n",
        "[1] Russell S. & Norvig P. (2009) Artificial Intelligence : A Modern Approach (third edition). Prentice-Hall\n",
        "\n"
      ]
    }
  ],
  "metadata": {
    "kernelspec": {
      "display_name": "Python 3 (ipykernel)",
      "language": "python",
      "name": "python3"
    },
    "language_info": {
      "codemirror_mode": {
        "name": "ipython",
        "version": 3
      },
      "file_extension": ".py",
      "mimetype": "text/x-python",
      "name": "python",
      "nbconvert_exporter": "python",
      "pygments_lexer": "ipython3",
      "version": "3.8.13"
    },
    "colab": {
      "provenance": [],
      "include_colab_link": true
    }
  },
  "nbformat": 4,
  "nbformat_minor": 0
}