{
 "cells": [
  {
   "cell_type": "code",
   "execution_count": null,
   "metadata": {},
   "outputs": [],
   "source": [
    "%matplotlib inline"
   ]
  },
  {
   "cell_type": "code",
   "execution_count": null,
   "metadata": {},
   "outputs": [],
   "source": [
    "%%javascript\n",
    "IPython.OutputArea.prototype._should_scroll = function(lines) {\n",
    "    return false;\n",
    "}"
   ]
  },
  {
   "cell_type": "code",
   "execution_count": null,
   "metadata": {},
   "outputs": [],
   "source": [
    "%%html\n",
    "<style> \n",
    "table td, table th, table tr {text-align:left !important;}\n",
    "</style>"
   ]
  },
  {
   "cell_type": "code",
   "execution_count": null,
   "metadata": {},
   "outputs": [],
   "source": [
    "import os\n",
    "import numpy as np\n",
    "import matplotlib\n",
    "import matplotlib.pyplot as plt\n",
    "import matplotlib.cm as cm\n",
    "from sklearn.cluster import KMeans\n",
    "from sklearn.cluster import DBSCAN\n",
    "from sklearn.cluster import AgglomerativeClustering\n",
    "from sklearn.decomposition import PCA\n",
    "from sklearn.manifold import MDS, TSNE, LocallyLinearEmbedding, Isomap\n",
    "from sklearn.neighbors import KNeighborsClassifier\n",
    "from sklearn.model_selection import train_test_split\n",
    "import umap.umap_ as umap\n",
    "from sklearn.metrics import accuracy_score\n",
    "from itertools import permutations\n",
    "import copy\n",
    "import pickle\n",
    "import time\n",
    "from matplotlib.offsetbox import OffsetImage, AnnotationBbox\n",
    "import matplotlib as mpl\n",
    "plt.rcParams['figure.figsize'] = (15, 10)\n",
    "\n",
    "# Tämä komento määrittää tehtävän 2 interaktiivisen tilan totuusarvon\n",
    "INTERACTIVE_MODE = True"
   ]
  },
  {
   "cell_type": "code",
   "execution_count": null,
   "metadata": {},
   "outputs": [],
   "source": [
    "from onedrivedownloader import download\n",
    "\n",
    "link2data = 'https://unioulu-my.sharepoint.com/:u:/g/personal/jukmaatt_univ_yo_oulu_fi/EXPart1N1OxAuRlGl_FPkIABfgI6o-7ErGM5vAtwADiG5w?e=1ibEuK'\n",
    "\n",
    "if not os.path.exists('./data'):\n",
    "    print('Downloading data')\n",
    "    download(link2data, filename='./tiedostot.zip', unzip=True, unzip_path='./')"
   ]
  },
  {
   "cell_type": "markdown",
   "metadata": {},
   "source": [
    "# <center>521160P Johdatus Tekoälyyn<br><br>Harjoitus #4<br><br>Ohjaamaton oppiminen<br></center>\n",
    "\n",
    "Tässä harjoituksessa klusteroidaan kaksidimensioisia datoja ja pudotetaan korkeadimensioisten datojen piirteiden lukumäärää. Harjoitus tulee palauttaa **Katso harjoitukseen liittyvät palautuksen deadline moodlesta** (tämän harjoituksen palautusohjeet ovat hivenen erilaiset aiempien harjoituksien palautusohjeisiin verrattuna). Harjoituksesta on mahdollisuus saada 4 pistettä (2.0p + 2.0p).\n",
    "\n",
    "Jos kohtaat ongelmia harjoitusta tehdessäsi tai sinulla on kysyttävää harjoitukseen liittyen ole yhteydessä Moodlesta löytyvän ohjelmointiharjoitus 4 foorumin kautta."
   ]
  },
  {
   "cell_type": "markdown",
   "metadata": {},
   "source": [
    "**Täytä aluksi ryhmäsi jäsenten tiedot (nimi ja opiskelijanumero)**\n",
    "\n",
    "# Ryhmän jäsenten tiedot:\n",
    "\n",
    "* **Jäsen 1 :** `Matti Meikäläinen 1234567 `\n",
    "* **Jäsen 2 :** `Maija Meikäläinen 2345678 `\n",
    "* **Jäsen 3 :** `... `"
   ]
  },
  {
   "cell_type": "markdown",
   "metadata": {},
   "source": [
    "# Tehtävä 1. Kaksidimensioisten datojen klusterointi\n",
    "\n",
    "Tässä tehtävässä klusteroidaan viittä erilaista kaksidimensioista dataa kolmella eri klusterointimenetelmällä K-means, DBSCAN ja kokoava hierarkkinen klusterointi ja arvioidaan, miten algoritmit suoriutuvat klusteroinnista. Taulukosta 1 ilmenee datojen tärkeimmät ominaisuudet. Sijoitetaan datojen näytteet kuvaajiin ja havainnollistetaan niiden todellisia klustereita eri väreillä.\n",
    "\n",
    "<br>\n",
    "<div style=\"width:image width px; font-size:80%; text-align:left;\">\n",
    "    <span>Taulukko 1. Kaksidimensioisten datojen tärkeimmät ominaisuudet</span>\n",
    "\n",
    "| Datan nimi   | Datan kuvaus | Klustereiden lukumäärä | Näytteiden lukumäärä |\n",
    "| --- | --- | --- | --- |\n",
    "| **Ryhmät** | Kolme erimuotoista klusteria, joiden näytteiden tiheys klustereiden sisällä vaihtelee hivenen. | 3 | 400 |\n",
    "| **Tihentymät** | Kaksi eri normaalijakaumaa noudattavaa klusteria. Klustereiden näytteet ovat osittain päällekkäin. | 2 | 4096 |\n",
    "| **Maalitaulu** | Neljä klustereista on selvästi erillään muista klustereista. Kahdesta jäljelle jäävästä klusterista toinen on toisen sisällä. | 6 | 770 |\n",
    "| **Timantit** | Kaksi vierekkäin olevaa timantinmuotoista klusteria, joiden näytteiden tiheys klustereiden sisällä on vakio. | 2 | 800 |\n",
    "| **Tasot** | Klustereiden näytteiden tiheys vaihtelee reilusti niiden sisällä ja klustereiden välinen raja on lähes huomaamaton. | 2 | 1070 |\n",
    "</div>\n",
    "<br>"
   ]
  },
  {
   "cell_type": "code",
   "execution_count": null,
   "metadata": {},
   "outputs": [],
   "source": [
    "# Ladataan viisi erilaista kaksiulotteista dataa\n",
    "data_ryhmat = np.loadtxt('data/ryhmat.txt', delimiter=',', usecols=[1,2])\n",
    "luokat_ryhmat = np.loadtxt('data/ryhmat.txt', delimiter=',', usecols=[0])\n",
    "data_tihentymat = np.loadtxt('data/tihentymat.txt', delimiter=',', usecols=[1,2])\n",
    "luokat_tihentymat = np.loadtxt('data/tihentymat.txt', delimiter=',', usecols=[0])\n",
    "data_maalitaulu = np.loadtxt('data/maalitaulu.txt', delimiter=',', usecols=[1,2])\n",
    "luokat_maalitaulu = np.loadtxt('data/maalitaulu.txt', delimiter=',', usecols=[0])\n",
    "data_timantit = np.loadtxt('data/timantit.txt', delimiter=',', usecols=[1,2])\n",
    "luokat_timantit = np.loadtxt('data/timantit.txt', delimiter=',', usecols=[0])\n",
    "data_tasot = np.loadtxt('data/tasot.txt', delimiter=',', usecols=[1,2])\n",
    "luokat_tasot = np.loadtxt('data/tasot.txt', delimiter=',', usecols=[0])\n",
    "\n",
    "# Tallennetaan alkuperäiset datat ja luokat listoihin\n",
    "datat = np.array([data_ryhmat, data_tihentymat, data_maalitaulu, data_timantit, data_tasot], dtype=object)\n",
    "luokat = np.array([luokat_ryhmat, luokat_tihentymat, luokat_maalitaulu, luokat_timantit, luokat_tasot], dtype=object)\n",
    "otsikot = np.array(['Ryhmät','Tihentymät','Maalitaulu','Timantit','Tasot'])\n",
    "\n",
    "# Sijoitetaan datanäytteet kaksiulotteisiin kuvaajiin\n",
    "fig, axes = plt.subplots(2,3)\n",
    "fig.delaxes(axes[1][2])\n",
    "fig.suptitle('Alkuperäiset datat')\n",
    "for i in range(datat.shape[0]):\n",
    "    ax = axes[i//3,i%3]\n",
    "    for j in range(luokat[i].shape[0]):\n",
    "        _ , määrät = np.unique(luokat[i], return_counts=True)\n",
    "        ax.scatter(datat[i][j, 0], datat[i][j, 1], c=[cm.gnuplot(luokat[i][j]/(len(määrät)-1))], s=20, marker='o')\n",
    "    ax.set_title(otsikot[i])"
   ]
  },
  {
   "cell_type": "markdown",
   "metadata": {},
   "source": [
    "Kuvaajista huomataan, että datojen x-akselien ja y-akselien arvoalueet eroavat toisistaan paljon. Datan normalisointi on tärkeä esikäsittelymenetelmä ennen etäisyys- ja tiheystietoa hyödyntävien klusterointialgoritmien käyttämistä. Suoritetaan datoille normalisointi niin, että molemmat muuttujat skaalautuvat välille [0,1]. Tämä lasketaan yksittäiselle muuttujalle kaavalla 1. Näytteen $x_i$ muuttujan arvosta vähennetään muuttujan pienin arvo, jonka jälkeen saatu erotus jaetaan muuttujan koko vaihteluvälillä.\n",
    "\n",
    "<br><br>\n",
    "\\begin{equation}\n",
    "x_{i,\\: normalisoitu} = \\frac{x_i - min(x)}{max(x) - min(x)} \\tag{1}\n",
    "\\end{equation}\n",
    "<br><br>\n",
    "\n",
    "Sijoitetaan normalisoidut datanäytteet kuvaajiin. Nyt kuvaajiin ei ole havainnollistettu väreillä näytteiden todellisia klustereita. Tällaisena klusterointialgoritmit näkevät datan ennen klusteroinnin suorittamista.\n",
    "\n",
    "Toteuta datan normalisoinnin suorittava funktio, joka skaalaa datan muuttujat välille [0,1] kaavan 1 mukaisesti. Huomaa, että kun dataa käsitellään numpy-listana, muunnoksen laskeminen onnistuu helposti matriisimuodossa. Esimerkiksi, jos datasta *$A = \\text{np.array([[1,2,1],[2,3,2],[3,4,3]])}$* halutaan vähentää muuttujien keskiarvot *$B = \\text{np.mean}(A, \\text{axis}=0)$*, niin se onnistuu *$A-B = \\text{array([[-1,-1,-1],[0,0,0],[1,1,1]])}$*.\n",
    "\n",
    "Tarkasta piirretyistä kuvaajista, että datojen normalisoinnit onnistuivat."
   ]
  },
  {
   "cell_type": "code",
   "execution_count": null,
   "metadata": {},
   "outputs": [],
   "source": [
    "def normalisoi_muuttujat(data):\n",
    "    \"\"\"\n",
    "    Tässä funktiossa normalisoidaan datan muuttujat välille [0,1].\n",
    "    \"\"\"\n",
    "    # Selvitetään muuttujien maksimi- ja minimiarvot ja tallennetaan ne listoihin\n",
    "    data_min, data_max = np.min(data, axis=0), np.max(data, axis=0)\n",
    "    #-------TÄHÄN SINUN KOODI--------\n",
    "    # Toteuta datan normalisointi kaavan 1 mukaisesti\n",
    "    \n",
    "    # Funktio palauttaa normalisoidun datan\n",
    "    \n",
    "    #--------------------------------\n",
    "\n",
    "# Normalisoidaan datat\n",
    "data_ryhmat_normalisoitu = normalisoi_muuttujat(data_ryhmat)\n",
    "data_tihentymat_normalisoitu = normalisoi_muuttujat(data_tihentymat)\n",
    "data_maalitaulu_normalisoitu = normalisoi_muuttujat(data_maalitaulu)\n",
    "data_timantit_normalisoitu = normalisoi_muuttujat(data_timantit)\n",
    "data_tasot_normalisoitu = normalisoi_muuttujat(data_tasot)\n",
    "\n",
    "# Tallennetaan normalisoidut datat listaan\n",
    "datat_normalisoitu = np.array([data_ryhmat_normalisoitu, data_tihentymat_normalisoitu, data_maalitaulu_normalisoitu, data_timantit_normalisoitu, data_tasot_normalisoitu], dtype=object)\n",
    "\n",
    "# Sijoitetaan normalisoidut datanäytteet kaksiulotteisiin kuvaajiin varmistaakseen, että datojen muuttujat skaalautuvat välille [0,1]\n",
    "fig, axes = plt.subplots(2,3)\n",
    "fig.delaxes(axes[1][2])\n",
    "fig.suptitle('Normalisoidut datat')\n",
    "for i in range(datat_normalisoitu.shape[0]):\n",
    "    ax = axes[i//3,i%3]\n",
    "    for j in range(luokat[i].shape[0]):\n",
    "        ax.scatter(datat_normalisoitu[i][j, 0], datat_normalisoitu[i][j, 1], c='k', s=20, marker='o')\n",
    "    ax.set_title(otsikot[i])"
   ]
  },
  {
   "cell_type": "markdown",
   "metadata": {},
   "source": [
    "Seuraavaksi suoritetaan klusteroinnit kolmella eri klusterointialgoritmilla K-means, DBSCAN ja kokoava hierarkkinen klusterointi. Arvioidaan klusterointien onnistumista luokittelutarkkuuden avulla, joka tulostetaan kuvaajien alapuolelle.\n",
    "Huomaa, että klusterointialgoritmit eivät käytä luokkatietoja hyväkseen, vaan klusteroitujen näytteiden luokkia verrataan niiden todellisiin luokkiin vasta jälkikäteen klusterointien onnistumista arvioidessa.\n",
    "\n",
    "## K-means\n",
    "\n",
    "Käytetään scikit-learn kirjaston funktiota [KMeans](https://scikit-learn.org/stable/modules/generated/sklearn.cluster.KMeans.html) klusterointien suorittamiseksi. K-means-algoritmi tarvitsee etukäteen tiedon klustereiden lukumäärästä. Tämän lisäksi satunnaisesti alustettujen klusterikeskipisteiden sijasta käytetään k-means++ strategiaa, jossa klusterikeskipisteet alustetaan mahdollisimman kauas toisistaan."
   ]
  },
  {
   "cell_type": "code",
   "execution_count": null,
   "metadata": {},
   "outputs": [],
   "source": [
    "def suorita_K_means_klusterointi(data, klustereiden_lukumäärä):\n",
    "    \"\"\"\n",
    "    Tässä funktiossa data klusteroidaan K-means-algoritmilla ja palautetaan lopuksi näytteiden klusteroidut luokat.\n",
    "    \"\"\"\n",
    "    malli = KMeans(init='k-means++', n_clusters=klustereiden_lukumäärä, n_init=20, random_state=0).fit(data)\n",
    "    luokat_kmeans = malli.labels_\n",
    "    return luokat_kmeans\n",
    "\n",
    "def valitse_parhaat_värit_klustereille(luokat, klusteroidut_luokat):\n",
    "    \"\"\"\n",
    "    Tässä funktiossa valitaan klusteroiduille näytteille värit niin, että ne muistuttavat mahdollisimman paljon alkuperäisten klustereiden värejä.\n",
    "    \"\"\"\n",
    "    kategoriat = list(set(klusteroidut_luokat))\n",
    "    permutaatiot = list(permutations(kategoriat, len(kategoriat)))\n",
    "    osumat = []\n",
    "    luokat_muunnetut = []\n",
    "    for i in range(len(permutaatiot)):\n",
    "        luokat_tmp = copy.deepcopy(klusteroidut_luokat)\n",
    "        for j in range(len(kategoriat)):\n",
    "            luokat_tmp = [str(permutaatiot[i][j]) if x==kategoriat[j] else x for x in luokat_tmp]\n",
    "        luokat_tmp = [int(i) for i in luokat_tmp]\n",
    "        laskuri = 0\n",
    "        for k in range(len(luokat_tmp)):\n",
    "            if luokat_tmp[k] == luokat[k]:\n",
    "                laskuri += 1\n",
    "        osumat.append(laskuri)\n",
    "        luokat_muunnetut.append(luokat_tmp)\n",
    "    indeksi = osumat.index(max(osumat))\n",
    "    return np.array(luokat_muunnetut[indeksi])\n",
    "    \n",
    "klustereiden_lukumäärät = [3,2,6,2,2]\n",
    "\n",
    "# Sijoitetaan klusteroidut datanäytteet kaksiulotteisiin kuvaajiin\n",
    "# Tämän välivaiheen ajaminen kestää hetken aikaa\n",
    "fig, axes = plt.subplots(2,3)\n",
    "fig.delaxes(axes[1][2])\n",
    "fig.suptitle('K-means-algoritmin tuottamat lopputulokset')\n",
    "for i in range(datat_normalisoitu.shape[0]):\n",
    "    ax = axes[i//3,i%3]\n",
    "    luokat_kmeans = suorita_K_means_klusterointi(datat_normalisoitu[i], klustereiden_lukumäärät[i])\n",
    "    luokat_kmeans = valitse_parhaat_värit_klustereille(luokat[i], luokat_kmeans)\n",
    "    for j in range(luokat_kmeans.shape[0]):\n",
    "        ax.scatter(datat_normalisoitu[i][j, 0], datat_normalisoitu[i][j, 1], c=[cm.gnuplot(luokat_kmeans[j]/(klustereiden_lukumäärät[i]-1))], s=20, marker='o')\n",
    "    ax.set_title(otsikot[i])\n",
    "    ax.set_xlabel('Luokittelutarkkuus = {} %'.format(round(100*accuracy_score(luokat_kmeans, luokat[i]),3)))"
   ]
  },
  {
   "cell_type": "markdown",
   "metadata": {},
   "source": [
    "## DBSCAN\n",
    "\n",
    "Käytetään scikit-learn kirjaston funktiota [DBSCAN](https://scikit-learn.org/stable/modules/generated/sklearn.cluster.DBSCAN.html) klusterointien suorittamiseksi. DBSCAN-algoritmi ottaa tiedon minimietäisyydestä, jolla näyte vielä kuuluu johonkin klusteriin sekä minimimäärän näytteitä, jonka muodostettavan klusterin tulee vähintään sisältää."
   ]
  },
  {
   "cell_type": "code",
   "execution_count": null,
   "metadata": {},
   "outputs": [],
   "source": [
    "def suorita_DBSCAN_klusterointi(data, minimietäisyys, minimimäärä):\n",
    "    \"\"\"\n",
    "    Tässä funktiossa data klusteroidaan DBSCAN-algoritmilla ja palautetaan lopuksi näytteiden luokat.\n",
    "    \"\"\"\n",
    "    malli = DBSCAN(eps=minimietäisyys, min_samples=minimimäärä).fit(data)\n",
    "    luokat_dbscan = malli.labels_\n",
    "    luokat_dbscan = [len(set(luokat_dbscan)) if x==-1 else x for x in luokat_dbscan]\n",
    "    return luokat_dbscan\n",
    "\n",
    "minimietäisyydet = [0.1025,0.021,0.05,0.065,0.06]\n",
    "minimimäärät = [2,22,2,13,2]\n",
    "\n",
    "# Sijoitetaan klusteroidut datanäytteet kaksiulotteisiin kuvaajiin\n",
    "# Tämän välivaiheen ajaminen kestää hetken aikaa\n",
    "fig, axes = plt.subplots(2,3)\n",
    "fig.delaxes(axes[1][2])\n",
    "fig.suptitle('DBSCAN-algoritmin tuottamat lopputulokset')\n",
    "for i in range(datat_normalisoitu.shape[0]):\n",
    "    ax = axes[i//3,i%3]\n",
    "    luokat_dbscan = suorita_DBSCAN_klusterointi(datat_normalisoitu[i], minimietäisyydet[i], minimimäärät[i])\n",
    "    luokat_dbscan = valitse_parhaat_värit_klustereille(luokat[i], luokat_dbscan)\n",
    "    for j in range(luokat_dbscan.shape[0]):\n",
    "        ax.scatter(datat_normalisoitu[i][j, 0], datat_normalisoitu[i][j, 1], c=[cm.gnuplot(luokat_dbscan[j]/(klustereiden_lukumäärät[i]-1))], s=20, marker='o')\n",
    "    ax.set_title(otsikot[i])\n",
    "    ax.set_xlabel('Luokittelutarkkuus = {} %'.format(round(100*accuracy_score(luokat_dbscan, luokat[i]),3)))"
   ]
  },
  {
   "cell_type": "markdown",
   "metadata": {},
   "source": [
    "## Kokoava hierarkkinen klusterointi\n",
    "\n",
    "Käytetään scikit-learn kirjaston funktiota [AgglomerativeClustering](https://scikit-learn.org/stable/modules/generated/sklearn.cluster.AgglomerativeClustering.html#sklearn.cluster.AgglomerativeClustering) klusterointien suorittamiseksi. Asettamalla linkitysstrategiaksi ’ward’, yhdistetään näytteet minimoiden niiden välinen varianssi. Linkitysstrategialla 'single' yhdistetään näytteet minimoiden näytejoukkojen väliset lyhimmät etäisyydet ja linkitysstrategialla 'average' yhdistetään näytteet minimoiden näytejoukkojen väliset keskiarvoistetut etäisyydet. Myös kokoava hierarkkinen klusterointi tarvitsee etukäteen tiedon klustereiden lukumäärästä."
   ]
  },
  {
   "cell_type": "code",
   "execution_count": null,
   "metadata": {},
   "outputs": [],
   "source": [
    "def suorita_kokoava_hierarkkinen_klusterointi(data, klustereiden_lukumäärä, linkitysstrategia):\n",
    "    \"\"\"\n",
    "    Tässä funktiossa data klusteroidaan kokoavalla hierarkkisella klusteroinnilla ja palautetaan lopuksi näytteiden luokat.\n",
    "    \"\"\"\n",
    "    malli = AgglomerativeClustering(linkage=linkitysstrategia, n_clusters=klustereiden_lukumäärä).fit(data)\n",
    "    luokat_hierarkkinen = malli.labels_\n",
    "    return luokat_hierarkkinen\n",
    "\n",
    "linkitysstrategia = ['single','ward','single','average','single']\n",
    "\n",
    "# Sijoitetaan klusteroidut datanäytteet kaksiulotteisiin kuvaajiin\n",
    "# Tämän välivaiheen ajaminen kestää hetken aikaa\n",
    "fig, axes = plt.subplots(2,3)\n",
    "fig.delaxes(axes[1][2])\n",
    "fig.suptitle('Kokoava hierarkkinen klusterointi algoritmin tuottamat lopputulokset')\n",
    "for i in range(datat_normalisoitu.shape[0]):\n",
    "    ax = axes[i//3,i%3]\n",
    "    luokat_hierarkkinen = suorita_kokoava_hierarkkinen_klusterointi(datat_normalisoitu[i], klustereiden_lukumäärät[i], linkitysstrategia[i])\n",
    "    luokat_hierarkkinen = valitse_parhaat_värit_klustereille(luokat[i], luokat_hierarkkinen)\n",
    "    for j in range(luokat_hierarkkinen.shape[0]):\n",
    "        ax.scatter(datat_normalisoitu[i][j, 0], datat_normalisoitu[i][j, 1], c=[cm.gnuplot(luokat_hierarkkinen[j]/(klustereiden_lukumäärät[i]-1))], s=20, marker='o')\n",
    "    ax.set_title(otsikot[i])\n",
    "    ax.set_xlabel('Luokittelutarkkuus = {} %'.format(round(100*accuracy_score(luokat_hierarkkinen,luokat[i]),3)))"
   ]
  },
  {
   "cell_type": "markdown",
   "metadata": {},
   "source": [
    "**Miksi K-means-algoritmi ei onnistu klusteroimaan oikein dataa Ryhmät ja DBSCAN-algoritmi dataa Tihentymät?**\n",
    "\n",
    "`Tähän sinun vastaus`"
   ]
  },
  {
   "cell_type": "markdown",
   "metadata": {},
   "source": [
    "# Tehtävä 2. Dimensionaalisuuden vähentäminen\n",
    "\n",
    "Toisessa tehtävässä luodaan kaksiulotteisia visualisointeja kolmelle eri datalle algoritmeilla [PCA](https://scikit-learn.org/stable/modules/generated/sklearn.decomposition.PCA.html), [MDS](https://scikit-learn.org/stable/modules/generated/sklearn.manifold.MDS.html), [LLE](https://scikit-learn.org/stable/modules/generated/sklearn.manifold.LocallyLinearEmbedding.html), [Isomap](https://scikit-learn.org/stable/modules/generated/sklearn.manifold.Isomap.html), [t-SNE](https://scikit-learn.org/stable/modules/generated/sklearn.manifold.TSNE.html) ja [UMAP](https://umap-learn.readthedocs.io/en/latest/). Tämän lisäksi pudotetaan korkeadimensioisen datan piirteiden lukumäärää ja arvioidaan sen vaikutusta opetettavan luokittelijan luokittelutarkkuuteen ja opetukseen kuluvaan aikaan.\n",
    "\n",
    "Tehtävässä käytetään seuraavia datoja:\n",
    "\n",
    "### Viinidata\n",
    "\n",
    "Viinidata (engl. wines data) koostuu kolmen italialaisen viinilajikkeen eri ominaisuuksista. Data sisältää yhteensä 178 näytettä. Piirteinä on käytetty 13 viinin ominaisuutta, kuten alkoholipitoisuutta, omenahapon määrää, tuhkan määrää, magnesiumin määrää, viinin värin intensiteettiä ja värisävyä.\n",
    "\n",
    "### Muoti MNIST-data\n",
    "\n",
    "Muoti MNIST-data (engl. Fashion MNIST) sisältää MNIST-datan tapaan 70 000 näytettä kymmenestä eri luokasta. Näytteet ovat 28x28 pikselin kokoisia harmaasävykuvia vaatekappaleista, kuten t-paidoista, housuista, laukuista, sandaaleista, puseroista ja takeista. Kuvat on otettu mustaa taustaa vasten. Tätä tehtävää varten alkuperäisestä muoti MNIST-datasta on valittu 700 näytteen joukko algoritmien laskenta-ajan pienentämiseksi. Kuvassa 1 on esimerkkikuvia muoti MNIST-datan kaikista luokista.\n",
    "\n",
    "<br>\n",
    "<div style=\"width:image width px; font-size:80%; text-align:center;\">\n",
    "    <center>\n",
    "    <img src='kuvat\\muotimnist.png' width='950' height='auto' style='padding-bottom:0.5em;' />\n",
    "    </center>\n",
    "    <span>Kuva 1. Esimerkkikuvia muoti MNIST-datan kaikista luokista.</span>\n",
    "</div>\n",
    "<br>\n",
    "\n",
    "### Oksada\n",
    "\n",
    "Oksadata sisältää sahatavaran vikojen yleisimpiä oksatyyppejä. Oksa on kovaa puuainesta, jonka syysuunta on kohtisuorassa puun rungon syysuuntaan. Alkuperäinen oksadata sisältää erikokoisia RGB-kuvia mutta dimensionaalisuuden vähentämisten suorittamiseksi kuvat on skaalattu 40x40 pikselin kokoon. Oksien tyypit on jaettu luokkiin oksan laadun ja sahaussuunnan perusteella. Kuvassa 2 on esimerkkikuvia oksadatan kaikista luokista.\n",
    "\n",
    "<br>\n",
    "<div style=\"width:image width px; font-size:80%; text-align:center;\">\n",
    "    <center>\n",
    "    <img src='kuvat\\oksa.png' width='600' height='auto' style='padding-bottom:0.5em;' />\n",
    "    </center>\n",
    "    <span>Kuva 2. Esimerkkikuvia oksadatan kaikista luokista.</span>\n",
    "</div>\n",
    "<br>\n",
    "\n",
    "Aivan aluksi ladataan datat."
   ]
  },
  {
   "cell_type": "code",
   "execution_count": null,
   "metadata": {},
   "outputs": [],
   "source": [
    "# Ladataan datat\n",
    "with open(\"data/viinidata.pkl\", \"rb\") as f1:\n",
    "    data_f1 = pickle.load(f1)\n",
    "data_viini, luokat_viini = np.array(data_f1[0]), np.array(data_f1[1])\n",
    "luokkien_nimet_viini = ['viini 1', 'viini 2', 'viini 3']\n",
    "\n",
    "with open(\"data/muoti_mnist_data.pkl\", \"rb\") as f2:\n",
    "    data_f2 = pickle.load(f2)\n",
    "data_muoti, luokat_muoti = np.array(data_f2[0]), np.array(data_f2[1])\n",
    "luokkien_nimet_muoti = ['t-paita','housut','villapaita','mekko','takki','sandaali','paita','urheilukenkä','laukku','bootsi']\n",
    "\n",
    "with open(\"data/oksadata.pkl\", \"rb\") as f3:\n",
    "    data_f3 = pickle.load(f3)\n",
    "data_oksa, luokat_oksa = np.array(data_f3[0]), np.array(data_f3[1])\n",
    "luokkien_nimet_oksa = ['tuoreoksa','kuiva oksa','särmäoksa','lehtioksa','sarvioksa','kuoren ympäröimä oksa','laho oksa']"
   ]
  },
  {
   "cell_type": "markdown",
   "metadata": {},
   "source": [
    "## Datan visualisoiminen\n",
    "\n",
    "Suoritetaan datoille muunnokset eri dimensionaalisuuden vähentämismenetelmillä. Muunnoksen onnistumista arvioidaan opettamalla muunnetussa ulottuvuudessa k-lähimmän naapurin luokittelija ja laskemalla opetusdatan luokittelutarkkuus. Huomaa, että dimensionaalisuuden vähentämismenetelmät eivät käytä luokkatietoja hyväkseen, vaan muunnettujen näytteiden ennustettuja luokkia verrataan niiden todellisiin luokkiin vasta jälkikäteen luokittelutarkkuutta laskiessa.\n",
    "\n",
    "Opeta k-lähimmän naapurin luokittelija muunnetussa ulottuvuudessa, ennusta muunnetulle datalle luokat ja laske luokittelutarkkuus."
   ]
  },
  {
   "cell_type": "code",
   "execution_count": null,
   "metadata": {},
   "outputs": [],
   "source": [
    "def muunna_data(data, parametrit=[]):\n",
    "    \"\"\"\n",
    "    Tämä funktio muuntaa datan kahteen dimensioon eri dimensionaalisuuden vähennysmenetelmillä.\n",
    "    \"\"\"\n",
    "    data_pca = PCA(n_components=2, random_state=0).fit_transform(data)\n",
    "    data_mds = MDS(n_jobs=-1, random_state=0).fit_transform(data)\n",
    "    data_lle = LocallyLinearEmbedding(eigen_solver='arpack', method='modified',n_neighbors=parametrit[0], n_jobs=-1, random_state=0).fit_transform(data)\n",
    "    data_isomap = Isomap(n_neighbors=parametrit[1]).fit_transform(data)\n",
    "    data_tsne = TSNE(n_components=2, perplexity=parametrit[2], metric='sqeuclidean', random_state=0).fit_transform(data)\n",
    "    data_umap = umap.UMAP(n_neighbors=parametrit[3], min_dist=parametrit[4], metric='correlation', random_state=0).fit_transform(data)\n",
    "    datat_muunnettu = np.array([data_pca, data_mds, data_lle, data_isomap, data_tsne, data_umap])\n",
    "    return datat_muunnettu\n",
    "\n",
    "def laske_luokittelutarkkuus_muunnetussa_ulottuvuudessa(data_muunnettu, luokat, k):\n",
    "    \"\"\"\n",
    "    Tämä funktio laskee opetusdatan luokittelutarkkuuden k-lähimmän naapurin luokittelijalle muunnetulle datalle.\n",
    "    \"\"\"\n",
    "    # Määritetään luokittelija\n",
    "    luokittelija_knn = KNeighborsClassifier(n_neighbors=k)\n",
    "    #-------TÄHÄN SINUN KOODI--------\n",
    "    # Opeta k-lähimmän naapurin luokittelija muunnetulla datalla (Vihje: .fit(opetusdata, opetusdatan luokat))\n",
    "    \n",
    "    # Ennusta luokittelijalla luokat muunnetulle datalle (Vihje: .predict(opetusdata))\n",
    "    \n",
    "    # Laske opetusdatan luokittelutarkkuus luokittelijalle (Vihje: accuracy_score(opetusdatan luokat, ennustetut luokat))\n",
    "    \n",
    "    # Funktio palauttaa luokittelutarkkuuden\n",
    "    \n",
    "    #--------------------------------"
   ]
  },
  {
   "cell_type": "markdown",
   "metadata": {},
   "source": [
    "Suoritetaan viinidatan visualisoiminen eri dimensionaalisuuden vähentämismenetelmillä.\n",
    "\n",
    "(*Jos python-kirjasto umap-learn antaa virheilmoituksen ja käytät 32-bittistä järjestelmää, virheen voi korjata menemällä umap-kansioon (esim. C:\\Users\\Tuomas\\AppData\\Local\\Programs\\Python\\Python37\\Lib\\site-packages\\umap) ja korvaamalla kansion python-tiedostoista löytyvät kohdat 'parallel=True' kohdalla 'parallel=False'. Rinnakkaislaskennan poistaminen UMAP-algoritmista hiekentää hivenen sen suorituskykyä, joten suorita tämä toimenpide ainoastaan, jos ongelmia ilmenee umap-learn kirjaston kanssa.*)"
   ]
  },
  {
   "cell_type": "code",
   "execution_count": null,
   "metadata": {},
   "outputs": [],
   "source": [
    "# Suoritetaan dimensionaalisuuden vähentäminen eri menetelmillä viinidatalle\n",
    "algoritmit = ['PCA','MDS','LLE','Isomap','t-SNE','UMAP']\n",
    "värit_viini = np.unique(luokat_viini, return_inverse=True)[1]\n",
    "datat_viini_muunnettu = muunna_data(data_viini, parametrit=[11,13,27,24,0.024])\n",
    "for i in range(datat_viini_muunnettu.shape[0]):\n",
    "    fig, ax = plt.subplots(figsize=(14,10))\n",
    "    plt.scatter(datat_viini_muunnettu[i][:,0],datat_viini_muunnettu[i][:,1], s=30, c=värit_viini,  cmap='rainbow', edgecolor='k')\n",
    "    selitteet = [plt.plot([],[], marker='o',markeredgecolor='k', color=cm.rainbow(int(j)/(len(luokkien_nimet_viini)-1)), linestyle='None', label=luokkien_nimet_viini[j])[0]  for j in range(len(luokkien_nimet_viini))]\n",
    "    plt.legend(handles=selitteet, loc='center left', bbox_to_anchor=(1, 0.5))  \n",
    "    plt.title('Viinidatan kaksiulotteinen visualisointi {}-algoritmilla'.format(algoritmit[i]), fontsize=18)\n",
    "    ax.set_yticklabels([])\n",
    "    ax.set_xticklabels([])\n",
    "    ax.set_xlabel('Luokittelutarkkuus kaksiulotteisessa piirreavaruudessa: {} %'.format(round(laske_luokittelutarkkuus_muunnetussa_ulottuvuudessa(datat_viini_muunnettu[i], luokat_viini, 15)*100,3)))"
   ]
  },
  {
   "cell_type": "markdown",
   "metadata": {},
   "source": [
    "**Mitkä kolme dimensionaalisuuden vähentämisemenetelmää visualisoivat parhaiten viinidatan kaksiulotteisten kuvaajien ja luokittelutarkkuuksien perusteella?**\n",
    "\n",
    "`Tähän sinun vastaus`"
   ]
  },
  {
   "cell_type": "markdown",
   "metadata": {},
   "source": [
    "Suoritetaan seuraavaksi muoti MNIST-datan visualisoiminen eri dimensionaalisuuden vähentämismenetelmillä. \n",
    "\n",
    "Aja koodilohkot läpi yksi kerrallaan painamalla 'Run' painiketta nähdäksesi interaktiiviset visualisoinnit. Viemällä kursori datapisteen päälle kuvaajassa, voit tarkastella, millaiset näytteet sijoittavat eri puolille piirreavaruutta. Tarkastelun jälkeen interaktiivisen kuvaajan sulkemisen hoitaa $\\text{plt.close('all')}$ komento seuraavassa koodilohkossa."
   ]
  },
  {
   "cell_type": "code",
   "execution_count": null,
   "metadata": {},
   "outputs": [],
   "source": [
    "# Interaktiivisten visualisointien suorittamiseksi tämän koodilohkon ajaminen on välttämätöntä\n",
    "if INTERACTIVE_MODE:\n",
    "    %matplotlib widget"
   ]
  },
  {
   "cell_type": "code",
   "execution_count": null,
   "metadata": {},
   "outputs": [],
   "source": [
    "def hover(event):\n",
    "    \"\"\"\n",
    "    Tämä funktio mahdollistaa kuvan toistamisen kursorin ollessa datapisteen päällä.\n",
    "    \"\"\"\n",
    "    if data_pisteet.contains(event)[0]:\n",
    "        indeksit = data_pisteet.contains(event)[1]['ind']\n",
    "        indeksi = indeksit[0]\n",
    "        leveys, korkeus = fig.get_size_inches()*fig.dpi\n",
    "        leveydet = (event.x > leveys/2.)*-1 + (event.x <= leveys/2.) \n",
    "        korkeudet = (event.y > korkeus/2.)*-1 + (event.y <= korkeus/2.)\n",
    "        havainnekuva_boksi.xybox = (kuva_boksin_koko[0]*leveydet, kuva_boksin_koko[1]*korkeudet)\n",
    "        havainnekuva_boksi.set_visible(True)\n",
    "        havainnekuva_boksi.xy =(x_koordinaatti[indeksi], y_koordinaatti[indeksi])\n",
    "        alustettu_kuva.set_data(kuvat_tmp[indeksi,:,:])\n",
    "    else:\n",
    "        havainnekuva_boksi.set_visible(False)\n",
    "    fig.canvas.draw_idle()\n",
    "    \n",
    "def interaktiivinen_visualisointi(muunnettu_data, luokat, kuvat, värit, luokkien_nimet, algoritmin_nimi, datan_nimi):\n",
    "    global data_pisteet, fig, ax, havainnekuva_boksi, kuva_boksin_koko, x_koordinaatti, y_koordinaatti, alustettu_kuva, kuvat_tmp\n",
    "    # Sijoitetaan datapisteet kuvaajaan\n",
    "    kuvat_tmp = kuvat\n",
    "    fig, ax = plt.subplots(figsize=(14,10))\n",
    "    x_koordinaatti = muunnettu_data[:,0]\n",
    "    y_koordinaatti = muunnettu_data[:,1]\n",
    "    data_pisteet = plt.scatter(x_koordinaatti,y_koordinaatti, s=30, c=värit,  cmap='jet', edgecolor='k')\n",
    "    selitteet = [plt.plot([],[], marker='o',markeredgecolor='k', color=cm.jet(int(i)/(len(luokkien_nimet)-1)), linestyle='None', label=luokkien_nimet[i])[0]  for i in range(len(luokkien_nimet))]\n",
    "    plt.legend(handles=selitteet, loc='center left', bbox_to_anchor=(1, 0.5))\n",
    "    plt.title('{}datan kaksiulotteinen visualisointi {}algoritmilla'.format(datan_nimi, algoritmin_nimi), fontsize=18)\n",
    "    ax.set_yticklabels([])\n",
    "    ax.set_xticklabels([])\n",
    "    ax.set_xlabel('Luokittelutarkkuus kaksiulotteisessa piirreavaruudessa: {} %'.format(round(laske_luokittelutarkkuus_muunnetussa_ulottuvuudessa(muunnettu_data, luokat, 15)*100,3)))\n",
    "\n",
    "    # Luodaan havainnekuva    \n",
    "    alustettu_kuva = OffsetImage(kuvat[1,:,:], zoom=2, cmap=plt.cm.gray_r)\n",
    "    kuva_boksin_koko = (40, 40)\n",
    "    havainnekuva_boksi = AnnotationBbox(alustettu_kuva, (0,0), xybox=kuva_boksin_koko, xycoords='data', boxcoords='offset points',  pad=0.3,  arrowprops=dict(arrowstyle='->'))\n",
    "    ax.add_artist(havainnekuva_boksi)\n",
    "    havainnekuva_boksi.set_visible(False)\n",
    "    \n",
    "    # Suoritetaan kuvan toistaminen hiiren ollessa datapisteen päällä\n",
    "    fig.canvas.mpl_connect('motion_notify_event', hover)"
   ]
  },
  {
   "cell_type": "code",
   "execution_count": null,
   "metadata": {},
   "outputs": [],
   "source": [
    "# Suoritetaan dimensionaalisuuden vähentäminen eri menetelmillä muoti MNIST-datalle\n",
    "# Huom. jos tämän kohdan ajaminen antaa RuntimeWarning virheilmoituksen, aja se uudestaan\n",
    "# Ennen kuin ajat seuraavan koodilohkon, odota että tämä välivaihe suoritetaan (kestää hetken aikaa).\n",
    "datat_muoti_muunnettu = muunna_data(data_muoti, parametrit=[10,10,11,13,0.013])\n",
    "värit_muoti = np.unique(luokat_muoti, return_inverse=True)[1]\n",
    "kuvat_muoti = np.reshape(data_muoti, (700,28,28))"
   ]
  },
  {
   "cell_type": "code",
   "execution_count": null,
   "metadata": {},
   "outputs": [],
   "source": [
    "# Muoti MNIST-datan interaktiivinen kaksiulotteinen visualisointi PCA-algoritmilla\n",
    "interaktiivinen_visualisointi(datat_muoti_muunnettu[0], luokat_muoti, kuvat_muoti, värit_muoti, luokkien_nimet_muoti, 'PCA-', 'Muoti MNIST-')\n",
    "plt.show();"
   ]
  },
  {
   "cell_type": "code",
   "execution_count": null,
   "metadata": {
    "scrolled": true
   },
   "outputs": [],
   "source": [
    "# Suljetaan aiempi interaktiivinen kaksiulotteinen visualisointi\n",
    "plt.close('all')\n",
    "\n",
    "# Muoti MNIST-datan kaksiulotteinen interaktiivinen visualisointi MDS-algoritmilla\n",
    "interaktiivinen_visualisointi(datat_muoti_muunnettu[1], luokat_muoti, kuvat_muoti, värit_muoti, luokkien_nimet_muoti, 'MDS-', 'Muoti MNIST-')\n",
    "plt.show();"
   ]
  },
  {
   "cell_type": "code",
   "execution_count": null,
   "metadata": {},
   "outputs": [],
   "source": [
    "# Suljetaan aiempi interaktiivinen kaksiulotteinen visualisointi\n",
    "plt.close('all')\n",
    "\n",
    "# Muoti MNIST-datan kaksiulotteinen interaktiivinen visualisointi LLE-algoritmilla\n",
    "interaktiivinen_visualisointi(datat_muoti_muunnettu[2], luokat_muoti, kuvat_muoti, värit_muoti, luokkien_nimet_muoti, 'LLE-', 'Muoti MNIST-')\n",
    "plt.show();"
   ]
  },
  {
   "cell_type": "code",
   "execution_count": null,
   "metadata": {},
   "outputs": [],
   "source": [
    "# Suljetaan aiempi interaktiivinen kaksiulotteinen visualisointi\n",
    "plt.close('all')\n",
    "\n",
    "# Muoti MNIST-datan kaksiulotteinen interaktiivinen visualisointi Isomap-algoritmilla\n",
    "interaktiivinen_visualisointi(datat_muoti_muunnettu[3], luokat_muoti, kuvat_muoti, värit_muoti, luokkien_nimet_muoti, 'Isomap-', 'Muoti MNIST-')\n",
    "plt.show();"
   ]
  },
  {
   "cell_type": "code",
   "execution_count": null,
   "metadata": {},
   "outputs": [],
   "source": [
    "# Suljetaan aiempi interaktiivinen kaksiulotteinen visualisointi\n",
    "plt.close('all')\n",
    "\n",
    "# Muoti MNIST-datan kaksiulotteinen interaktiivinen visualisointi t-SNE-algoritmilla\n",
    "interaktiivinen_visualisointi(datat_muoti_muunnettu[4], luokat_muoti, kuvat_muoti, värit_muoti, luokkien_nimet_muoti, 't-SNE-', 'Muoti MNIST-')\n",
    "plt.show();"
   ]
  },
  {
   "cell_type": "code",
   "execution_count": null,
   "metadata": {},
   "outputs": [],
   "source": [
    "# Suljetaan aiempi interaktiivinen kaksiulotteinen visualisointi\n",
    "plt.close('all')\n",
    "# Muoti MNIST-datan interaktiivinen kaksiulotteinen visualisointi UMAP-algoritmilla\n",
    "interaktiivinen_visualisointi(datat_muoti_muunnettu[5], luokat_muoti, kuvat_muoti, värit_muoti, luokkien_nimet_muoti, 'UMAP-', 'Muoti MNIST-')\n",
    "plt.show();"
   ]
  },
  {
   "cell_type": "code",
   "execution_count": null,
   "metadata": {},
   "outputs": [],
   "source": [
    "# Suljetaan interaktiivinen kaksiulotteinen visualisointi\n",
    "plt.close('all')"
   ]
  },
  {
   "cell_type": "markdown",
   "metadata": {},
   "source": [
    "**Mitkä kolme dimensionaalisuuden vähentämisemenetelmää visualisoivat parhaiten muoti MNIST-datan kaksiulotteisten kuvaajien ja luokittelutarkkuuksien perusteella?**\n",
    "\n",
    "`Tähän sinun vastaus`"
   ]
  },
  {
   "cell_type": "markdown",
   "metadata": {},
   "source": [
    "### Oksadata\n",
    "\n",
    "Suoritetaan oksadatan visualisoiminen eri dimensionaalisuuden vähentämismenetelmillä."
   ]
  },
  {
   "cell_type": "code",
   "execution_count": null,
   "metadata": {},
   "outputs": [],
   "source": [
    "# Suoritetaan dimensionaalisuuden vähentäminen kaksiulotteisiksi esityksiksi oksadatalle eri menetelmillä\n",
    "# Huom. jos tämän kohdan ajaminen antaa RuntimeWarning virheilmoituksen, aja kohta uudestaan\n",
    "# Ennen kuin ajat seuraavan koodilohkon, odota että tämä välivaihe suoritetaan (kestää hetken aikaa).\n",
    "datat_oksa_muunnettu = muunna_data(data_oksa, parametrit=[13,26,24,5,0.05])\n",
    "värit_oksa = np.unique(luokat_oksa, return_inverse=True)[1].tolist()\n",
    "kuvat_oksa = np.reshape(data_oksa, (438,40,40,3))"
   ]
  },
  {
   "cell_type": "code",
   "execution_count": null,
   "metadata": {},
   "outputs": [],
   "source": [
    "# Suljetaan aiempi interaktiivinen kaksiulotteinen visualisointi\n",
    "plt.close('all')\n",
    "\n",
    "# Oksadatan kaksiulotteinen interaktiivinen visualisointi PCA-algoritmilla\n",
    "interaktiivinen_visualisointi(datat_oksa_muunnettu[0], luokat_oksa, kuvat_oksa, värit_oksa, luokkien_nimet_oksa, 'PCA-', 'Oksa')\n",
    "plt.show();"
   ]
  },
  {
   "cell_type": "code",
   "execution_count": null,
   "metadata": {},
   "outputs": [],
   "source": [
    "# Suljetaan aiempi interaktiivinen kaksiulotteinen visualisointi\n",
    "plt.close('all')\n",
    "\n",
    "# Oksadatan kaksiulotteinen interaktiivinen visualisointi MDS-algoritmilla\n",
    "interaktiivinen_visualisointi(datat_oksa_muunnettu[1], luokat_oksa, kuvat_oksa, värit_oksa, luokkien_nimet_oksa, 'MDS-', 'Oksa')\n",
    "plt.show();"
   ]
  },
  {
   "cell_type": "code",
   "execution_count": null,
   "metadata": {},
   "outputs": [],
   "source": [
    "# Suljetaan aiempi interaktiivinen kaksiulotteinen visualisointi\n",
    "plt.close('all')\n",
    "\n",
    "# Oksadatan kaksiulotteinen interaktiivinen visualisointi LLE-algoritmilla\n",
    "interaktiivinen_visualisointi(datat_oksa_muunnettu[2], luokat_oksa, kuvat_oksa, värit_oksa, luokkien_nimet_oksa, 'LLE-', 'Oksa')\n",
    "plt.show();"
   ]
  },
  {
   "cell_type": "code",
   "execution_count": null,
   "metadata": {},
   "outputs": [],
   "source": [
    "# Suljetaan aiempi interaktiivinen kaksiulotteinen visualisointi\n",
    "plt.close('all')\n",
    "\n",
    "# Oksadatan kaksiulotteinen interaktiivinen visualisointi Isomap-algoritmilla\n",
    "interaktiivinen_visualisointi(datat_oksa_muunnettu[3], luokat_oksa, kuvat_oksa, värit_oksa, luokkien_nimet_oksa, 'Isomap-', 'Oksa')\n",
    "plt.show();"
   ]
  },
  {
   "cell_type": "code",
   "execution_count": null,
   "metadata": {},
   "outputs": [],
   "source": [
    "# Suljetaan aiempi interaktiivinen kaksiulotteinen visualisointi\n",
    "plt.close('all')\n",
    "\n",
    "# Oksadatan kaksiulotteinen interaktiivinen visualisointi t-SNE-algoritmilla\n",
    "interaktiivinen_visualisointi(datat_oksa_muunnettu[4], luokat_oksa, kuvat_oksa, värit_oksa, luokkien_nimet_oksa, 't-SNE-', 'Oksa')\n",
    "plt.show();"
   ]
  },
  {
   "cell_type": "code",
   "execution_count": null,
   "metadata": {},
   "outputs": [],
   "source": [
    "# Suljetaan aiempi interaktiivinen kaksiulotteinen visualisointi\n",
    "plt.close('all')\n",
    "\n",
    "# Oksadatan kaksiulotteinen interaktiivinen visualisointi UMAP-algoritmilla\n",
    "interaktiivinen_visualisointi(datat_oksa_muunnettu[5], luokat_oksa, kuvat_oksa, värit_oksa, luokkien_nimet_oksa, 'UMAP-', 'Oksa')\n",
    "plt.show();"
   ]
  },
  {
   "cell_type": "code",
   "execution_count": null,
   "metadata": {},
   "outputs": [],
   "source": [
    "# Suljetaan aiempi interaktiivinen kaksiulotteinen visualisointi\n",
    "plt.close('all')"
   ]
  },
  {
   "cell_type": "markdown",
   "metadata": {},
   "source": [
    "**Mitkä kolme dimensionaalisuuden vähentämisemenetelmää visualisoivat parhaiten oksadatan kaksiulotteisten kuvaajien ja luokittelutarkkuuksien perusteella?**\n",
    "\n",
    "`Tähän sinun vastaus`"
   ]
  },
  {
   "cell_type": "markdown",
   "metadata": {},
   "source": [
    "**Miksi pääkomponenttianalyysi ei onnistu kovin hyvin visualisoinneissa muoti MNIST-datalle ja oksadatalle?**\n",
    "\n",
    "`Tähän sinun vastaus`"
   ]
  },
  {
   "cell_type": "markdown",
   "metadata": {},
   "source": [
    "## Piirteiden lukumäärän vähentäminen\n",
    "\n",
    "Toinen yleinen käyttötarkoitus dimensionaalisuuden vähentämiselle on piirteiden tehokas pakkaaminen luokittelijan opettamiseen kuluvan laskenta-ajan pienentämiseksi. Käytetään pääkomponenttianalyysia irrottamaan muoti MNIST-datan alkuperäisten muuttujien informaatio pääkomponentteihin. Tämän jälkeen käydään läpi piirteiden lukumäärät 1-700 kymmenen askeleen välein. \n",
    "\n",
    "Laske luokittelutarkkuus k-lähimmän naapurin luokittelijalle ja luokittelijan opettamiseen kuluva aika, kun $k$ on 5. Lisää luokittelutarkkuudet ja laskenta-ajat listoihin. Piirretään lopuksi kuvaajaan, miten luokittelutarkkuudet ja luokittelijan opettamiseen kuluva laskenta-aika riippuvat piirteiden lukumäärästä. "
   ]
  },
  {
   "cell_type": "code",
   "execution_count": null,
   "metadata": {},
   "outputs": [],
   "source": [
    "%matplotlib inline\n",
    "luokittelutarkkuudet = []\n",
    "laskenta_ajat = []\n",
    "    \n",
    "# Suoritetaan pääkomponenttianalyysi muoti MNIST-datalle\n",
    "data_muoti_pca = PCA(n_components=700, random_state=0).fit_transform(data_muoti)\n",
    "\n",
    "# Käydään läpi piirteiden lukumäärät 1-700 kymmenen askeleen välein, opetetaan k-lähimmän naapurin luokittelija ja lasketaan luokittelutarkkuus ja opettamiseen kulunut aika\n",
    "piirteiden_lukumäärät = range(1,700,10)\n",
    "for i in piirteiden_lukumäärät:\n",
    "    # Valitaan muunnetusta datasta i ensimmäistä pääkomponenttia\n",
    "    data_muoti_muunnettu = data_muoti_pca[:,0:i]\n",
    "    #-------TÄHÄN SINUN KOODI--------\n",
    "    # Ota alkuajanhetki t1 ylös (Vihje: time.time())\n",
    "    \n",
    "    # Laske luokittelutarkkuus luokittelijalle funktiolla laske_luokittelutarkkuus_muunnetussa_ulottuvuudessa(data_muoti_muunnettu, luokat_muoti, 5), kun k on 5.\n",
    "    \n",
    "    # Ota luokittelijan opettamisen jälkeen ajanhetki t2 (Vihje: time.time())\n",
    "    \n",
    "    # Laske ajanhetkien erotus saadaksesi selville opettamiseen kuluneen ajan\n",
    "    \n",
    "    # Lisää laskettu luokittelutarkkuus listaan luokittelutarkkuudet\n",
    "    \n",
    "    # Lisää ajanhetkien erotus listaan laskenta_ajat\n",
    "    \n",
    "    #--------------------------------\n",
    "    \n",
    "# Piirretään kuvaajaan piirteiden lukumäärän vaikutus luokittelijan luokittelutarkkuuteen\n",
    "plt.figure(figsize=(15,10))\n",
    "plt.plot(piirteiden_lukumäärät, luokittelutarkkuudet)\n",
    "plt.title('k-lähimmän naapurin luokittelijan luokittelutarkkuus eri piirteiden lukumäärillä')\n",
    "plt.xlabel('Piirteiden lukumäärä')\n",
    "plt.ylabel('Luokittelutarkkuus')\n",
    "\n",
    "# Piirretään kuvaajaan piirteiden lukumäärän vaikutus luokittelijan opettamiseen kuluneeseen aikaan\n",
    "plt.figure(figsize=(15,10))\n",
    "plt.plot(piirteiden_lukumäärät, laskenta_ajat)\n",
    "plt.title('k-lähimmän naapurin luokittelijan opettamiseen kulunut aika eri piirteiden lukumäärillä')\n",
    "plt.xlabel('Piirteiden lukumäärä')\n",
    "plt.ylabel('Laskenta-aika')\n",
    "plt.show()\n",
    "\n",
    "# Valitaan lopuksi luokittelutarkkuuksien kuvaajasta optimaalinen määrä piirteitä\n",
    "maksimi_indeksi_knn = np.argmax(luokittelutarkkuudet)\n",
    "print('Optimaalisella määrällä piirteitä ({}) luokittelutarkkuus on {} % ja luokittelijan opettamiseen kulunut aika on {} sekuntia.'.format(piirteiden_lukumäärät[maksimi_indeksi_knn], round(luokittelutarkkuudet[maksimi_indeksi_knn]*100,3), round(laskenta_ajat[maksimi_indeksi_knn],3)))"
   ]
  },
  {
   "cell_type": "markdown",
   "metadata": {},
   "source": [
    "**Mistä ilmiöstä on kyse, kun k-lähimmän naapurin luokittelijan suorituskyky on alkuperäisen datan muuttujia reilusti pienemmällä määrällä piirteitä parempi? Miten luokittelijan opettamiseen kulunut aika riippuu piirteiden lukumäärästä?**\n",
    "\n",
    "`Tähän sinun vastaus`"
   ]
  },
  {
   "cell_type": "markdown",
   "metadata": {},
   "source": [
    "# Palaute\n",
    "Lopuksi vastaa seuraaviin kysymyksiin:"
   ]
  },
  {
   "cell_type": "markdown",
   "metadata": {},
   "source": [
    "**Kuinka paljon aikaa käytit harjoituksen tekemiseen?**\n",
    "\n",
    "`Tähän sinun vastaus`"
   ]
  },
  {
   "cell_type": "markdown",
   "metadata": {},
   "source": [
    "**Kohtasitko ongelmia tai haasteita harjoitusta tehdessäsi? Oliko notebookissa riittävän kattava ohjeistus harjoituksen tekemiseen?**\n",
    "\n",
    "`Tähän sinun vastaus`"
   ]
  },
  {
   "cell_type": "markdown",
   "metadata": {},
   "source": [
    "**Muuta palautetta harjoitukseen liittyen?**\n",
    "\n",
    "`Tähän sinun vastaus`"
   ]
  },
  {
   "cell_type": "markdown",
   "metadata": {
    "collapsed": true,
    "jupyter": {
     "outputs_hidden": true
    }
   },
   "source": [
    "# Palautus\n",
    "\n",
    "1. Aivan aluksi vaihda notebookin neljänneksi ylimmässä koodilohkossa määritetty interaktiivinen tila **pois päältä** (**INTERACTIVE_MODE = False**)!\n",
    "2. Ennen kuin palautat tämän notebookin, **tarkista, että notebookin koodi toimii** ja tuottaa kaikki pyydetyt tulokset valitsemalla valikosta `Kernel -> Restart & Run All`! Huomaa, että tuloksien ajaminen kestää hetken aikaa. Tarkista lisäksi, että olet vastannut kaikkiin lihavoituihin **kysymyksiin.**\n",
    "3. **Aiempien harjoituksien** palautusohjeisiin poiketen, **älä tyhjennä tulosteita ja muuttujia**, vaan paina tallenna painiketta suoritettuasi 2. vaiheen. Huomaathan myös että notebookin uudelleen suorittaminen vie hyvän tovin!\n",
    "4. Nimeä uudelleen tämä notebook-tiedosto muodossa **`JT_H4_[opiskelijanumero(t)].ipynb`** (esim. `JT_H4_1234567.ipynb` jos teet harjoituksen yksin tai `JT_H4_1234567_2345678_3456789.ipynb` jos teette harjoituksen ryhmässä)\n",
    "5. Palauta **ainoastaan** ratkaisemasi notebook-tiedosto (`.ipynb` päätteinen tiedosto) Moodleen ohjelmointi harjoitus 4 . **Älä siis sisällytä työkansiota tai muita tiedostoja** palautukseesi! **HOX jokainen palauttaa tiedoston itsenäisesti moodleen**\n",
    "6. Vastaa **Moodlessa ohjelmointiharjoitus 4** vastaaviin kysymyksiin henkilökohtaisesti"
   ]
  },
  {
   "cell_type": "code",
   "execution_count": null,
   "metadata": {},
   "outputs": [],
   "source": []
  }
 ],
 "metadata": {
  "kernelspec": {
   "display_name": "Python 3 (ipykernel)",
   "language": "python",
   "name": "python3"
  },
  "language_info": {
   "codemirror_mode": {
    "name": "ipython",
    "version": 3
   },
   "file_extension": ".py",
   "mimetype": "text/x-python",
   "name": "python",
   "nbconvert_exporter": "python",
   "pygments_lexer": "ipython3",
   "version": "3.8.15"
  }
 },
 "nbformat": 4,
 "nbformat_minor": 4
}
