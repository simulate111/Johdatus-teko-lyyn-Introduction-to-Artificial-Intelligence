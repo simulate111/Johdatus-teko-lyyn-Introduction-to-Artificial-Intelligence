{
 "cells": [
  {
   "cell_type": "code",
   "execution_count": null,
   "metadata": {},
   "outputs": [],
   "source": [
    "%matplotlib inline"
   ]
  },
  {
   "cell_type": "code",
   "execution_count": null,
   "metadata": {},
   "outputs": [],
   "source": [
    "%%javascript\n",
    "IPython.OutputArea.prototype._should_scroll = function(lines) {\n",
    "    return false;\n",
    "}"
   ]
  },
  {
   "cell_type": "code",
   "execution_count": null,
   "metadata": {},
   "outputs": [],
   "source": [
    "import os\n",
    "import numpy as np\n",
    "import scipy as sc\n",
    "import matplotlib.pyplot as plt\n",
    "import sklearn.metrics as sm\n",
    "from sklearn.model_selection import train_test_split\n",
    "from sklearn.linear_model import LogisticRegression\n",
    "from sklearn.metrics import accuracy_score\n",
    "plt.rcParams['figure.figsize'] = (15, 7)"
   ]
  },
  {
   "cell_type": "code",
   "execution_count": null,
   "metadata": {},
   "outputs": [],
   "source": [
    "from onedrivedownloader import download\n",
    "\n",
    "link2data = 'https://unioulu-my.sharepoint.com/:u:/g/personal/jukmaatt_univ_yo_oulu_fi/EfyEmGc8QYtCqA_H6_Am0QwBZKTra-JVQaPdN5vA4E_TRg?e=GVnvV3'\n",
    "\n",
    "if not os.path.exists('./data'):\n",
    "    print('Downloading data')\n",
    "    download(link2data, filename='./tiedostot.zip', unzip=True, unzip_path='./')"
   ]
  },
  {
   "cell_type": "markdown",
   "metadata": {},
   "source": [
    "# <center>521160P Johdatus Tekoälyyn<br><br>Harjoitus #2<br><br>Regressio<br>\n",
    "\n",
    "Tässä harjoituksessa käsitellään regressiomallien sovittamista dataan ja logistista regressiota. Harjoitus tulee palauttaa **Katso harjoitukseen liittyvät palautuksen deadline moodlesta** Harjoituksesta on mahdollisuus saada 4 pistettä (2.0p + 2.0p).\n",
    "\n",
    "Jos kohtaat ongelmia harjoitusta tehdessäsi tai sinulla on kysyttävää harjoitukseen liittyen ole yhteydessä **Moodlesta** löytyvän **ohjelmointiharjoitus 2** foorumin kautta."
   ]
  },
  {
   "cell_type": "markdown",
   "metadata": {},
   "source": [
    "**Täytä aluksi ryhmäsi jäsenten tiedot (nimi ja opiskelijanumero)**\n",
    "\n",
    "# Ryhmän jäsenten tiedot:\n",
    "\n",
    "* **Jäsen 1 :** `Matti Meikäläinen 1234567 `\n",
    "* **Jäsen 2 :** `Maija Meikäläinen 2345678 `\n",
    "* **Jäsen 3 :** `... `"
   ]
  },
  {
   "cell_type": "markdown",
   "metadata": {},
   "source": [
    "# Tehtävä 1. Regressiomallien sovittaminen\n",
    "\n",
    "Tässä tehtävässä luodaan lineaarinen, polynominen ja eksponentiaalinen regressiomalli auton pysähtymismatkan ja nopeuden riippuvuuden selvittämiseksi. Tehtävässä käytetään 1920-luvulla kerättyä dataa autojen pysähtymismatkoista eri nopeuksilla. Pysähtymismatka koostuu jarrutusmatkasta ja reagointiaikaa vastaavasta matkasta. Alkuperäinen data sisältää yhteensä 50 näytettä ja kaksi muuttujaa: pysähtymismatka mittayksikössä jalka ja nopeus mittayksikössä mailia tunnissa.\n",
    "\n",
    "Muunnetaan pysähtymismatka metreiksi ja nopeus mittayksikköön km/h ja sijoitetaan datanäytteet kuvaajaan."
   ]
  },
  {
   "cell_type": "code",
   "execution_count": null,
   "metadata": {},
   "outputs": [],
   "source": [
    "# Ladataan data cars numpy-listoihin. Muuttuja X viittaa nopeuden arvoihin ja muuttuja Y pysähtymismatkan arvoihin\n",
    "X, Y = np.loadtxt('data/cars.txt', delimiter=',', unpack=True)\n",
    "# Muunnetaan muuttujat X ja Y yksikköihin km/h ja metri\n",
    "X = X*1.609344\n",
    "Y = Y*0.3048\n",
    "# Sijoitetaan datanäytteet kuvaajaan\n",
    "plt.scatter(X, Y, color=\"black\",s=10, marker='o')\n",
    "plt.title('Auton pysähtymismatka eri nopeuksilla')\n",
    "plt.xlabel('Nopeus (km/h)')\n",
    "plt.ylabel('Pysähtymismatka (m)')\n",
    "plt.show()"
   ]
  },
  {
   "cell_type": "markdown",
   "metadata": {},
   "source": [
    "Koneoppimisessa opetusdataa käytetään mallin opettamiseen ja testidataa opetettavan mallin suorituskyvyn arvioimiseen. Tässä tapauksessa opettaminen tarkoittaa sopivien funktion parametrien selvittämistä opetusdatan näytteiden perusteella. Aluksi data jaetaan opetusdataan ja testidataan scikit-learn-kirjaston [train_test_split()](https://scikit-learn.org/stable/modules/generated/sklearn.model_selection.train_test_split.html) funktiolla. Funktio ottaa parametreina x-akselin pisteet, y-akselin pisteet ja testidatan absoluuttisen koon. Käytetään 70% näytteistä eli 35 näytettä mallin opettamiseen ja 30% näytteistä eli 15 näytettä mallin testaamiseen.\n",
    "\n",
    "Tehtäväsi on arvioida lineaarisen, polynomisen ja eksponentiaalisen regressiomallin suorituskykyä käyttämällä korrelaatiokertoimen neliötä ja keskineliövirhettä ja ennustaa eri malleilla auton pysähtymismatka annetusta nopeudesta.\n",
    "\n",
    "## Lineaarinen regressiomalli\n",
    "\n",
    "Suoritetaan lineaarisen regressiomallin opettaminen opetusdatalla. Tämä onnistuu numpy-kirjaston funktioilla [np.polyfit()](https://docs.scipy.org/doc/numpy/reference/generated/numpy.polyfit.html) ja [np.poly1d()](https://docs.scipy.org/doc/numpy/reference/generated/numpy.poly1d.html). Sijoitetaan opetusdatan näytteet kuvaajaan sinisinä pisteinä ja testidatan näytteet punaisina pisteinä. "
   ]
  },
  {
   "cell_type": "code",
   "execution_count": null,
   "metadata": {},
   "outputs": [],
   "source": [
    "# Jaetaan data opetusdataan ja testidataan\n",
    "X_opetus, X_testi, Y_opetus, Y_testi = train_test_split(X, Y, test_size=0.3, random_state=0)\n",
    "# Sijoitetaan opetusdatan näytteet kuvaajan sinisinä pisteinä ja testidatan näytteet punaisina pisteinä\n",
    "plt.scatter(X_opetus, Y_opetus, color=\"blue\",s=10, marker='o')\n",
    "plt.scatter(X_testi, Y_testi, color=\"red\",s=10, marker='o')\n",
    "plt.title('Auton pysähtymismatkan riippuvuus nopeudesta lineaarisella mallilla')\n",
    "plt.xlabel('Nopeus (km/h)')\n",
    "plt.ylabel('Pysähtymismatka (m)')\n",
    "\n",
    "# Optimoidaan suoran parametrit k ja b pienimmän neliösumman menetelmällä numpy-kirjaston polyfit funktiota käyttämällä\n",
    "# Funktio ottaa parametreina x-akselin pisteet, y-akselin pisteet ja sovitettavan polynomifunktion asteluvun \n",
    "# Suora on ensimmäisen asteen polynomifunktio\n",
    "suoran_parametrit = np.polyfit(X_opetus, Y_opetus, 1)\n",
    "# Luodaan lineaarinen malli nympy-kirjaston poly1d funktiolla optimaalisten suoran parametrien löydyttyä\n",
    "lineaarinen_malli = np.poly1d(suoran_parametrit)\n",
    "\n",
    "# Piirretään suora kuvaajaan vaihteluvälille [min(X_opetus), max(X_opetus)]\n",
    "X_suora = np.linspace(min(X_opetus), max(X_opetus))\n",
    "Y_suora = lineaarinen_malli(X_suora)\n",
    "plt.plot(X_suora, Y_suora, c='black', linewidth=2)\n",
    "plt.show()\n",
    "\n",
    "def etumerkki(numero):\n",
    "    \"\"\"\n",
    "    Tässä funktiossa selvitetään yhtälön parametrien etumerkki kertoimien tulostamista varten \n",
    "    \"\"\"\n",
    "    if numero >= 0:\n",
    "        return '+'\n",
    "    return '-'\n",
    "\n",
    "# Tulostetaan sovitetun suoran yhtälö\n",
    "print('Sovitetun suoran yhtälö:  y = {} x {} {}'.format(round(suoran_parametrit[0],4), etumerkki(suoran_parametrit[1]), abs(round(suoran_parametrit[1],4))))\n"
   ]
  },
  {
   "cell_type": "markdown",
   "metadata": {},
   "source": [
    "Arvioidaan tämän jälkeen sovitetun lineaarisen mallin suorituskykyä testidataa käyttämällä. Käytetään suorituskyvyn mittoina korrelaatiokertoimen neliötä ja keskineliövirhettä, jotka lasketaan seuraavilla yhtälöillä. \n",
    "\n",
    "\\begin{equation}\n",
    "r^2 = \\frac{SSR}{SST} = 1 - \\frac{SSE}{SST} = 1 - \\frac{\\sum\\limits_{i=1}^n (Y_{i} - f(X_{i}))^2}{\\sum\\limits_{i=1}^n (Y_{i} - \\bar{Y})^2}\n",
    "\\end{equation}\n",
    "\n",
    "\\begin{equation}\n",
    "MSE = \\frac{1}{n} \\sum\\limits_{i=1}^n (Y_{i} - f(X_{i}))^2\n",
    "\\end{equation}\n",
    "\n",
    "Toteuta numpy-kirjaston funktioita [np.sum()](https://docs.scipy.org/doc/numpy/reference/generated/numpy.sum.html), [np.square()](https://docs.scipy.org/doc/numpy/reference/generated/numpy.square.html), [np.mean()](https://docs.scipy.org/doc/numpy/reference/generated/numpy.mean.html) käyttämällä yhtälöiden suorituskyvyn mitat. Keskineliövirhettä varten tarvitset myös näytteiden lukumäärän. \n",
    "\n",
    "Toteutettuasi mitat, tarkasta vielä lineaariselle mallille, että saat valmiita scikit-learn kirjaston funktioita [sm.r2_score()](https://scikit-learn.org/stable/modules/generated/sklearn.metrics.r2_score.html) ja [sm.mean_squared_error()](https://scikit-learn.org/stable/modules/generated/sklearn.metrics.mean_squared_error.html) vastaavat arvot."
   ]
  },
  {
   "cell_type": "code",
   "execution_count": null,
   "metadata": {},
   "outputs": [],
   "source": [
    "def keskineliövirhe(Y,Y_ennuste):\n",
    "    \"\"\"\n",
    "    Tässä funktiossa lasketaan keskineliövirhe, kun tiedossa on testidatan y-akselin arvot ja ennustetut y-akselin arvot.\n",
    "    \"\"\"\n",
    "    näytteiden_lukumäärä = Y.size\n",
    "    #-------- TÄHÄN SINUN KOODI --------\n",
    "    # Laske keskineliövirhe (Vihje: tarvitset numpy-kirjaston funktioita np.sum() ja np.square())\n",
    "    \n",
    "    # Funktio palauttaa keskineliövirheen\n",
    "    \n",
    "    #-----------------------------------\n",
    "\n",
    "def korrelaatiokertoimen_neliö(Y,Y_ennuste):\n",
    "    \"\"\"\n",
    "    Tässä funktiossa lasketaan korrelaatiokertoimen neliö, kun tiedossa on testidatan y-akselin arvot ja ennustetut y-akselin arvot.\n",
    "    \"\"\"\n",
    "    #-------- TÄHÄN SINUN KOODI --------\n",
    "    # Laske SSE (Vihje: tarvitset numpy-kirjaston funktioita np.sum() ja np.square())\n",
    "    \n",
    "    # Laske SST (Vihje: tarvitset numpy-kirjaston funktioita np.sum(), np.square() ja np.mean())\n",
    "    \n",
    "    # Laske korrelaatiokertoimen neliö\n",
    "    \n",
    "    # Funktio palauttaa korrelaatiokertoimen neliön\n",
    "    \n",
    "    #-----------------------------------\n",
    "    \n",
    "print('Korrelaatiokertoimen neliö lineaariselle mallille scikit-learn kirjaston valmiilla funktiolla: ', sm.r2_score(Y_testi, lineaarinen_malli(X_testi)))\n",
    "print('Keskineliövirhe lineaariselle mallille scikit-learn kirjaston valmiilla funktiolla: ', sm.mean_squared_error(Y_testi, lineaarinen_malli(X_testi)))\n",
    "print('\\nKorrelaatiokertoimen neliö lineaariselle mallille toteuttamallasi funktiolla: ', korrelaatiokertoimen_neliö(Y_testi, lineaarinen_malli(X_testi)))\n",
    "print('Keskineliövirhe lineaariselle mallille toteuttamallasi funktiolla: ', keskineliövirhe(Y_testi, lineaarinen_malli(X_testi)))"
   ]
  },
  {
   "cell_type": "markdown",
   "metadata": {},
   "source": [
    "## Polynominen regressiomalli\n",
    "\n",
    "Suoritetaan polynomisen regressiomallin opettaminen opetusdatalla. Sijoitetaan opetusdatan näytteet kuvaajaan sinisinä pisteinä ja testidatan näytteet punaisina pisteinä."
   ]
  },
  {
   "cell_type": "code",
   "execution_count": null,
   "metadata": {},
   "outputs": [],
   "source": [
    "# Sijoitetaan opetusdatan näytteet kuvaajan sinisinä pisteinä ja testidatan näytteet punaisina pisteinä\n",
    "plt.scatter(X_opetus, Y_opetus, color=\"blue\",s=10, marker='o')\n",
    "plt.scatter(X_testi, Y_testi, color=\"red\",s=10, marker='o')\n",
    "plt.title('Auton pysähtymismatkan riippuvuus nopeudesta polynomisella mallilla')\n",
    "plt.xlabel('Nopeus (km/h)')\n",
    "plt.ylabel('Pysähtymismatka (m)')\n",
    "\n",
    "# Optimoidaan paraabelin parametrit pienimmän neliösumman menetelmällä numpy-kirjaston polyfit funktiota käyttämällä\n",
    "paraabelin_parametrit = np.polyfit(X_opetus, Y_opetus, 2)\n",
    "# Luodaan polynominen malli nympy-kirjaston poly1d funktiolla optimaalisten paraabelin parametrien löydyttyä\n",
    "polynominen_malli = np.poly1d(paraabelin_parametrit)\n",
    "\n",
    "# Piirretään paraabeli kuvaajaan vaihteluvälille [min(X_opetus), max(X_opetus)]\n",
    "X_paraabeli = np.linspace(min(X_opetus), max(X_opetus))\n",
    "Y_paraabeli = polynominen_malli(X_paraabeli)\n",
    "plt.plot(X_paraabeli, Y_paraabeli, c='black', linewidth=2)\n",
    "plt.show()\n",
    "\n",
    "# Tulostetaan sovitetun paraabelin yhtälö\n",
    "print('Sovitetun paraabelin yhtälö:  y = {} x^2 {} {} x {} {}'.format(round(paraabelin_parametrit[0],4), etumerkki(paraabelin_parametrit[1]), abs(round(paraabelin_parametrit[1],4)),etumerkki(paraabelin_parametrit[2]), abs(round(paraabelin_parametrit[2],4))))"
   ]
  },
  {
   "cell_type": "markdown",
   "metadata": {},
   "source": [
    "Lasketaan korrelaatiokertoimen neliö ja keskineliövirhe polynomiselle mallille."
   ]
  },
  {
   "cell_type": "code",
   "execution_count": null,
   "metadata": {},
   "outputs": [],
   "source": [
    "print('Korrelaatiokertoimen neliö polynomiselle mallille: ', korrelaatiokertoimen_neliö(Y_testi, polynominen_malli(X_testi)))\n",
    "print('Keskineliövirhe polynomiselle mallille: ', keskineliövirhe(Y_testi, polynominen_malli(X_testi)))"
   ]
  },
  {
   "cell_type": "markdown",
   "metadata": {},
   "source": [
    "## Eksponentiaalinen regressiomalli\n",
    "\n",
    "Suoritetaan eksponentiaalisen regressiomallin opettaminen opetusdatalla. Sijoitetaan opetusdatan näytteet kuvaajaan sinisinä pisteinä ja testidatan näytteet punaisina pisteinä."
   ]
  },
  {
   "cell_type": "code",
   "execution_count": null,
   "metadata": {},
   "outputs": [],
   "source": [
    "# Sijoitetaan opetusdatan näytteet kuvaajan sinisinä pisteinä ja testidatan näytteet punaisina pisteinä\n",
    "plt.scatter(X_opetus, Y_opetus, color=\"blue\",s=10, marker='o')\n",
    "plt.scatter(X_testi, Y_testi, color=\"red\",s=10, marker='o')\n",
    "plt.title('Auton pysähtymismatkan riippuvuus nopeudesta eksponentiaalisella mallilla')\n",
    "plt.xlabel('Nopeus (km/h)')\n",
    "plt.ylabel('Pysähtymismatka (m)')\n",
    "\n",
    "def eksponentiaalinen_malli(x):\n",
    "    \"\"\"\n",
    "    Tässä funktiossa toteutetaan eksponentiaalinen regressiomalli\n",
    "    \"\"\"\n",
    "    global eksponenttifunktion_parametrit\n",
    "    # Optimoidaan eksponenttifunktion parametrit pienimmän neliösumman menetelmällä numpy-kirjaston polyfit funktiota käyttämällä\n",
    "    # ln(y) = kx + b <=> y = exp(kx+b)\n",
    "    eksponenttifunktion_parametrit = np.polyfit(X_opetus, np.log(Y_opetus), 1)\n",
    "    return np.exp(eksponenttifunktion_parametrit[0]*x + eksponenttifunktion_parametrit[1])\n",
    "\n",
    "# Piirretään eksponenttifunktio kuvaajaan vaihteluvälille [min(X_opetus), max(X_opetus)]\n",
    "X_eksponenttifunktio = np.linspace(min(X_opetus), max(X_opetus))\n",
    "Y_eksponenttifunktio = eksponentiaalinen_malli(X_eksponenttifunktio)\n",
    "plt.plot(X_eksponenttifunktio, Y_eksponenttifunktio, c='black', linewidth=2)\n",
    "plt.show()\n",
    "\n",
    "# Tulostetaan sovitetun eksponenttifunktion yhtälö\n",
    "print('Sovitetun eksponenttifunktion yhtälö:  y = exp^({} x {} {})'.format(round(eksponenttifunktion_parametrit[0],4), etumerkki(eksponenttifunktion_parametrit[1]), abs(round(eksponenttifunktion_parametrit[1],4))))"
   ]
  },
  {
   "cell_type": "markdown",
   "metadata": {},
   "source": [
    "Lasketaan korrelaatiokertoimen neliö ja keskineliövirhe eksponentiaaliselle mallille."
   ]
  },
  {
   "cell_type": "code",
   "execution_count": null,
   "metadata": {},
   "outputs": [],
   "source": [
    "print('Korrelaatiokertoimen neliö eksponentiaaliselle mallille: ', korrelaatiokertoimen_neliö(Y_testi, eksponentiaalinen_malli(X_testi)))\n",
    "print('Keskineliövirhe eksponentiaaliselle mallille: ', keskineliövirhe(Y_testi, eksponentiaalinen_malli(X_testi)))"
   ]
  },
  {
   "cell_type": "markdown",
   "metadata": {},
   "source": [
    "**Mikä malleista toimi suorituskyvyn mittojen perusteella testidatalle parhaiten?**\n",
    "\n",
    "`Tähän sinun vastaus`"
   ]
  },
  {
   "cell_type": "markdown",
   "metadata": {},
   "source": [
    "Ennustetaan lopuksi eri malleja käyttämällä, kuinka pitkä pysähtymismatka on, kun tiedetään että autoilija jarruttaa 80 km/h nopeudesta."
   ]
  },
  {
   "cell_type": "code",
   "execution_count": null,
   "metadata": {
    "scrolled": true
   },
   "outputs": [],
   "source": [
    "print('Pysähtymismatka 80 km/h nopeudesta lineaarisella mallilla ennustettuna on: ', round(lineaarinen_malli(80),2), 'metriä')\n",
    "print('Pysähtymismatka 80 km/h nopeudesta polynomisella mallilla ennustettuna on: ', round(polynominen_malli(80),2), 'metriä')\n",
    "print('Pysähtymismatka 80 km/h nopeudesta eksponentiaalisella mallilla ennustettuna on: ', round(eksponentiaalinen_malli(80),2), 'metriä')"
   ]
  },
  {
   "cell_type": "markdown",
   "metadata": {},
   "source": [
    "**Liikenneturvan nettisivujen mukaan nykyaikaisen henkilöauton pysähtymismatka kuivalla tiellä 80 km/h nopeudesta on tasan 50 metriä. Tämän tiedon nojalla, mikä tai mitkä opetetuista malleista antavat realistisia ennusteita tälle testinäyteelle?**\n",
    "\n",
    "`Tähän sinun vastaus`"
   ]
  },
  {
   "cell_type": "markdown",
   "metadata": {},
   "source": [
    "# Tehtävä 2. Logistinen regressio\n",
    "\n",
    "Toisessa tehtävässä luodaan logistisen regression luokittelijoita ennustamaan pima-intiaaniheimon naisten riskiä sairastua diabetekseen. Tehtävässä käytetty data on kerätty yli 21 vuotiailta pima-intiaaniheimon naisilta mittaamalla heiltä erilaisia diabeteksen kanssa korreloivia muuttujia. Muuttujina on käytetty raskauksien lukumäärää, paastoplasman glukoosin määrää veressä, verenpainetta, ihon paksuutta, insuliinin määrää veressä, painoindeksiä, diabeteksen esiintyvyydestä suvussa laskettua kerrointa ja ikää. Datassa diabesta sairastaneita potilaita on 500 kappaletta ja terveitä potilaita 268 kappaletta.\n",
    "\n",
    "Ladataan data ja arvioidaan datan muuttujien jakaumia diabetesta sairastavien ja terveiden potilaiden välillä laatikko-janakuvioilla ja histogrammeilla. Laatikko-janakuviossa keltainen viiva kertoo mediaanin paikan, laatikon ylä- ja alareuna ylemmän ja alemman neljänneksen mediaanista ja jana datan maksimi ja minimiarvon, jotka eivät sisällä poikkeavia havaintoja (engl. outliers). Poikkeavat havainnot on merkattu laatikko-janakuvioon ympyröillä."
   ]
  },
  {
   "cell_type": "code",
   "execution_count": null,
   "metadata": {},
   "outputs": [],
   "source": [
    "# Ladataan data pima-indians. Muuttuja data viittaa datan arvoihin ja muuttuja luokat datan luokkatietoihin\n",
    "data = np.genfromtxt('data/pima-indians.txt', delimiter=',', usecols = (0,1,2,3,4,5,6,7))\n",
    "luokat = np.genfromtxt('data/pima-indians.txt', delimiter=',', usecols = (8))\n",
    "\n",
    "data_diabetes = data[np.where(luokat == 1)]\n",
    "data_ei_diabetesta = data[np.where(luokat == 0)]\n",
    "\n",
    "# Analysoidaan laatikko-janakuvioista, mitkä muuttujat korreloivat parhaiten luokkatiedon kanssa\n",
    "otsikot = ['Raskauksien lukumäärä','Paastoplasman glukoosin määrä veressä','Verenpaine','Ihon paksuus','Insuliinin määrä veressä','Painoindeksi','Diabeteksen esiintyvyys suvussa','Ikä']\n",
    "fig, ax = plt.subplots(2, 4)\n",
    "for i in range(2):\n",
    "    for j in range(4):\n",
    "        ax[i, j].boxplot([data_diabetes[:,j*2+i], data_ei_diabetesta[:,j*2+i]], positions=[0,1])\n",
    "        ax[i, j].set_title(otsikot[j*2+i])\n",
    "        ax[i, j].axes.set_xticklabels(['diabetes','ei diabetesta'])\n",
    "plt.suptitle('Molempien luokkien laatikko-janakuviot datan muuttujille')\n",
    "\n",
    "fig, ax = plt.subplots(2, 4) \n",
    "for i in range(2):\n",
    "    for j in range(4):\n",
    "        ax[i, j].hist([data_diabetes[:,j*2+i],data_ei_diabetesta[:,j*2+i]], histtype='stepfilled', alpha=0.8, bins=40, label=['diabetes', 'ei diabetesta'])\n",
    "        ax[i, j].legend(loc='upper right')\n",
    "        ax[i, j].set_title(otsikot[j*2+i])\n",
    "plt.suptitle('Molempien luokkien histogrammit datan muuttujille')\n",
    "plt.show()"
   ]
  },
  {
   "cell_type": "markdown",
   "metadata": {},
   "source": [
    "Valitaan laatikko-janakuvioiden ja histogrammien perusteella kaksi muuttujaa, jotka korreloivat parhaiten diabeteksen sairastamisen kanssa. Kaikkein selvimmin luokkien \"diabetes\" ja \"ei diabetesta\" jakaumat eroavat toisistaan muuttujalla paastoplasman glukoosin määrä veressä. Tämä nähdään esimerkiksi muuttujan laatikko-janakuviossa selvästi erillään olevina laatikkoina datan luokille. Toisen muuttujan valinnan kohdalla erot luokkien välillä eivät ole yhtä selkeitä, mutta päädytään lopulta muuttujaan painoindeksi.\n",
    "\n",
    "Seuraavaksi suoritetaan datan jakaminen opetusdataan ja testidataan 60:40 jakosuhteella. Tämän jälkeen opetetaan logistisen regression luokittelijat valituille muuttujille erikseen ja niiden yhdistelmälle. Lopuksi vertaillaan kolmen opetetun luokittelijan luokittelutuloksia.\n",
    "\n",
    "Opetetaan esimerkkinä logistisen regression luokittelija paastoplasman glukoosin määrälle veressä. Piirretään luotu malli ja sijoitetaan testidatan näytteet samaan kuvaajaan. Lopuksi lasketaan testidatalle luokittelutarkkuus. Luokittelutarkkuus kertoo yksinkertaisesti, kuinka monta prosenttia testidatan näytteistä luokittelija luokitteli oikeisiin luokkiin."
   ]
  },
  {
   "cell_type": "code",
   "execution_count": null,
   "metadata": {},
   "outputs": [],
   "source": [
    "# Jaetaan data opetusdataan ja testidataan\n",
    "data_opetus, data_testi, luokat_opetus, luokat_testi = train_test_split(data, luokat, test_size=0.4, random_state=0)\n",
    "\n",
    "# Muunnetaan opetusdata paastoplasman glukoosille oikeaan formaattiin\n",
    "paastoplasman_glukoosi_opetus = np.reshape(data_opetus[:,1], (-1,1))\n",
    "\n",
    "# Muunnetaan testidata paastoplasman glukoosille oikeaan formaattiin\n",
    "paastoplasman_glukoosi_testi = np.reshape(data_testi[:,1], (-1,1))\n",
    "\n",
    "# Määritetään luokittelija\n",
    "luokittelija_paastoplasman_glukoosi = LogisticRegression()\n",
    "\n",
    "# Opetetaan logistisen regression luokittelija paastoplasman glukoosille\n",
    "luokittelija_paastoplasman_glukoosi.fit(paastoplasman_glukoosi_opetus, luokat_opetus)\n",
    "\n",
    "# Ennustetaan testidatan näytteille luokat\n",
    "luokat_paastoplasman_glukoosi_ennustettu = luokittelija_paastoplasman_glukoosi.predict(paastoplasman_glukoosi_testi)\n",
    "\n",
    "# Lasketaan luokittelutarkkuus paastoplasman glukoosin logistisen regression luokittelijalle\n",
    "luokittelutarkkuus_paastoplasman_glukoosi = accuracy_score(luokat_testi, luokat_paastoplasman_glukoosi_ennustettu)\n",
    "\n",
    "def logistinen_sigmoid_funktio(X, a, b):\n",
    "    \"\"\"\n",
    "    Tässä funktiossa lasketaan sigmoid-funktion mukainen logistisen regression luokittelija\n",
    "    \"\"\"\n",
    "    return 1/(1+np.exp(-(a*X+b)))\n",
    "\n",
    "# Piirretään sovitettu funktio ja sijoitetaan testidatan näytteet samaan kuvaajaan\n",
    "plt.plot(paastoplasman_glukoosi_testi, luokat_testi, 'o', c='r', alpha=0.5)\n",
    "X_paastoplasman_glukoosi = np.linspace(min(paastoplasman_glukoosi_opetus), max(paastoplasman_glukoosi_opetus)+50)\n",
    "Y_paastoplasman_glukoosi  = logistinen_sigmoid_funktio(X_paastoplasman_glukoosi, luokittelija_paastoplasman_glukoosi.coef_, luokittelija_paastoplasman_glukoosi.intercept_).ravel()\n",
    "plt.plot(X_paastoplasman_glukoosi, Y_paastoplasman_glukoosi, color='k', linewidth=3)\n",
    "plt.xlabel('Paastoplasman glukoosin määrä veressä')\n",
    "plt.ylabel('Sairastumistodennäköisyys P(Y=\"diabetes\")')\n",
    "plt.show()\n",
    "\n",
    "print('Luokittelutarkkuus paastoplasman glukoosin logistisen regression luokittelijalle on {}%'.format(round(100*luokittelutarkkuus_paastoplasman_glukoosi,2)))\n",
    "\n",
    "def etumerkki(numero):\n",
    "    \"\"\"\n",
    "    Tässä funktiossa selvitetään yhtälön parametrien etumerkki kertoimien tulostamista varten \n",
    "    \"\"\"\n",
    "    if numero >= 0:\n",
    "        return '+'\n",
    "    return '-'\n",
    "\n",
    "# Tulostetaan logistisen regression luokittelijan logistinen yhtälö paastoplasman glukoosille\n",
    "print('\\nLogistinen funktio:  P(Y=\"diabetes\")= 1/(1+exp^(-({} x {} {})))'.format(round(luokittelija_paastoplasman_glukoosi.coef_[0][0],4), etumerkki(luokittelija_paastoplasman_glukoosi.intercept_[0]), abs(round(luokittelija_paastoplasman_glukoosi.intercept_[0],4))))"
   ]
  },
  {
   "cell_type": "markdown",
   "metadata": {},
   "source": [
    "Opeta samaan tapaan logistisen regression luokittelija painoindeksille, ennusta sillä testidatan näytteille luokat ja laske luokittelutarkkuus."
   ]
  },
  {
   "cell_type": "code",
   "execution_count": null,
   "metadata": {},
   "outputs": [],
   "source": [
    "# Muunnetaan opetusdata painoindeksille oikeaan formaattiin\n",
    "painoindeksi_opetus = np.reshape(data_opetus[:,5], (-1,1))\n",
    "\n",
    "# Muunnetaan testidata painoindeksille oikeaan formaattiin\n",
    "painoindeksi_testi = np.reshape(data_testi[:,5], (-1,1))\n",
    "\n",
    "# Määritetään luokittelija\n",
    "luokittelija_painoindeksi = LogisticRegression()\n",
    "\n",
    "#-------- TÄHÄN SINUN KOODI --------\n",
    "# Opeta logistisen regression luokittelija painoindeksille (Vihje: .fit(opetusdata, opetusdatan luokat))\n",
    "\n",
    "# Ennusta luokittelijalla testidatan näytteille luokat (Vihje: .predict(testidata))\n",
    "luokat_painoindeksi_ennustettu = \n",
    "# Laske luokittelutarkkuus painoindeksin logistisen regression luokittelijalle (Vihje: accuracy_score(testidatan luokat, ennustetut luokat))\n",
    "luokittelutarkkuus_painoindeksi = \n",
    "#-----------------------------------\n",
    "\n",
    "# Piirretään sovitettu funktio ja sijoitetaan testidatan näytteet samaan kuvaajaan\n",
    "plt.plot(painoindeksi_testi, luokat_testi, 'o', c='r', alpha=0.5)\n",
    "X_painoindeksi = np.linspace(min(painoindeksi_opetus), max(painoindeksi_opetus)+10)\n",
    "Y_painoindeksi = logistinen_sigmoid_funktio(X_painoindeksi, luokittelija_painoindeksi.coef_, luokittelija_painoindeksi.intercept_).ravel()\n",
    "plt.plot(X_painoindeksi, Y_painoindeksi, color='k', linewidth=3)\n",
    "plt.xlabel('Painoindeksi')\n",
    "plt.ylabel('Sairastumistodennäköisyys P(Y=\"diabetes\")')\n",
    "plt.show()\n",
    "\n",
    "print('Luokittelutarkkuus painoindeksin logistisen regression luokittelijalle on {}%'.format(round(100*luokittelutarkkuus_painoindeksi,2)))\n",
    "# Tulostetaan logistisen regression luokittelijan logistinen yhtälö painoindeksille\n",
    "print('\\nLogistinen funktio:  P(Y=\"diabetes\")= 1/(1+exp^(-({} x {} {})))'.format(round(luokittelija_painoindeksi.coef_[0][0],4), etumerkki(luokittelija_painoindeksi.intercept_[0]), abs(round(luokittelija_painoindeksi.intercept_[0],4))))"
   ]
  },
  {
   "cell_type": "markdown",
   "metadata": {},
   "source": [
    "Lopuksi opeta kahden muuttujan (paastoplasman glukoosin määrä veressä ja painoindeksi) logistisen regression luokittelija, ennusta sillä testidatan näytteille luokat ja laske luokittelutarkkuus. Yhdistetään opetusdataan ja testidataan molemmat muuttujat."
   ]
  },
  {
   "cell_type": "code",
   "execution_count": null,
   "metadata": {},
   "outputs": [],
   "source": [
    "# Yhdistetään opetusdataan molemmat muuttujat\n",
    "yhdistetty_opetus = np.concatenate((paastoplasman_glukoosi_opetus, painoindeksi_opetus), axis=1)\n",
    "\n",
    "# Yhdistetään testidataan molemmat muuttujat\n",
    "yhdistetty_testi = np.concatenate((paastoplasman_glukoosi_testi, painoindeksi_testi), axis=1)\n",
    "\n",
    "# Määritetään luokittelija\n",
    "luokittelija_yhdistetty = LogisticRegression()\n",
    "\n",
    "#-------- TÄHÄN SINUN KOODI --------\n",
    "# Opeta kahden muuttujan logistisen regression luokittelija (Vihje: .fit(opetusdata, opetusdatan luokat))\n",
    "\n",
    "# Ennusta luokittelijalla testidatan näytteille luokat (Vihje: .predict(testidata))\n",
    "luokat_yhdistetty_ennustettu = \n",
    "# Laske luokittelutarkkuus kahden muuttujan logistisen regression luokittelijalle (Vihje: accuracy_score(testidatan luokat, ennustetut luokat))\n",
    "luokittelutarkkuus_yhdistetty = \n",
    "#-----------------------------------\n",
    "\n",
    "print('Luokittelutarkkuus kahden muuttujan logistisen regression luokittelijalle on {}%'.format(round(100*luokittelutarkkuus_yhdistetty,2)))\n",
    "# Tulostetaan logistisen regression luokittelijan logistinen yhtälö kahdelle muuttujalle\n",
    "print('\\nLogistinen yhtälö:  P(Y=\"diabetes\")= 1/(1+exp^(-({} x1 {} {} x2 {} {})))'.format(round(luokittelija_yhdistetty.coef_[0][0],4), etumerkki(luokittelija_yhdistetty.coef_[0][1]), abs(round(luokittelija_yhdistetty.coef_[0][1],4)), etumerkki(luokittelija_yhdistetty.intercept_[0]), abs(round(luokittelija_yhdistetty.intercept_[0],4))))"
   ]
  },
  {
   "cell_type": "markdown",
   "metadata": {},
   "source": [
    "**Mikä opetetuista luokittelijoista toimi parhaiten luokittelutarkkuuden perusteella?**\n",
    "\n",
    "`Tähän sinun vastaus`"
   ]
  },
  {
   "cell_type": "markdown",
   "metadata": {},
   "source": [
    "Visualisoidaan kaksidimensioinen testidata ja kahden muuttujan luokittelijan luokkaraja kaksiulotteiseen koordinaatistoon."
   ]
  },
  {
   "cell_type": "code",
   "execution_count": null,
   "metadata": {},
   "outputs": [],
   "source": [
    "# Sijoitetaan testidatan näytteet kuvaajaan diabetesta sairastaville ja terveille potilaille\n",
    "plt.scatter(yhdistetty_testi[np.where(luokat_testi==1), 0], yhdistetty_testi[np.where(luokat_testi==1), 1], s=10, label='diabetes')\n",
    "plt.scatter(yhdistetty_testi[np.where(luokat_testi==0), 0], yhdistetty_testi[np.where(luokat_testi==0), 1], s=10, label='ei diabetesta')\n",
    "plt.title('Paastoplasman glukoosin määrä veressä ja painoindeksi diabetesta sairastaville ja terveille potilaille')\n",
    "plt.xlabel('Paastoplasman glukoosin määrä veressä')\n",
    "plt.ylabel('Painoindeksi')\n",
    "plt.legend()\n",
    "\n",
    "def piirrä_luokittelijan_luokkaraja(luokittelija, X):\n",
    "    \"\"\"\n",
    "    Tässä funktiossa piirretään luokittelijan luokkaraja kaksiulotteiseen kuvaajaan\n",
    "    \"\"\"\n",
    "    x_min, x_max = X[:,0].min(), X[:,0].max()\n",
    "    y_min, y_max = X[:,1].min(), X[:,1].max()\n",
    "    xx, yy = np.meshgrid(np.arange(x_min, x_max, 0.2), np.arange(y_min, y_max, 0.1))\n",
    "    Z = luokittelija.predict(np.c_[xx.ravel(), yy.ravel()])\n",
    "    Z = Z.reshape(xx.shape)\n",
    "    plt.contour(xx, yy, Z, colors='k', linewidths=0.7)\n",
    "\n",
    "piirrä_luokittelijan_luokkaraja(luokittelija_yhdistetty, yhdistetty_testi)\n",
    "plt.show()"
   ]
  },
  {
   "cell_type": "markdown",
   "metadata": {},
   "source": [
    "Kun vastaanotolle tulevan pima-intiaani heimoon kuuluvan naisen painoindeksi on 25 ja paastoplasman glukoosin määrä veressä 180 mg/dL, mikä on todennäköisyys, että potilas sairastaa diabetesta? Käytä kahden muuttujan logistisen regression luokittelijan luokittelija_yhdistetty.[predict_proba()](https://scikit-learn.org/stable/modules/generated/sklearn.linear_model.LogisticRegression.html#sklearn.linear_model.LogisticRegression.predict_proba) toimintoa luokkien posterioritodennäköisyyksien ennustamiseksi."
   ]
  },
  {
   "cell_type": "code",
   "execution_count": null,
   "metadata": {},
   "outputs": [],
   "source": [
    "potilaan_tiedot = [[180,25]]\n",
    "#-------- TÄHÄN SINUN KOODI --------\n",
    "posterioritodennäköisyydet = \n",
    "#-----------------------------------\n",
    "print('Potilas sairastaa {} % posterioritodennäköisyydellä diabetesta'.format(round(100*posterioritodennäköisyydet[0][1],2)))"
   ]
  },
  {
   "cell_type": "markdown",
   "metadata": {},
   "source": [
    "# Palaute\n",
    "Lopuksi vastaa seuraaviin kysymyksiin:"
   ]
  },
  {
   "cell_type": "markdown",
   "metadata": {},
   "source": [
    "**Kuinka paljon aikaa käytit harjoituksen tekemiseen?**\n",
    "\n",
    "`Tähän sinun vastaus`"
   ]
  },
  {
   "cell_type": "markdown",
   "metadata": {},
   "source": [
    "**Kohtasitko ongelmia tai haasteita harjoitusta tehdessäsi? Oliko notebookissa riittävän kattava ohjeistus harjoituksen tekemiseen?**\n",
    "\n",
    "`Tähän sinun vastaus`"
   ]
  },
  {
   "cell_type": "markdown",
   "metadata": {},
   "source": [
    "**Muuta palautetta harjoitukseen liittyen?**\n",
    "\n",
    "`Tähän sinun vastaus`"
   ]
  },
  {
   "cell_type": "markdown",
   "metadata": {
    "collapsed": true,
    "jupyter": {
     "outputs_hidden": true
    }
   },
   "source": [
    "# Palautus\n",
    "\n",
    "1. Ennen kuin palautat tämän notebookin, **tarkista, että notebookin koodi toimii** ja tuottaa kaikki pyydetyt tulokset valitsemalla valikosta `Kernel -> Restart & Run All`! Tarkista lisäksi, että olet vastannut kaikkiin lihavoituihin **kysymyksiin.**\n",
    "2. Tyhjennä kaikki tulosteet ja muuttujat valitsemalla valikosta `Kernel -> Restart & Clear Output`. Tämä välivaihe pienentää palautettavan notebookin kokoa merkittävästi! \n",
    "3. Nimeä uudelleen tämä notebook-tiedosto muodossa **`JT_H1_[opiskelijanumero(t)].ipynb`** (esim. `JT_H1_1234567.ipynb` jos teet harjoituksen yksin tai `JT_H1_1234567_2345678_3456789.ipynb` jos teette harjoituksen ryhmässä)\n",
    "4. Palauta **ainoastaan** ratkaisemasi notebook-tiedosto (`.ipynb` päätteinen tiedosto) Moodleen ohjelmointi harjoitus 2 . **Älä siis sisällytä työkansiota tai muita tiedostoja** palautukseesi! **HOX jokainen palauttaa tiedoston itsenäisesti moodleen**\n",
    "5. Vastaa **Moodlessa ohjelmointiharjoitus 2** vastaaviin kysymyksiin henkilökohtaisesti"
   ]
  },
  {
   "cell_type": "code",
   "execution_count": null,
   "metadata": {},
   "outputs": [],
   "source": []
  }
 ],
 "metadata": {
  "kernelspec": {
   "display_name": "Python 3 (ipykernel)",
   "language": "python",
   "name": "python3"
  },
  "language_info": {
   "codemirror_mode": {
    "name": "ipython",
    "version": 3
   },
   "file_extension": ".py",
   "mimetype": "text/x-python",
   "name": "python",
   "nbconvert_exporter": "python",
   "pygments_lexer": "ipython3",
   "version": "3.8.13"
  }
 },
 "nbformat": 4,
 "nbformat_minor": 4
}
