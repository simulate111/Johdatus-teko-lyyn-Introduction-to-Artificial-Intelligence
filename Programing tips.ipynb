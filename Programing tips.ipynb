{
  "cells": [
    {
      "cell_type": "markdown",
      "metadata": {
        "id": "view-in-github",
        "colab_type": "text"
      },
      "source": [
        "<a href=\"https://colab.research.google.com/github/simulate111/Johdatus-teko-lyyn-Introduction-to-Artificial-Intelligence/blob/main/Programing%20tips.ipynb\" target=\"_parent\"><img src=\"https://colab.research.google.com/assets/colab-badge.svg\" alt=\"Open In Colab\"/></a>"
      ]
    },
    {
      "cell_type": "code",
      "execution_count": 5,
      "id": "39662917",
      "metadata": {
        "id": "39662917",
        "outputId": "d70e463b-12b3-44fc-d118-6f5852101370",
        "colab": {
          "base_uri": "https://localhost:8080/"
        }
      },
      "outputs": [
        {
          "output_type": "stream",
          "name": "stdout",
          "text": [
            "1\n",
            "Hello World\n",
            "[1, 2, 3]\n",
            "list1: ['hello', 'world', '!', 'dog']\n",
            "2\n",
            "1\n",
            "4\n"
          ]
        }
      ],
      "source": [
        "# Variables\n",
        "a = 1\n",
        "b = \"Hello World\"\n",
        "c = [1, 2, 3] # list\n",
        "\n",
        "print(a)\n",
        "print(b)\n",
        "print(c)\n",
        "\n",
        "# Lists\n",
        "list1 = [1, 2, 3]\n",
        "list1 = [\"hello\", \"world\", \"!\"] # overides the list1 before\n",
        "list3= [[1,2,3], [4,5,6]]\n",
        "\n",
        "list1.append(\"dog\") # add element to list\n",
        "print(\"list1:\", list1)\n",
        "\n",
        "#closed_list.append(mainland) <- tip for exercise 1\n",
        "list2 = [1, 2, 3]\n",
        "print(list2[1])\n",
        "print(list2[0]) # first element of the list\n",
        "\n",
        "empty_list = [] # create empty list\n",
        "list1_length = len(list1) # get length of the variable list1\n",
        "print(list1_length)\n"
      ]
    },
    {
      "cell_type": "code",
      "execution_count": 6,
      "id": "30291fab",
      "metadata": {
        "id": "30291fab",
        "outputId": "665aed30-992f-4128-fbd3-801e0ea6e8a1",
        "colab": {
          "base_uri": "https://localhost:8080/"
        }
      },
      "outputs": [
        {
          "output_type": "stream",
          "name": "stdout",
          "text": [
            "a == 2\n",
            "a >= 2\n",
            "a <= 2\n",
            "True\n",
            "False\n",
            "True\n",
            "False\n"
          ]
        }
      ],
      "source": [
        "# if-statements\n",
        "# NOTE: indentation\n",
        "#print(a)\n",
        "a = 2\n",
        "\n",
        "if a == 2:\n",
        "    print(\"a == 2\")\n",
        "else:\n",
        "    print(\"a != 2\")\n",
        "\n",
        "# larger than\n",
        "if a > 2:\n",
        "    print(\"a > 2\")\n",
        "\n",
        "# larger than or equal to\n",
        "if a >= 2:\n",
        "    print(\"a >= 2\")\n",
        "\n",
        "# less than\n",
        "if a < 2:\n",
        "    print(\"a < 2\")\n",
        "\n",
        "# less than or equal to\n",
        "if a <= 2:\n",
        "    print(\"a <= 2\")\n",
        "\n",
        "# hint for exercise 1\n",
        "#if mainland not in closed_list:\n",
        "#    closed_list.append(mainland)\n",
        "\n",
        "print(a == 2)\n",
        "print(a == 1)\n",
        "\n",
        "list1 = [1, 2, 3]\n",
        "list2 = [1, 2, 3]\n",
        "\n",
        "print(list1 == list2) # you can compare lists as well\n",
        "print(len(list1) == 0) # see if list is empty\n",
        ""
      ]
    },
    {
      "cell_type": "code",
      "execution_count": 7,
      "id": "cfcfb275",
      "metadata": {
        "id": "cfcfb275",
        "outputId": "7140e61d-161e-4bc9-f045-8f28e952ce60",
        "colab": {
          "base_uri": "https://localhost:8080/"
        }
      },
      "outputs": [
        {
          "output_type": "stream",
          "name": "stdout",
          "text": [
            "0\n",
            "1\n",
            "2\n",
            "3\n",
            "3\n",
            "4\n",
            "5\n",
            "6\n",
            "7\n",
            "[1, 2, 3, 4, 5]\n",
            "1\n",
            "[2, 3, 4, 5]\n",
            "2\n",
            "[3, 4, 5]\n",
            "3\n",
            "[4, 5]\n",
            "4\n",
            "[5]\n",
            "5\n"
          ]
        }
      ],
      "source": [
        "# Loops\n",
        "# Two types: while and for-loop\n",
        "\n",
        "# while-loop unknown durations\n",
        "a = 0\n",
        "\n",
        "while a < 5:\n",
        "    print(a)\n",
        "\n",
        "    if(a == 3):\n",
        "        break # exit from loop when a equals 3\n",
        "\n",
        "    a = a + 1\n",
        "\n",
        "while True:\n",
        "    print(a)\n",
        "    if a == 7:\n",
        "        break # exit from loop when a equals 7\n",
        "    a += 1 # shortcut a=a+1\n",
        "\n",
        "a = 1\n",
        "list1 = [1, 2, 3, 4, 5]\n",
        "while len(list1) > 0:\n",
        "    print(list1)\n",
        "    first_element = list1.pop(0) # remove first element (or 0th index) from list (.pop() takes in index not actual values)\n",
        "    print(first_element)"
      ]
    },
    {
      "cell_type": "code",
      "execution_count": 8,
      "id": "1ff2fce3",
      "metadata": {
        "id": "1ff2fce3",
        "outputId": "c90f5593-b183-4f00-b8bc-319f31a79c3d",
        "colab": {
          "base_uri": "https://localhost:8080/"
        }
      },
      "outputs": [
        {
          "output_type": "stream",
          "name": "stdout",
          "text": [
            "cat\n",
            "cat\n",
            "cat\n",
            "cat\n",
            "cat\n",
            "[0, 1, 2, 3, 4]\n",
            "0\n",
            "1\n",
            "2\n",
            "3\n",
            "4\n",
            "cat\n",
            "dog\n",
            "chicken\n",
            "cow\n",
            "\n",
            "\n",
            "value 1 index: 3\n",
            "value 2 index: 1\n",
            "value 3 index: 2\n",
            "value 4 index: 8\n",
            "value 5 index: 6\n",
            "value 6 index: 5\n",
            "value 7 index: 0\n",
            "value 8 index: 7\n"
          ]
        }
      ],
      "source": [
        "# For-loops\n",
        "for i in range(5):\n",
        "    print(\"cat\") # print cat 5 times\n",
        "\n",
        "range_demon = list(range(5))\n",
        "print(range_demon)\n",
        "for i in range(5):\n",
        "    print(i)\n",
        "\n",
        "animals = [\"cat\", \"dog\", \"chicken\", \"cow\"] # list of animals\n",
        "for animal in animals:\n",
        "    print(animal)\n",
        "\n",
        "initial_state = [7,2,3,1,0,6,5,8,4]\n",
        "goal = [1,2,3,4,5,6,7,8,0]\n",
        "\n",
        "# loop values 1-8\n",
        "print(\"\\n\") # add new line character\n",
        "for i in range(1, 9):\n",
        "    #print(i)\n",
        "    state_index = initial_state.index(i) # get index of a value i\n",
        "    print(\"value\", i, \"index:\", state_index)"
      ]
    },
    {
      "cell_type": "code",
      "execution_count": 9,
      "id": "947ecc7b",
      "metadata": {
        "id": "947ecc7b",
        "outputId": "24c427de-4cc8-4395-c24d-97d4de136bad",
        "colab": {
          "base_uri": "https://localhost:8080/"
        }
      },
      "outputs": [
        {
          "output_type": "stream",
          "name": "stdout",
          "text": [
            "5\n",
            "10\n",
            "6\n",
            "value: 1 coordinate: (1, 0)\n",
            "value: 2 coordinate: (0, 1)\n",
            "value: 3 coordinate: (0, 2)\n",
            "value: 4 coordinate: (2, 2)\n",
            "value: 5 coordinate: (2, 0)\n",
            "value: 6 coordinate: (1, 2)\n",
            "value: 7 coordinate: (0, 0)\n",
            "value: 8 coordinate: (2, 1)\n"
          ]
        }
      ],
      "source": [
        "# Functions\n",
        "\n",
        "def get_number5():\n",
        "    return 5\n",
        "\n",
        "print(get_number5())\n",
        "\n",
        "def get_number(number):\n",
        "    return number\n",
        "\n",
        "print(get_number(10))\n",
        "\n",
        "def sum_of_numbers(numbers_list):\n",
        "    sum_value = 0\n",
        "    for i in numbers_list:\n",
        "        sum_value += i\n",
        "    return sum_value\n",
        "\n",
        "print(sum_of_numbers([1, 2, 3]))\n",
        "#print(sum_of_numbers([\"hello\", \"world\"]))\n",
        "\n",
        "# hint for city-block estimation function\n",
        "initial_state = [7,2,3,1,0,6,5,8,4] # 1 dimensional list\n",
        "goal = [1,2,3,4,5,6,7,8,0]\n",
        "\n",
        "# 0, 1, 2\n",
        "# 3, 4, 5\n",
        "# 6, 7, 8\n",
        "\n",
        "for i in range(1, 9):\n",
        "    y_coordinate = initial_state.index(i) % 3\n",
        "    x_coordinate = initial_state.index(i) // 3 # // ignores the decimals and just divides normal division operator /\n",
        "    print(\"value:\", i, \"coordinate:\", (x_coordinate, y_coordinate))\n",
        "\n",
        "# NOTE: game state indices not actual tile values\n",
        "\n"
      ]
    },
    {
      "cell_type": "code",
      "execution_count": 9,
      "id": "351abce7",
      "metadata": {
        "id": "351abce7"
      },
      "outputs": [],
      "source": []
    }
  ],
  "metadata": {
    "kernelspec": {
      "display_name": "Python 3 (ipykernel)",
      "language": "python",
      "name": "python3"
    },
    "language_info": {
      "codemirror_mode": {
        "name": "ipython",
        "version": 3
      },
      "file_extension": ".py",
      "mimetype": "text/x-python",
      "name": "python",
      "nbconvert_exporter": "python",
      "pygments_lexer": "ipython3",
      "version": "3.8.12"
    },
    "colab": {
      "provenance": [],
      "include_colab_link": true
    }
  },
  "nbformat": 4,
  "nbformat_minor": 5
}