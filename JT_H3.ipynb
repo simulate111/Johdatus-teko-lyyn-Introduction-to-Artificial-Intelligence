{
 "cells": [
  {
   "cell_type": "code",
   "execution_count": null,
   "metadata": {},
   "outputs": [],
   "source": [
    "%matplotlib inline"
   ]
  },
  {
   "cell_type": "code",
   "execution_count": null,
   "metadata": {},
   "outputs": [],
   "source": [
    "%%javascript\n",
    "IPython.OutputArea.prototype._should_scroll = function(lines) {\n",
    "    return false;\n",
    "}"
   ]
  },
  {
   "cell_type": "code",
   "execution_count": null,
   "metadata": {},
   "outputs": [],
   "source": [
    "def warn(*args, **kwargs):\n",
    "    pass\n",
    "import warnings\n",
    "warnings.warn = warn\n",
    "\n",
    "import os\n",
    "import numpy as np\n",
    "import matplotlib\n",
    "import matplotlib.pyplot as plt\n",
    "from sklearn import datasets\n",
    "from sklearn.model_selection import train_test_split\n",
    "from sklearn.svm import LinearSVC\n",
    "from sklearn.neighbors import KNeighborsClassifier\n",
    "from sklearn.ensemble import RandomForestClassifier\n",
    "from sklearn.linear_model import LogisticRegression\n",
    "from sklearn.metrics import confusion_matrix, accuracy_score, precision_score, recall_score, f1_score, roc_curve, precision_recall_curve, roc_auc_score, auc\n",
    "from sklearn.preprocessing import minmax_scale\n",
    "from skimage.feature import hog\n",
    "from skimage import io\n",
    "from skimage.filters import threshold_sauvola\n",
    "from skimage.color import rgb2gray\n",
    "from skimage.transform import resize\n",
    "from scipy import ndimage\n",
    "from skimage import measure\n",
    "import matplotlib.patches as mpatches\n",
    "from imblearn.over_sampling import SVMSMOTE\n",
    "plt.rcParams['figure.figsize'] = (15, 6)"
   ]
  },
  {
   "cell_type": "code",
   "execution_count": null,
   "metadata": {},
   "outputs": [],
   "source": [
    "from onedrivedownloader import download\n",
    "\n",
    "link2data = 'https://unioulu-my.sharepoint.com/:u:/g/personal/jukmaatt_univ_yo_oulu_fi/EXFidnKk9mBHt5P-1H6cLtYBswQ4ZbfoaZHQP-nfBsCj9Q?e=xEJWwZ'\n",
    "\n",
    "if not os.path.exists('./data'):\n",
    "    print('Downloading data')\n",
    "    download(link2data, filename='./tiedostot.zip', unzip=True, unzip_path='./')"
   ]
  },
  {
   "cell_type": "markdown",
   "metadata": {},
   "source": [
    "# <center>521160P Johdatus Tekoälyyn<br><br>Harjoitus #3<br><br>Luokittelu<br></center>\n",
    "\n",
    "Tässä harjoituksessa validoidaan luokittelijoille optimaaliset hyperparametrien arvot ja vertaillaan balansoidun ja epäbalansoidun opetusdatan vaikutusta luokittelijan suorituskykyyn. Harjoitus tulee palauttaa **Katso harjoitukseen liittyvät palautuksen deadline moodlesta** (tämän harjoituksen palautusohjeet ovat hivenen erilaiset aiempien harjoituksien palautusohjeisiin verrattuna). Harjoituksesta on mahdollisuus saada 4 pistettä (2.0p + 2.0p).\n",
    "\n",
    "Jos kohtaat ongelmia harjoitusta tehdessäsi tai sinulla on kysyttävää harjoitukseen liittyen ole yhteydessä **Moodlesta** löytyvän **ohjelmointiharjoitus 3** foorumin kautta."
   ]
  },
  {
   "cell_type": "markdown",
   "metadata": {},
   "source": [
    "**Täytä aluksi ryhmäsi jäsenten tiedot (nimi ja opiskelijanumero)**\n",
    "\n",
    "# Ryhmän jäsenten tiedot:\n",
    "\n",
    "* **Jäsen 1 :** `Matti Meikäläinen 1234567 `\n",
    "* **Jäsen 2 :** `Maija Meikäläinen 2345678 `\n",
    "* **Jäsen 3 :** `... `"
   ]
  },
  {
   "cell_type": "markdown",
   "metadata": {},
   "source": [
    "# Tehtävä 1. Luokittelijoiden validoiminen ja testaaminen\n",
    "\n",
    "Tässä tehtävässä opetetaan kolme erilaista luokittelijaa MNIST-datan luokitteluun, validoidaan luokittelijat ja arvioidaan luokittelijoiden suorituskykyä. MNIST-data sisältää käsinkirjoitetut numerot 0:sta 9:sään. Jokaista luokkaa kohden datassa on 7000 näytettä eli kyseessä on balansoitu data. Yhteensä MNIST-datassa on 70 000 näytettä, jotka on kerätty Yhdysvaltojen väestölaskentaviraston työntekijöiltä ja toisen asteen opiskelijoilta. Datanäytteet on skaalattu 20x20 pikselin kokoisiksi harmaasävykuviksi ja lopuksi keskitetty 28x28 pikselin ruudukolle. Tällä datalla opetettujen yksinkertaisten luokittelijoiden luokittelutarkkuudet vaihtelevat 80 % ja 99 % välillä. Kuvassa 1 on esimerkkinäytteitä MNIST-datan kymmenestä luokasta.\n",
    "\n",
    "<br>\n",
    "<br>\n",
    "<div style=\"width:image width px; font-size:80%; text-align:center;\">\n",
    "    <center>\n",
    "    <img src='kuvat\\mnist.png' width='650' height='auto' style='padding-bottom:0.5em;' />\n",
    "    </center>\n",
    "    <span>Kuva 1. Esimerkkikuvia MNIST-datan kymmenestä luokasta.</span>\n",
    "</div>\n",
    "<br>\n",
    "\n",
    "Datan näytteitä ei syötetä suoraan luokittelualgoritmeille, vaan kuvien esikäsittelyllä saavutetaan parempi lopputulos. Datan esikäsittelymenetelmäksi valitaan HOG (engl. histogram of oriented gradients). \n",
    "\n",
    "HOG-menetelmä laskee kuvalle piirrevektorin, joka on lähes identtinen samalle kuvalle eri kontrastin arvoilla. Aluksi menetelmässä syötekuva jaetaan lohkoihin. Jokaiselle lohkon pikselille lasketaan gradientti, joka kertoo kuvan tummenemisen suunnan ja suuruuden. Sijoittamalla lohkon gradientit histogrammiin, saadaan lohkon HOG-piirteet. Kuvassa 2 on laskettu MNIST-datanäytteelle HOG-piirteet ja lopuksi visualisoitu ne lähtökuvassa. Syötekuva on jaettu 16 lohkoon ja gradientit on kynnystetty 40 asteen välein.\n",
    "\n",
    "<br>\n",
    "<div style=\"width:image width px; font-size:80%; text-align:center;\">\n",
    "    <center>\n",
    "    <img src='kuvat\\hog.png' width='750' height='auto' style='padding-bottom:0.5em;' />\n",
    "    </center>\n",
    "    <span>Kuva 2. HOG-piirteet MNIST-datanäytteelle.</span>\n",
    "</div>\n",
    "<br>\n",
    "\n",
    "Käytetään tässä tehtävässä alkuperäisten 70 000 näytteen sijaan 10 000 näytettä. Jaetaan lasketut HOG-piirteet scikit-learn kirjaston [train_test_split()](https://scikit-learn.org/stable/modules/generated/sklearn.model_selection.train_test_split.html) funktiolla opetus-, validointi- ja testidataan 80:10:10 jakosuhteella. Jaon jälkeen opetusdatassa on 8000 näytettä, validointidatassa 1000 näytettä ja testidatassa 1000 näytettä."
   ]
  },
  {
   "cell_type": "code",
   "execution_count": null,
   "metadata": {},
   "outputs": [],
   "source": [
    "# Ladataan MNIST-data. Data sisältää 784 muuttujaa (28x28 harmaasävykuva) ja luokat datan luokkatiedot\n",
    "data, luokat = datasets.fetch_openml('mnist_784', version=1, return_X_y=True)\n",
    "data, luokat = np.asarray(data, 'int16'), np.asarray(luokat, 'int')\n",
    "data, luokat = data[:10000], luokat[:10000]\n",
    "\n",
    "# Lasketaan kuville HOG-piirteet\n",
    "piirteet = []\n",
    "for näyte in data:\n",
    "    piirteet.append(hog(näyte.reshape((28, 28)), orientations=9, pixels_per_cell=(7, 7), cells_per_block=(1, 1), block_norm=\"L2-Hys\", visualize=False))\n",
    "\n",
    "# Jaetaan piirteet opetusdataan, validointidataan ja testidataan kahdessa vaiheessa\n",
    "data_opetus, data_tmp, luokat_opetus, luokat_tmp = train_test_split(piirteet, luokat, test_size=(1/5), random_state=0)\n",
    "data_testi, data_validointi, luokat_testi, luokat_validointi = train_test_split(data_tmp, luokat_tmp, test_size=(1/2), random_state=0)\n",
    "\n",
    "# Tulostetaan opetusdatan, validointidatan ja testidatan näytteiden lukumäärät\n",
    "print('Opetusdatassa on {} näytettä'.format(luokat_opetus.shape[0]))\n",
    "print('Validointidatassa on {} näytettä'.format(luokat_validointi.shape[0]))\n",
    "print('Testidatassa on {} näytettä'.format(luokat_testi.shape[0]))"
   ]
  },
  {
   "cell_type": "markdown",
   "metadata": {},
   "source": [
    "Seuraavaksi käytetään validointidataa etsimään k-lähimmän naapurin luokittelijalle (engl. k-nearest neighbors, k-NN), lineaariselle tukivektorikoneelle (engl. linear support vector machines, linear SVM) ja logistiselle regressiolle optimaaliset hyperparametrien arvot.\n",
    "\n",
    "## k-lähimmän naapurin luokittelijan validoiminen\n",
    "\n",
    "Aloitetaan validoiminen [k-lähimmän naapurin luokittelijan](https://scikit-learn.org/stable/modules/generated/sklearn.neighbors.KNeighborsClassifier.html#sklearn.neighbors.KNeighborsClassifier) naapureiden lukumäärästä $k$. Käydään läpi silmukassa $k$:n arvot 1-33 neljän askeleen välein. Tämän jälkeen piirretään kuvaajaan $k$:n arvon vaikutus luokittelutarkkuuteen ja valitaan kuvaajasta paras $k$:n arvo."
   ]
  },
  {
   "cell_type": "code",
   "execution_count": null,
   "metadata": {},
   "outputs": [],
   "source": [
    "# Suoritetaan k-lähimmän naapurin luokittelijan validoiminen\n",
    "# Käydään läpi silmukassa k:n arvot 1-33 neljän askeleen välein\n",
    "luokittelutarkkuudet_knn = []\n",
    "k_arvot = range(1,34,4)\n",
    "for k in k_arvot:\n",
    "    luokittelija_knn = KNeighborsClassifier(n_neighbors=k).fit(data_opetus, luokat_opetus)\n",
    "    luokittelutarkkuudet_knn.append(accuracy_score(luokat_validointi, luokittelija_knn.predict(data_validointi)))\n",
    "    \n",
    "# Piirretään kuvaajaan k:n arvon vaikutus luokittelutarkkuuteen\n",
    "plt.plot(k_arvot, luokittelutarkkuudet_knn)\n",
    "plt.title('k-lähimmän naapurin luokittelijan luokittelutarkkuudet eri k:n arvoilla')\n",
    "plt.xlabel('k:n arvo')\n",
    "plt.ylabel('Luokittelutarkkuus')\n",
    "plt.show()\n",
    "\n",
    "# Valitaan lopuksi kuvaajasta paras k:n arvo\n",
    "maksimi_indeksi_knn = np.argmax(luokittelutarkkuudet_knn)\n",
    "print('Paras k:n arvo k-lähimmän naapurin luokittelijalle: {}'.format(k_arvot[maksimi_indeksi_knn]))"
   ]
  },
  {
   "cell_type": "markdown",
   "metadata": {},
   "source": [
    "## Lineaarisen tukivektorikoneen validoiminen\n",
    "\n",
    "Tukivektorikone pyrkii sovittamaan luokkien välille sellaisen päätöstason, että luokkien välinen marginaali on mahdollisimman iso. Lineaariselle tukivektorikoneelle tärkein hyperparametrin arvo on $C$. Sen suuruus kertoo, kuinka paljon vältellään luokittelemasta väärin opetusdatan näytteitä. Suurilla $C$:n arvoilla voidaan painottaa pienempi marginaalisten päätöstasojen valintaa, mikäli niillä päästään parempaan opetusdatan luokittelutulokseen. Pienillä $C$:n arvoilla puolestaan painotetaan suuremman marginaalin päätöstasojen valintaa opetusdatan luokittelutuloksen kustannuksella.\n",
    "\n",
    "Validoidaan seuraavaksi [lineaarisen tukivektorikoneen](https://scikit-learn.org/stable/modules/generated/sklearn.svm.LinearSVC.html) hyperparametrin arvoa $C$. Käydään läpi silmukassa $C$:n arvot $10^{n}$, missä $n$ on -5, -4, ..., 14, 15. Tämän jälkeen piirretään kuvaajaan $C$:n eksponentin arvon vaikutus luokittelutarkkuuteen ja valitaan kuvaajasta paras $C$:n arvo."
   ]
  },
  {
   "cell_type": "code",
   "execution_count": null,
   "metadata": {
    "scrolled": true
   },
   "outputs": [],
   "source": [
    "# Suoritetaan lineaarisen tukivektorikoneen validoiminen\n",
    "# Käydään läpi silmukassa C:n eksponentin arvot -5, -4, ..., 14, 15\n",
    "luokittelutarkkuudet_lineaarinen_svm = []\n",
    "n1 = np.array(range(-5,16),dtype=float)\n",
    "C1_arvot = 10**n1\n",
    "for C1 in C1_arvot:\n",
    "    luokittelija_lineaarinen_svm = LinearSVC(C=C1, random_state=0).fit(data_opetus, luokat_opetus)\n",
    "    luokittelutarkkuudet_lineaarinen_svm.append(accuracy_score(luokat_validointi, luokittelija_lineaarinen_svm.predict(data_validointi)))\n",
    "    \n",
    "# Piirretään kuvaajaan C:n eksponentin arvon vaikutus luokittelutarkkuuteen\n",
    "plt.plot(n1, luokittelutarkkuudet_lineaarinen_svm)\n",
    "plt.title('Lineaarisen tukivektorikoneen luokittelutarkkuudet eri C:n eksponentin arvoilla')\n",
    "plt.xlabel('C:n eksponentin arvo n')\n",
    "plt.ylabel('Luokittelutarkkuus')\n",
    "plt.show()\n",
    "\n",
    "# Valitaan lopuksi kuvaajasta paras C:n arvo\n",
    "maksimi_indeksi_lineaarinen_svm = np.argmax(luokittelutarkkuudet_lineaarinen_svm)\n",
    "print('Paras C:n arvo lineaariselle tukivektorikoneelle: 10^({})'.format(n1[maksimi_indeksi_lineaarinen_svm]))"
   ]
  },
  {
   "cell_type": "markdown",
   "metadata": {},
   "source": [
    "## Logistisen regression validoiminen\n",
    "\n",
    "Validoidaan vielä [logistisen regression](https://scikit-learn.org/stable/modules/generated/sklearn.linear_model.LogisticRegression.html) hyperparametrin arvoa $C$. Sillä säädetään luokittelijan regularisoinnin voimakkuutta. Käydään läpi silmukassa $C$:n arvot $10^{n}$, missä $n$ on -5, -4, ..., 14, 15. Tämän jälkeen piirretään kuvaajaan $C$:n eksponentin arvon vaikutus luokittelutarkkuuteen ja valitaan kuvaajasta paras $C$:n arvo."
   ]
  },
  {
   "cell_type": "code",
   "execution_count": null,
   "metadata": {},
   "outputs": [],
   "source": [
    "# Suoritetaan logistisen regression validoiminen\n",
    "# Käydään läpi silmukassa C:n eksponentin arvot -5, -4, ..., 14, 15\n",
    "luokittelutarkkuudet_logistinen_regressio = []\n",
    "n2 = np.array(range(-5,16),dtype=float)\n",
    "C2_arvot = 10**n2\n",
    "for C2 in C2_arvot:\n",
    "    luokittelija_logistinen_regressio = LogisticRegression(C=C2, solver='sag', random_state=0).fit(data_opetus, luokat_opetus)\n",
    "    luokittelutarkkuudet_logistinen_regressio.append(accuracy_score(luokat_validointi, luokittelija_logistinen_regressio.predict(data_validointi)))\n",
    "    \n",
    "# Piirretään kuvaajaan C:n eksponentin arvon vaikutus luokittelutarkkuuteen\n",
    "plt.plot(n2, luokittelutarkkuudet_logistinen_regressio)\n",
    "plt.title('Logistisen regression luokittelutarkkuudet eri C:n eksponentin arvoilla')\n",
    "plt.xlabel('C:n eksponentin arvo n')\n",
    "plt.ylabel('Luokittelutarkkuus')\n",
    "plt.show()\n",
    "\n",
    "# Valitaan lopuksi kuvaajasta paras C:n arvo\n",
    "maksimi_indeksi_logistinen_regressio = np.argmax(luokittelutarkkuudet_logistinen_regressio)\n",
    "print('Paras C:n arvo logistiselle regressiolle: 10^({})'.format(n2[maksimi_indeksi_logistinen_regressio]))"
   ]
  },
  {
   "cell_type": "markdown",
   "metadata": {},
   "source": [
    "Kun luokittelijoiden parhaat hyperparametrien arvot on selvitetty, poimi ne ja opeta niitä käyttämällä lopulliset luokittelijat. Sinun tulee siis antaa paras $k$:n arvo k-lähimmän naapurin luokittelijalle, paras $C$:n eksponentti $n_1$ lineaariselle tukivektorikoneelle ja paras $C$:n eksponentti $n_2$ logistiselle regressiolle."
   ]
  },
  {
   "cell_type": "code",
   "execution_count": null,
   "metadata": {},
   "outputs": [],
   "source": [
    "# Opetetaan luokittelijat parhailla hyperparametrien arvoilla\n",
    "#-------- TÄHÄN SINUN KOODI --------\n",
    "k = \n",
    "n1 = \n",
    "n2 = \n",
    "#-----------------------------------\n",
    "\n",
    "luokittelija_knn_validoitu = KNeighborsClassifier(n_neighbors=k).fit(data_opetus, luokat_opetus)\n",
    "luokittelija_lineaarinen_svm_validoitu = LinearSVC(C=10**(n1), random_state=0).fit(data_opetus, luokat_opetus)\n",
    "luokittelija_logistinen_regressio_validoitu = LogisticRegression(C=10**(n2), solver='sag', random_state=0).fit(data_opetus, luokat_opetus)"
   ]
  },
  {
   "cell_type": "markdown",
   "metadata": {},
   "source": [
    "Arvioidaan seuraavaksi luokittelijoiden suorituskykyä sekaannusmatriisien ja luokittelutarkkuuksien perusteella."
   ]
  },
  {
   "cell_type": "code",
   "execution_count": null,
   "metadata": {},
   "outputs": [],
   "source": [
    "def tulosta_sekaannusmatriisi(sekaannusmatriisi, otsikko):\n",
    "    \"\"\"\n",
    "    Tämä funktio tulostaa sekaannusmatriisin graafisesti\n",
    "    \"\"\"\n",
    "    normalisoidut_arvot = []\n",
    "    for rivi in sekaannusmatriisi:\n",
    "        summa = 0\n",
    "        arvot = []\n",
    "        summa = sum(rivi, 0)\n",
    "        for arvo in rivi:\n",
    "            arvot.append(float(arvo)/float(summa))\n",
    "        normalisoidut_arvot.append(arvot)\n",
    "    fig = plt.figure()\n",
    "    plt.clf()\n",
    "    ax = fig.add_subplot(111)\n",
    "    ax.set_aspect(1)\n",
    "    värit = ax.imshow(np.array(normalisoidut_arvot), cmap=plt.cm.Blues, interpolation='nearest')\n",
    "    leveys, korkeus = sekaannusmatriisi.shape\n",
    "    for i in range(leveys):\n",
    "        for j in range(korkeus):\n",
    "            ax.annotate(str(sekaannusmatriisi[i][j]), xy=(j, i), horizontalalignment='center', verticalalignment='center')\n",
    "    fig.colorbar(värit)\n",
    "    luokat = '0123456789'\n",
    "    plt.xticks(range(leveys), luokat[:leveys])\n",
    "    plt.yticks(range(korkeus), luokat[:korkeus])\n",
    "    plt.title(otsikko)\n",
    "    plt.xlabel(\"Ennustetut luokat\")\n",
    "    plt.ylabel(\"Oikeat luokat\")\n",
    "    \n",
    "# Ennustetaan luokat validoidulla k-lähimmän naapurin luokittelijalla, sijoitetaan ennustetut luokat sekaannusmatriisiin ja lasketaan luokittelutarkkuus\n",
    "luokat_ennustettu_knn = luokittelija_knn_validoitu.predict(data_testi)\n",
    "tulosta_sekaannusmatriisi(confusion_matrix(luokat_testi, luokat_ennustettu_knn), 'Sekaannusmatriisi k-lähimmän naapurin luokittelijalle')\n",
    "print('Luokittelutarkkuus k-lähimmän naapurin luokittelijalle: {} %'.format(round(100*accuracy_score(luokat_testi, luokat_ennustettu_knn),3)))\n",
    "\n",
    "# Ennustetaan luokat validoidulla lineaarisella tukovektorikoneella, sijoitetaan ennustetut luokat sekaannusmatriisiin ja lasketaan luokittelutarkkuus\n",
    "luokat_ennustettu_lineaarinen_svm = luokittelija_lineaarinen_svm_validoitu.predict(data_testi)\n",
    "tulosta_sekaannusmatriisi(confusion_matrix(luokat_testi, luokat_ennustettu_lineaarinen_svm), 'Sekaannusmatriisi lineaariselle tukivektorikoneelle')\n",
    "print('Luokittelutarkkuus lineaariselle tukivektorikoneelle: {} %'.format(round(100*accuracy_score(luokat_testi, luokat_ennustettu_lineaarinen_svm),3)))\n",
    "\n",
    "# Ennustetaan luokat validoidulla logistisella regressiolla, sijoitetaan ennustetut luokat sekaannusmatriisiin ja lasketaan luokittelutarkkuus\n",
    "luokat_ennustettu_logistinen_regressio = luokittelija_logistinen_regressio_validoitu.predict(data_testi)\n",
    "tulosta_sekaannusmatriisi(confusion_matrix(luokat_testi, luokat_ennustettu_logistinen_regressio), 'Sekaannusmatriisi logistiselle regressiolle')\n",
    "print('Luokittelutarkkuus logistiselle regressiolle: {} %'.format(round(100*accuracy_score(luokat_testi, luokat_ennustettu_logistinen_regressio),3)))\n",
    "plt.show()"
   ]
  },
  {
   "cell_type": "markdown",
   "metadata": {},
   "source": [
    "**Mikä validoiduista luokittelijoista on paras luokittelutarkkuuden perusteella? Tulkitsemalla sekaannusmatriisia, mihin luokkaan/luokkiin k-lähimmän naapurin luokittelija sekoittaa useimmin käsinkirjoitetun numeron 4?**\n",
    "\n",
    "`Tähän sinun vastaus`"
   ]
  },
  {
   "cell_type": "markdown",
   "metadata": {},
   "source": [
    "Testataan vielä kolmelle testikuvalle, kuinka hyvin validoitu k-lähimmän naapurin luokittelija suoriutuu luokittelutehtävästä. Käsinkirjoitetut numerot segmentoidaan kuvasta Sauvolan binärisointi-menetelmällä, jonka jälkeen kuvaan piirretään punaiset suorakulmiot numeroiden ympärille. Lopuksi käytetään validoitua k-lähimmän naapurin luokittelijaa tunnistamaan kuvien käsinkirjoitetut numerot. Ennusteet piirretään kuvaan punaisilla numeroilla suorakulmioiden alapuolelle."
   ]
  },
  {
   "cell_type": "code",
   "execution_count": null,
   "metadata": {
    "scrolled": true
   },
   "outputs": [],
   "source": [
    "def tunnista_numerot_ja_luokittele(kuva, luokittelija):\n",
    "    \"\"\"\n",
    "    Tämä funktio tunnistaa käsinkirjoitetut numerot kuvasta, laskee niille HOG-piirteet ja luokittelee ne piirteiden perusteella\n",
    "    \"\"\"\n",
    "    plt.figure()\n",
    "    plt.axis('off')\n",
    "\n",
    "    # Suodatetaan kuvaa\n",
    "    harmaasävykuva = rgb2gray(kuva)\n",
    "    kynnysarvo = threshold_sauvola(harmaasävykuva, window_size=155)\n",
    "    binarisointi_sauvola = harmaasävykuva > kynnysarvo\n",
    "    suodatettu_kuva = ndimage.median_filter(binarisointi_sauvola, size=15)\n",
    "\n",
    "    # Etsitään suorakulmiot\n",
    "    ääriviivat = measure.find_contours(suodatettu_kuva, 0)\n",
    "    suorakulmiot = []\n",
    "    siirros = 25\n",
    "    for ääriviiva in ääriviivat:\n",
    "        # xmin, xmax, ymin, ymax\n",
    "        suorakulmiot.append([int(np.min(ääriviiva[:,0])-siirros), int(np.max(ääriviiva[:,0])+siirros), int(np.min(ääriviiva[:,1])-siirros), int(np.max(ääriviiva[:,1])+siirros)])\n",
    "\n",
    "    # Poistetaan suorakulmiot, jotka ovat sisäkkäin ja jätetään sisäkkäisistä suorakulmioista ulommaisin\n",
    "    poistettavat_indeksit = []\n",
    "    for i in range(len(suorakulmiot)):\n",
    "        suorakulmio1 = suorakulmiot[i]\n",
    "        suorakulmio1_ala = (suorakulmio1[1]-suorakulmio1[0])*(suorakulmio1[3]-suorakulmio1[2])\n",
    "        for j in range(len(suorakulmiot)):\n",
    "            if i >= j:\n",
    "                continue\n",
    "            suorakulmio2 = suorakulmiot[j]\n",
    "            suorakulmio2_ala = (suorakulmio2[1]-suorakulmio2[0])*(suorakulmio2[3]-suorakulmio2[2])\n",
    "            if (suorakulmio2[0]>suorakulmio1[0] and suorakulmio2[0]<suorakulmio1[1]) and (suorakulmio2[2]>suorakulmio1[2] and suorakulmio2[2]<suorakulmio1[3]):\n",
    "                if suorakulmio1_ala >= suorakulmio2_ala:\n",
    "                    poistettavat_indeksit.append(j)\n",
    "                else:\n",
    "                    poistettavat_indeksit.append(i)\n",
    "    suorakulmiot = [i for j, i in enumerate(suorakulmiot) if j not in poistettavat_indeksit]\n",
    "\n",
    "    # Segmentoidaan kuva ja lasketaan segmentoiduille alueille HOG-piirteet\n",
    "    # Lopuksi käytetään luokittelijaa tunnistamaan kuvan käsinkirjoitetut numerot\n",
    "    plt.imshow(kuva)\n",
    "    for suorakulmio in suorakulmiot:\n",
    "        rajattu_alue = harmaasävykuva[suorakulmio[0]:suorakulmio[1],suorakulmio[2]:suorakulmio[3]]\n",
    "        rajattu_alue = resize(rajattu_alue, (28,28), order=0)\n",
    "        rajattu_alue = np.asarray(minmax_scale(rajattu_alue.ravel(), feature_range=(0, 255)), dtype=int).reshape((28,28))\n",
    "        rajattu_alue[rajattu_alue>220] = 255\n",
    "        hog_piirteet = [hog(rajattu_alue, orientations=9, pixels_per_cell=(7, 7), cells_per_block=(1, 1), block_norm=\"L2-Hys\",visualize=False)]\n",
    "        ennuste = luokittelija.predict(hog_piirteet)\n",
    "        plt.text(suorakulmio[2] + (suorakulmio[3]-suorakulmio[2])//2 - 15, suorakulmio[1] + (1.5*siirros), str(int(ennuste.item())), color='r')\n",
    "    ax = plt.gca()\n",
    "    for suorakulmio in suorakulmiot:\n",
    "        xmin, xmax, ymin, ymax = suorakulmio[0], suorakulmio[1], suorakulmio[2], suorakulmio[3]\n",
    "        suorakulmio_piirros = mpatches.Rectangle((ymin, xmin), ymax - ymin, xmax - xmin,fill=False, edgecolor='red', linewidth=2)\n",
    "        ax.add_patch(suorakulmio_piirros)\n",
    "\n",
    "# Ladataan testikuvat\n",
    "kuva1 = io.imread('data/kuva1.jpg')\n",
    "kuva2 = io.imread('data/kuva2.jpg')\n",
    "kuva3 = io.imread('data/kuva3.jpg')\n",
    "\n",
    "# Tunnistetaan testikuvista käsinkirjoitetut numerot\n",
    "tunnista_numerot_ja_luokittele(kuva1, luokittelija_knn_validoitu)\n",
    "tunnista_numerot_ja_luokittele(kuva2, luokittelija_knn_validoitu)\n",
    "tunnista_numerot_ja_luokittele(kuva3, luokittelija_knn_validoitu)"
   ]
  },
  {
   "cell_type": "markdown",
   "metadata": {},
   "source": [
    "Täytä lopuksi sekaannusmatriisi vastaamaan kolmen testikuvan luokittelutulosta."
   ]
  },
  {
   "cell_type": "code",
   "execution_count": null,
   "metadata": {},
   "outputs": [],
   "source": [
    "# Täytä sekaannusmatriisi vastaamaan kolmen testikuvan luokittelutulosta\n",
    "#-------- TÄHÄN SINUN KOODI --------\n",
    "sekaannusmatriisi = [[8,0,0,0,0,0,0,0,0,0],\n",
    "                     [0,8,0,0,0,0,0,0,0,0],\n",
    "                     [0,0,8,0,0,0,0,0,0,0],\n",
    "                     [0,0,0,8,0,0,0,0,0,0],\n",
    "                     [0,0,0,0,8,0,0,0,0,0],\n",
    "                     [0,0,0,0,0,8,0,0,0,0],\n",
    "                     [0,0,0,0,0,0,8,0,0,0],\n",
    "                     [0,0,0,0,0,0,0,8,0,0],\n",
    "                     [0,0,0,0,0,0,0,0,8,0],\n",
    "                     [0,0,0,0,0,0,0,0,0,8]]\n",
    "#-----------------------------------\n",
    "\n",
    "tulosta_sekaannusmatriisi(np.array(sekaannusmatriisi), 'Sekaannusmatriisi testikuville k-lähimmän naapurin luokittelijalla')"
   ]
  },
  {
   "cell_type": "markdown",
   "metadata": {},
   "source": [
    "# Tehtävä 2. Balansoidun ja epäbalansoidun opetusdatan vaikutus luokittelijan suorituskykyyn\n",
    "\n",
    "Toisessa tehtävässä vertaillaan balansoidulla ja epäbalansoidulla datalla opetettujen luokittelijoiden suorituskykyjen eroa. Monet tosielämän datat ovat epäbalansoituja, joissa kiinnostavasta ilmiöstä on vähän näytteitä verrattuna datan muihin luokkiin. Mikäli datan epäbalanssin jättää huomioimatta luokittelijaa opetettaessa ja testattaessa, voi sillä olla negatiivisia vaikutuksia luokittelijan suorituskykyyn ja sen suorituskyvystä muodostuu väärä kuva.\n",
    "\n",
    "Datana käytetään öljyvuotojen havaitsemiseksi merenpinnasta otettuja kuvan 3 kaltaisia satelliittikuvia, jotka ovat muunnettu numeroarvoisiksi piirteiksi. Satelliittikuvien piirteiden irrottaminen on toteutettu digitaalisilla kuvankäsittelytekniikoilla. Muunnetut 49 piirrettä kuvaavat mm. mahdollisen öljyvuotoalueen keskipisteen sijaintia kuvassa, alueen muotoa, pinta-alaa, intensiteettiä ja reunan rosoisuutta.\n",
    "\n",
    "Yhteensä datassa on 937 näytettä, joista 896 kuuluu luokkaan -1 (ei öljyvuotoa) ja 41 luokkaan 1 (öljyvuoto).  Jaetaan data 80:20 jakosuhteella opetusdataan ja testidataan. Havainnollistetaan opetusdatan ja testidatan epäbalanssia pylväsdiagrammeilla. Luokittelijoina ongelman ratkaisemiseksi käytetään satunnaismetsää, logistista regressiota ja k-lähimmän naapurin luokittelijaa, joiden hyperparametrien arvot on jo etukäteen tiedossa, eikä niitä tarvitse erikseen validoida.\n",
    "\n",
    "<br>\n",
    "<div style=\"width:image width px; font-size:80%; text-align:center;\">\n",
    "    <center>\n",
    "    <img src='kuvat\\oil_spill.jpg' width='550' height='auto' style='padding-bottom:0.5em;' />\n",
    "    </center>\n",
    "    <span>Kuva 3. Satelliittikuva merenpinnasta öljyvuotojen tunnistamiseksi.</span>\n",
    "</div>\n",
    "<br>"
   ]
  },
  {
   "cell_type": "code",
   "execution_count": null,
   "metadata": {},
   "outputs": [],
   "source": [
    "# Ladataan öljyvuotodata. Muuttuja data2 sisältää 49 piirrettä ja muuttuja luokat2 luokkatiedot\n",
    "data2, luokat2 = datasets.fetch_openml('oil_spill', return_X_y=True)\n",
    "luokat2 = np.asarray(luokat2, 'int')\n",
    "\n",
    "# Jaetaan piirteet opetusdataan ja testidataan\n",
    "data2_opetus, data2_testi, luokat2_opetus, luokat2_testi = train_test_split(data2, luokat2, test_size=(1/5), random_state=0)\n",
    "\n",
    "# Havainnollistetaan opetusdatan epäbalanssia pylväsdiagrammilla\n",
    "plt.subplot(121)\n",
    "kategoriat_opetus, määrät_opetus = np.unique(luokat2_opetus.astype('U'), return_counts=True)\n",
    "plt.bar(kategoriat_opetus, määrät_opetus, color=['red','green'])\n",
    "plt.xlabel('Luokka')\n",
    "plt.ylabel('Opetusnäytteiden lukumäärä')\n",
    "plt.title('Öljyvuotodatan opetusnäytteiden lukumäärä luokkaa kohden')\n",
    "\n",
    "# Havainnollistetaan testidatan epäbalanssia pylväsdiagrammilla\n",
    "plt.subplot(122)\n",
    "kategoriat_testi, määrät_testi = np.unique(luokat2_testi.astype('U'), return_counts=True)\n",
    "plt.bar(kategoriat_testi, määrät_testi, color=['red','green'])\n",
    "plt.xlabel('Luokka')\n",
    "plt.ylabel('Testinäytteiden lukumäärä')\n",
    "plt.title('Öljyvuotodatan testinäytteiden lukumäärä luokkaa kohden')\n",
    "plt.show()\n",
    "\n",
    "# Tulostetaan opetusdatan ja testidatan näytteiden lukumäärät luokkaa kohden\n",
    "print('Opetusdatan luokassa {} on {} näytettä ja luokassa {} on {} näytettä'.format(kategoriat_opetus[0], määrät_opetus[0], kategoriat_opetus[1], määrät_opetus[1]))\n",
    "print('Testidatan luokassa {} on {} näytettä ja luokassa {} on {} näytettä'.format(kategoriat_testi[0], määrät_testi[0], kategoriat_testi[1], määrät_testi[1]))"
   ]
  },
  {
   "cell_type": "markdown",
   "metadata": {},
   "source": [
    "Datan ollessa vahvasti epäbalanssissa, ei luokittelutarkkuus anna totuudenmukaista kuvaa luokittelijan suorituskyvystä. Usein luokittelijat oppivat tunnistamaan enemmistöluokan näytteet hyvin, mutta kiinnostavien vähemmistöluokan näytteiden tunnistus on heikkoa. Jos esimerkiksi luokittelija tunnistaisi öljyvuotoluokitteluongelman testidatan kaikki näytteet luokkaan -1, saavutettaisiin 94,7 % luokittelutarkkuus, vaikka mitään luokittelua ei todellisuudessa ole tapahtunut. Kyseistä ilmiötä kutsutaan luokittelutarkkuuden paradoksiksi. Tästä syystä epäbalansoidulle datalle käytetään luokittelutarkkuuden sijaan mittoja, kuten sensitiivisyys/saanti/herkkyys ja positiivinen ennustearvo/tarkkuus arvioimaan, kuinka hyvin luokittelija oikeasti suoriutuu luokittelusta.\n",
    "\n",
    "Arvioidaan opetettujen luokittelijoiden suorituskykyä binäärisen kahden luokan luokitteluongelman testidatan sekaannusmatriiseista. Vertaillaan suorituskyvyn mittoja luokittelutarkkuus, sensitiivisyys, positiivinen ennustearvo ja F1-arvo (engl. F1 score), jotka lasketaan seuraavilla yhtälöillä.\n",
    "\n",
    "<br><br>\n",
    "\\begin{equation}\n",
    "\\text{Luokittelutarkkuus} = \\frac{TP+TN}{P+N} = \\frac{TP+TN}{TP+FN+TN+FP}\n",
    "\\end{equation}\n",
    "\n",
    "<br><br>\n",
    "\\begin{equation}\n",
    "\\text{Sensitiivisyys} = \\frac{TP}{P} = \\frac{TP}{TP+FN}\n",
    "\\end{equation}\n",
    "\n",
    "<br><br>\n",
    "\\begin{equation}\n",
    "\\text{Positiivinen ennustearvo} = \\frac{TP}{TP+FP}\n",
    "\\end{equation}\n",
    "\n",
    "<br><br>\n",
    "\\begin{equation}\n",
    "\\text{F1-arvo} = \\frac{2 \\cdot \\text{sensitiivisyys} \\cdot \\text{positiivinen ennustearvo}}{\\text{sensitiivisyys}+\\text{positiivinen ennustearvo}}\n",
    "\\end{equation}\n",
    "<br><br>\n",
    "\n",
    "F1-arvo on sensitiivisyyden ja positiivisen ennustearvon harmoninen keskiarvo. Toteuta yhtälöiden suorituskyvyn mitat.\n",
    "\n",
    "Toteutettuasi mitat, tarkasta vielä öljyvuotodatalla opetetulle satunnaismetsälle, että saat valmiita scikit-learn kirjaston funktioita [metrics.accuracy_score()](https://scikit-learn.org/stable/modules/generated/sklearn.metrics.accuracy_score.html), [metrics.recall_score()](https://scikit-learn.org/stable/modules/generated/sklearn.metrics.recall_score.html), [metrics.precision_score()](https://scikit-learn.org/stable/modules/generated/sklearn.metrics.precision_score.html) ja [metrics.f1_score()](https://scikit-learn.org/stable/modules/generated/sklearn.metrics.f1_score.html) vastaavat arvot."
   ]
  },
  {
   "cell_type": "code",
   "execution_count": null,
   "metadata": {},
   "outputs": [],
   "source": [
    "def laske_luokittelutarkkuus(sekaannusmatriisi):\n",
    "    \"\"\"\n",
    "    Tässä funktiossa lasketaan luokittelutarkkuus (engl. accuracy) 2x2 sekaannusmatriisista\n",
    "    \"\"\"\n",
    "    TN, FP, FN, TP = sekaannusmatriisi.ravel()\n",
    "    #-------- TÄHÄN SINUN KOODI --------\n",
    "    # Laske luokittelutarkkuus\n",
    "    \n",
    "    # Funktio palauttaa luokittelutarkkuuden\n",
    "    \n",
    "    #-----------------------------------\n",
    "\n",
    "def laske_sensitiivisyys(sekaannusmatriisi):\n",
    "    \"\"\"\n",
    "    Tässä funktiossa lasketaan sensitiivisyys (engl. recall) 2x2 sekaannusmatriisista\n",
    "    \"\"\"\n",
    "    TN, FP, FN, TP = sekaannusmatriisi.ravel()\n",
    "    #-------- TÄHÄN SINUN KOODI --------\n",
    "    # Laske sensitiivisyys\n",
    "    \n",
    "    # Funktio palauttaa sensitiivisyyden\n",
    "    \n",
    "    #-----------------------------------\n",
    "    \n",
    "def laske_positiivinen_ennustearvo(sekaannusmatriisi):\n",
    "    \"\"\"\n",
    "    Tässä funktiossa lasketaan positiivinen ennustearvo (engl. precision) 2x2 sekaannusmatriisista\n",
    "    \"\"\"\n",
    "    TN, FP, FN, TP = sekaannusmatriisi.ravel()\n",
    "    #-------- TÄHÄN SINUN KOODI --------\n",
    "    # Laske positiivinen ennustearvo\n",
    "    \n",
    "    # Funktio palauttaa positiivisen ennustearvon\n",
    "    \n",
    "    #-----------------------------------\n",
    "    \n",
    "def laske_F1_arvo(sensitiivisyys, positiivinen_ennustearvo):\n",
    "    \"\"\"\n",
    "    Tässä funktiossa lasketaan f1-arvo sensitiivisyyden ja positiivisen ennustearvon perusteella\n",
    "    \"\"\"\n",
    "    #-------- TÄHÄN SINUN KOODI --------\n",
    "    # Laske F1-arvo\n",
    "    \n",
    "    # Funktio palauttaa F1-arvon\n",
    "    \n",
    "    #-----------------------------------\n",
    "\n",
    "# Opetetaan satunnaismetsä ja sijoitetaan ennustetut testidatan luokat sekaannusmatriisiin\n",
    "luokittelija2_satunnaismetsä = RandomForestClassifier(n_estimators=100, random_state=0).fit(data2_opetus, luokat2_opetus)\n",
    "sekaannusmatriisi2_satunnaismetsä = confusion_matrix(luokat2_testi,luokittelija2_satunnaismetsä.predict(data2_testi))\n",
    "\n",
    "print('Luokittelutarkkuus satunnaismetsälle scikit-learn kirjaston valmiilla funktiolla: {}'.format(accuracy_score(luokat2_testi, luokittelija2_satunnaismetsä.predict(data2_testi))))\n",
    "print('Sensitiivisyys satunnaismetsälle scikit-learn kirjaston valmiilla funktiolla: {}'.format(recall_score(luokat2_testi, luokittelija2_satunnaismetsä.predict(data2_testi))))\n",
    "print('Positiivinen ennustearvo satunnaismetsälle scikit-learn kirjaston valmiilla funktiolla: {}'.format(precision_score(luokat2_testi, luokittelija2_satunnaismetsä.predict(data2_testi))))\n",
    "print('F1-arvo satunnaismetsälle scikit-learn kirjaston valmiilla funktiolla: {}'.format(f1_score(luokat2_testi, luokittelija2_satunnaismetsä.predict(data2_testi))))\n",
    "\n",
    "print('\\nLuokittelutarkkuus satunnaismetsälle toteuttamallasi funktiolla: {}'.format(laske_luokittelutarkkuus(sekaannusmatriisi2_satunnaismetsä)))\n",
    "print('Sensitiivisyys satunnaismetsälle toteuttamallasi funktiolla: {}'.format(laske_sensitiivisyys(sekaannusmatriisi2_satunnaismetsä)))\n",
    "print('Positiivinen ennustearvo satunnaismetsälle toteuttamallasi funktiolla: {}'.format(laske_positiivinen_ennustearvo(sekaannusmatriisi2_satunnaismetsä)))\n",
    "print('F1-arvo satunnaismetsälle toteuttamallasi funktiolla: {}'.format(laske_F1_arvo(laske_sensitiivisyys(sekaannusmatriisi2_satunnaismetsä), laske_positiivinen_ennustearvo(sekaannusmatriisi2_satunnaismetsä))))"
   ]
  },
  {
   "cell_type": "markdown",
   "metadata": {},
   "source": [
    "Opetetaan lisäksi epäbalansoidun öljyvuotodatan opetusnäytteillä logistinen regressio ja k-lähimmän naapurin luokittelija. Piirretään kuvaajaan kaikille kolmelle luokittelijalle ROC-käyrät ja lasketaan niitä vastaavat ROC AUC-arvot."
   ]
  },
  {
   "cell_type": "code",
   "execution_count": null,
   "metadata": {},
   "outputs": [],
   "source": [
    "# Opetetaan öljyvuotodatan opetusnäytteillä logistinen regressio ja k-lähimmän naapurin luokittelija\n",
    "luokittelija2_logistinen_regressio = LogisticRegression(C=50, solver='liblinear', random_state=0).fit(data2_opetus, luokat2_opetus)\n",
    "luokittelija2_knn = KNeighborsClassifier(n_neighbors=35).fit(data2_opetus, luokat2_opetus)\n",
    "\n",
    "# Lasketaan testidatan posterioritodennäköisyydet\n",
    "posterioritodennäköisyydet_satunnaismetsä = luokittelija2_satunnaismetsä.predict_proba(data2_testi)[:, 1]\n",
    "posterioritodennäköisyydet_logistinen_regressio = luokittelija2_logistinen_regressio.predict_proba(data2_testi)[:, 1]\n",
    "posterioritodennäköisyydet_knn = luokittelija2_knn.predict_proba(data2_testi)[:, 1]\n",
    "\n",
    "# Lasketaan ROC-käyrät\n",
    "fpr_satunnaismetsä, tpr_satunnaismetsä, _ = roc_curve(luokat2_testi, posterioritodennäköisyydet_satunnaismetsä)\n",
    "fpr_logistinen_regressio, tpr_logistinen_regressio, _ = roc_curve(luokat2_testi, posterioritodennäköisyydet_logistinen_regressio)\n",
    "fpr_knn, tpr_knn, _ = roc_curve(luokat2_testi, posterioritodennäköisyydet_knn)\n",
    "\n",
    "# Piirretään kuvaajaan kaikkien kolmen luokittelijan ROC-käyrät\n",
    "plt.figure(figsize=(10,7))\n",
    "plt.plot(fpr_satunnaismetsä, tpr_satunnaismetsä, label='Satunnaismetsä')\n",
    "plt.plot(fpr_logistinen_regressio, tpr_logistinen_regressio, label='Logistinen regressio')\n",
    "plt.plot(fpr_knn, tpr_knn, label='k-lähimmän naapurin luokittelija')\n",
    "plt.xlabel('1-Spesifisyys')\n",
    "plt.ylabel('Sensitiivisyys')\n",
    "plt.title('ROC-käyrät epäbalansoidulla opetusdatalla opetetuille luokittelijoille')\n",
    "plt.legend()\n",
    "plt.show()\n",
    "\n",
    "# Tulostetaan ROC-käyriä vastaavat ROC AUC-arvot\n",
    "print('Satunnaismetsän ROC AUC-arvo: {}'.format(round(roc_auc_score(luokat2_testi, posterioritodennäköisyydet_satunnaismetsä),3)))\n",
    "print('Logistisen regression ROC AUC-arvo: {}'.format(round(roc_auc_score(luokat2_testi, posterioritodennäköisyydet_logistinen_regressio),3)))\n",
    "print('k-lähimmän naapurin luokittelijan ROC AUC-arvo: {}'.format(round(roc_auc_score(luokat2_testi, posterioritodennäköisyydet_knn),3)))"
   ]
  },
  {
   "cell_type": "markdown",
   "metadata": {},
   "source": [
    "Piirretään kuvaajaan luokittelijoille positiivinen ennustearvo - sensitiivisyys käyrät ja lasketaan niitä vastaavat PR AUC-arvot."
   ]
  },
  {
   "cell_type": "code",
   "execution_count": null,
   "metadata": {},
   "outputs": [],
   "source": [
    "# Lasketaan PR-käyrät\n",
    "positiiviset_ennustearvot_satunnaismetsä, sensitiivisyydet_satunnaismetsä, _ = precision_recall_curve(luokat2_testi, posterioritodennäköisyydet_satunnaismetsä)\n",
    "positiiviset_ennustearvot_logistinen_regressio, sensitiivisyydet_logistinen_regressio, _ = precision_recall_curve(luokat2_testi, posterioritodennäköisyydet_logistinen_regressio)\n",
    "positiiviset_ennustearvot_knn, sensitiivisyydet_knn, _ = precision_recall_curve(luokat2_testi, posterioritodennäköisyydet_knn)\n",
    "\n",
    "# Piirretään kuvaajaan kaikkien kolmen luokittelijan PR-käyrät\n",
    "plt.figure(figsize=(10,7))\n",
    "plt.plot(sensitiivisyydet_satunnaismetsä, positiiviset_ennustearvot_satunnaismetsä, label='Satunnaismetsä')\n",
    "plt.plot(sensitiivisyydet_logistinen_regressio, positiiviset_ennustearvot_logistinen_regressio, label='Logistinen regressio')\n",
    "plt.plot(sensitiivisyydet_knn, positiiviset_ennustearvot_knn, label='k-lähimmän naapurin luokittelija')\n",
    "plt.xlabel('Sensitiivisyys')\n",
    "plt.ylabel('Positiivinen ennustearvo')\n",
    "plt.title('Positiivinen ennustearvo - sensitiivisyys käyrät epäbalansoidulla opetusdatalla opetetuille luokittelijoille')\n",
    "plt.legend()\n",
    "plt.show()\n",
    "\n",
    "# Tulostetaan PR-käyriä vastaavat PR AUC-arvot\n",
    "print('Satunnaismetsän PR AUC-arvo: {}'.format(round(auc(sensitiivisyydet_satunnaismetsä, positiiviset_ennustearvot_satunnaismetsä),3)))\n",
    "print('Logistisen regression PR AUC-arvo: {}'.format(round(auc(sensitiivisyydet_logistinen_regressio, positiiviset_ennustearvot_logistinen_regressio),3)))\n",
    "print('k-lähimmän naapurin luokittelijan PR AUC-arvo: {}'.format(round(auc(sensitiivisyydet_knn, positiiviset_ennustearvot_knn),3)))"
   ]
  },
  {
   "cell_type": "markdown",
   "metadata": {},
   "source": [
    "Lasketaan lopuksi kaikki luokittelijoiden suorituskykyä kuvaavat mitta-arvot ja esitetään ne taulukossa."
   ]
  },
  {
   "cell_type": "code",
   "execution_count": null,
   "metadata": {},
   "outputs": [],
   "source": [
    "def laske_mitta_arvot(data_testi, luokat_testi, luokittelija, luokittelijan_nimi):\n",
    "    \"\"\"\n",
    "    Tässä funktiossa lasketaan luokittelijan suorituskyvyn mitta-arvot ja tallennetaan ne lopuksi listaan\n",
    "    \"\"\"\n",
    "    # Lasketaan luokittelutarkkuus, sensitiivisyys, positiivinen ennustearo, F1-arvo, ROC AUC-arvo ja PR AUC-arvo\n",
    "    luokittelutarkkuus = round(accuracy_score(luokat_testi, luokittelija.predict(data_testi)),3)\n",
    "    sensitiivisyys = round(recall_score(luokat_testi, luokittelija.predict(data_testi)),3)\n",
    "    positiivinen_ennustearvo = round(precision_score(luokat_testi, luokittelija.predict(data_testi)),3)\n",
    "    f1_arvo = round(f1_score(luokat_testi, luokittelija.predict(data_testi)),3)\n",
    "    roc_auc = round(roc_auc_score(luokat_testi, luokittelija.predict_proba(data_testi)[:, 1]),3)    \n",
    "    positiiviset_ennustearvot, sensitiivisyydet, _ = precision_recall_curve(luokat_testi, luokittelija.predict_proba(data_testi)[:, 1])\n",
    "    pr_auc = round(auc(sensitiivisyydet, positiiviset_ennustearvot),3)\n",
    "    return [luokittelijan_nimi, luokittelutarkkuus, sensitiivisyys, positiivinen_ennustearvo, f1_arvo, roc_auc, pr_auc]\n",
    "\n",
    "# Tehdään taulukko suorituskyvyn mitta-arvojen esittämiseksi\n",
    "mitta_arvot = []\n",
    "mitta_arvot.append(['','$\\\\bf{Luokittelutarkkuus}$','$\\\\bf{Sensitiivisyys}$','$\\\\bf{Positiivinen}$\\n $\\\\bf{ennustearvo}$','$\\\\bf{F1-arvo}$','$\\\\bf{ROC\\\\ AUC}$','$\\\\bf{PR\\\\ AUC}$'])\n",
    "mitta_arvot.append(laske_mitta_arvot(data2_testi, luokat2_testi, luokittelija2_satunnaismetsä, '$\\\\bf{Satunnaismetsä}$'))\n",
    "mitta_arvot.append(laske_mitta_arvot(data2_testi, luokat2_testi, luokittelija2_logistinen_regressio, '$\\\\bf{Logistinen\\\\ regressio}$'))\n",
    "mitta_arvot.append(laske_mitta_arvot(data2_testi, luokat2_testi, luokittelija2_knn, '$\\\\bf{k-lähimmän}$\\n $\\\\bf{naapurin\\\\ luokittelija}$'))\n",
    "\n",
    "# Tulostetaan taulukko\n",
    "taulukko = plt.gca().table(cellText=mitta_arvot, loc='center', cellLoc='center')\n",
    "taulukko.auto_set_font_size(False)\n",
    "taulukko.set_fontsize(9)\n",
    "taulukko.scale(1,3)\n",
    "plt.gca().axis('off')\n",
    "plt.title('Epäbalansoidun öljyvuotodatan opetusnäytteillä opetettujen luokittelijoiden suorituskyvyn mitta-arvot')\n",
    "plt.show()"
   ]
  },
  {
   "cell_type": "markdown",
   "metadata": {},
   "source": [
    "**Luettele luokittelijat paremmuusjärjestyksessä suorituskyvyn mitta-arvojen, ROC-käyrien ja positiivinen ennustearvo - sensitiivisyys käyrien perusteella.**\n",
    "\n",
    "`Tähän sinun vastaus`"
   ]
  },
  {
   "cell_type": "markdown",
   "metadata": {},
   "source": [
    "## Opetusdatan ylinäytteistys\n",
    "\n",
    "Suoritetaan opetusdatalle ylinäytteistys SVMSMOTE-algoritmilla luokittelijoiden suorituskykyn parantamiseksi. Havainnollistetaan ylinäytteistetyn opetusdatan epäbalanssia pylväsdiagrammilla. Pylväsdiagrammista nähdään, että kiinnostavan vähemmistöluokan näytteiden lukumäärä on kasvanut, mutta enemmistöluokan näytteiden lukumäärä on pysynyt samana. Epäbalanssin määrä on vähentynyt merkittävästi."
   ]
  },
  {
   "cell_type": "code",
   "execution_count": null,
   "metadata": {},
   "outputs": [],
   "source": [
    "# Suoritetaan ylinäytteistys SVMSMOTE-algoritmilla\n",
    "data2_opetus_ylinäytteistetty, luokat2_opetus_ylinäytteistetty = SVMSMOTE(random_state=0).fit_resample(data2_opetus, luokat2_opetus)\n",
    "\n",
    "# Havainnollistetaan opetusdatan epäbalanssia pylväsdiagrammilla\n",
    "plt.figure(figsize=(7,6))\n",
    "kategoriat_opetus_ylinäytteistetty, määrät_opetus_ylinäytteistetty = np.unique(luokat2_opetus_ylinäytteistetty.astype('U'), return_counts=True)\n",
    "plt.bar(kategoriat_opetus_ylinäytteistetty, määrät_opetus_ylinäytteistetty, color=['red','green'])\n",
    "plt.xlabel('Luokka')\n",
    "plt.ylabel('Opetusnäytteiden lukumäärä')\n",
    "plt.title('Ylinäytteistetyn öljyvuotodatan opetusnäytteiden lukumäärä luokkaa kohden')\n",
    "plt.show()\n",
    "\n",
    "# Tulostetaan opetusdatan näytteiden lukumäärät luokkaa kohden\n",
    "print('Opetusdatan luokassa {} on {} näytettä ja luokassa {} on {} näytettä'.format(kategoriat_opetus_ylinäytteistetty[0], määrät_opetus_ylinäytteistetty[0], kategoriat_opetus_ylinäytteistetty[1], määrät_opetus_ylinäytteistetty[1]))"
   ]
  },
  {
   "cell_type": "markdown",
   "metadata": {},
   "source": [
    "Opetetaan ylinäytteistetyllä öljyvuotodatan opetusnäytteillä satunnaismetsä, logistinen regressio ja k-lähimmän naapurin luokittelija. Piirretään kuvaajaan kaikille kolmelle luokittelijalle ROC-käyrät ja lasketaan niitä vastaavat ROC AUC-arvot."
   ]
  },
  {
   "cell_type": "code",
   "execution_count": null,
   "metadata": {},
   "outputs": [],
   "source": [
    "# Opetetaan ylinäytteistetyllä öljyvuotodatan opetusnäytteillä satunnaismetsä, logistinen regressio ja k-lähimmän naapurin luokittelija\n",
    "luokittelija2_satunnaismetsä_ylinäytteistetty = RandomForestClassifier(n_estimators=100, random_state=0).fit(data2_opetus_ylinäytteistetty, luokat2_opetus_ylinäytteistetty)\n",
    "luokittelija2_logistinen_regressio_ylinäytteistetty = LogisticRegression(C=50, solver='liblinear', random_state=0).fit(data2_opetus_ylinäytteistetty, luokat2_opetus_ylinäytteistetty)\n",
    "luokittelija2_knn_ylinäytteistetty = KNeighborsClassifier(n_neighbors=35).fit(data2_opetus_ylinäytteistetty, luokat2_opetus_ylinäytteistetty)\n",
    "\n",
    "# Lasketaan testidatan posterioritodennäköisyydet\n",
    "posterioritodennäköisyydet_satunnaismetsä_ylinäytteistetty = luokittelija2_satunnaismetsä_ylinäytteistetty.predict_proba(data2_testi)[:, 1]\n",
    "posterioritodennäköisyydet_logistinen_regressio_ylinäytteistetty = luokittelija2_logistinen_regressio_ylinäytteistetty.predict_proba(data2_testi)[:, 1]\n",
    "posterioritodennäköisyydet_knn_ylinäytteistetty = luokittelija2_knn_ylinäytteistetty.predict_proba(data2_testi)[:, 1]\n",
    "\n",
    "# Lasketaan ROC-käyrät\n",
    "fpr_satunnaismetsä_ylinäytteistetty, tpr_satunnaismetsä_ylinäytteistetty, _ = roc_curve(luokat2_testi, posterioritodennäköisyydet_satunnaismetsä_ylinäytteistetty)\n",
    "fpr_logistinen_regressio_ylinäytteistetty, tpr_logistinen_regressio_ylinäytteistetty, _ = roc_curve(luokat2_testi, posterioritodennäköisyydet_logistinen_regressio_ylinäytteistetty)\n",
    "fpr_knn_ylinäytteistetty, tpr_knn_ylinäytteistetty, _ = roc_curve(luokat2_testi, posterioritodennäköisyydet_knn_ylinäytteistetty)\n",
    "\n",
    "# Piirretään kuvaajaan kaikkien kolmen luokittelijan ROC-käyrät\n",
    "plt.figure(figsize=(10,7))\n",
    "plt.plot(fpr_satunnaismetsä_ylinäytteistetty, tpr_satunnaismetsä_ylinäytteistetty, label='Satunnaismetsä')\n",
    "plt.plot(fpr_logistinen_regressio_ylinäytteistetty, tpr_logistinen_regressio_ylinäytteistetty, label='Logistinen regressio')\n",
    "plt.plot(fpr_knn_ylinäytteistetty, tpr_knn_ylinäytteistetty, label='k-lähimmän naapurin luokittelija')\n",
    "plt.xlabel('1-Spesifisyys')\n",
    "plt.ylabel('Sensitiivisyys')\n",
    "plt.title('ROC-käyrät ylinäytteistetyllä opetusdatalla opetetuille luokittelijoille')\n",
    "plt.legend()\n",
    "plt.show()\n",
    "\n",
    "# Tulostetaan ROC-käyriä vastaavat ROC AUC-arvot\n",
    "print('Satunnaismetsän ROC AUC-arvo: {}'.format(round(roc_auc_score(luokat2_testi, posterioritodennäköisyydet_satunnaismetsä_ylinäytteistetty),3)))\n",
    "print('Logistisen regression ROC AUC-arvo: {}'.format(round(roc_auc_score(luokat2_testi, posterioritodennäköisyydet_logistinen_regressio_ylinäytteistetty),3)))\n",
    "print('k-lähimmän naapurin luokittelijan ROC AUC-arvo: {}'.format(round(roc_auc_score(luokat2_testi, posterioritodennäköisyydet_knn_ylinäytteistetty),3)))"
   ]
  },
  {
   "cell_type": "markdown",
   "metadata": {},
   "source": [
    "Piirretään kuvaajaan luokittelijoille positiivinen ennustearvo - sensitiivisyys käyrät ja lasketaan niitä vastaavat PR AUC-arvot."
   ]
  },
  {
   "cell_type": "code",
   "execution_count": null,
   "metadata": {},
   "outputs": [],
   "source": [
    "# Lasketaan PR-käyrät\n",
    "positiiviset_ennustearvot_satunnaismetsä_ylinäytteistetty, sensitiivisyydet_satunnaismetsä_ylinäytteistetty, _ = precision_recall_curve(luokat2_testi, posterioritodennäköisyydet_satunnaismetsä_ylinäytteistetty)\n",
    "positiiviset_ennustearvot_logistinen_regressio_ylinäytteistetty, sensitiivisyydet_logistinen_regressio_ylinäytteistetty, _ = precision_recall_curve(luokat2_testi, posterioritodennäköisyydet_logistinen_regressio_ylinäytteistetty)\n",
    "positiiviset_ennustearvot_knn_ylinäytteistetty, sensitiivisyydet_knn_ylinäytteistetty, _ = precision_recall_curve(luokat2_testi, posterioritodennäköisyydet_knn_ylinäytteistetty)\n",
    "\n",
    "# Piirretään kuvaajaan kaikkien kolmen luokittelijan PR-käyrät\n",
    "plt.figure(figsize=(10,7))\n",
    "plt.plot(sensitiivisyydet_satunnaismetsä_ylinäytteistetty, positiiviset_ennustearvot_satunnaismetsä_ylinäytteistetty, label='Satunnaismetsä')\n",
    "plt.plot(sensitiivisyydet_logistinen_regressio_ylinäytteistetty, positiiviset_ennustearvot_logistinen_regressio_ylinäytteistetty, label='Logistinen regressio')\n",
    "plt.plot(sensitiivisyydet_knn_ylinäytteistetty, positiiviset_ennustearvot_knn_ylinäytteistetty, label='k-lähimmän naapurin luokittelija')\n",
    "plt.xlabel('Sensitiivisyys')\n",
    "plt.ylabel('Positiivinen ennustearvo')\n",
    "plt.title('Positiivinen ennustearvo - sensitiivisyys käyrät ylinäytteistetyllä opetusdatalla opetetuille luokittelijoille')\n",
    "plt.legend()\n",
    "plt.show()\n",
    "\n",
    "# Tulostetaan PR-käyriä vastaavat PR AUC-arvot\n",
    "print('Satunnaismetsän PR AUC-arvo: {}'.format(round(auc(sensitiivisyydet_satunnaismetsä_ylinäytteistetty, positiiviset_ennustearvot_satunnaismetsä_ylinäytteistetty),3)))\n",
    "print('Logistisen regression PR AUC-arvo: {}'.format(round(auc(sensitiivisyydet_logistinen_regressio_ylinäytteistetty, positiiviset_ennustearvot_logistinen_regressio_ylinäytteistetty),3)))\n",
    "print('k-lähimmän naapurin luokittelijan PR AUC-arvo: {}'.format(round(auc(sensitiivisyydet_knn_ylinäytteistetty, positiiviset_ennustearvot_knn_ylinäytteistetty),3)))"
   ]
  },
  {
   "cell_type": "markdown",
   "metadata": {},
   "source": [
    "Lasketaan lopuksi kaikki luokittelijoiden suorituskykyä kuvaavat mitta-arvot ja esitetään ne taulukossa."
   ]
  },
  {
   "cell_type": "code",
   "execution_count": null,
   "metadata": {},
   "outputs": [],
   "source": [
    "# Tehdään taulukko suorituskyvyn mitta-arvojen esittämiseksi\n",
    "mitta_arvot_ylinäytteistetty = []\n",
    "mitta_arvot_ylinäytteistetty.append(['','$\\\\bf{Luokittelutarkkuus}$','$\\\\bf{Sensitiivisyys}$','$\\\\bf{Positiivinen}$\\n $\\\\bf{ennustearvo}$','$\\\\bf{F1-arvo}$','$\\\\bf{ROC\\\\ AUC}$','$\\\\bf{PR\\\\ AUC}$'])\n",
    "mitta_arvot_ylinäytteistetty.append(laske_mitta_arvot(data2_testi, luokat2_testi, luokittelija2_satunnaismetsä_ylinäytteistetty, '$\\\\bf{Satunnaismetsä}$'))\n",
    "mitta_arvot_ylinäytteistetty.append(laske_mitta_arvot(data2_testi, luokat2_testi, luokittelija2_logistinen_regressio_ylinäytteistetty, '$\\\\bf{Logistinen\\\\ regressio}$'))\n",
    "mitta_arvot_ylinäytteistetty.append(laske_mitta_arvot(data2_testi, luokat2_testi, luokittelija2_knn_ylinäytteistetty, '$\\\\bf{k-lähimmän}$\\n $\\\\bf{naapurin\\\\ luokittelija}$'))\n",
    "\n",
    "# Tulostetaan vertailun vuoksi molemmat taulukot alekkain\n",
    "taulukko_ylinäytteistetty = plt.gca().table(cellText=mitta_arvot_ylinäytteistetty, loc='center', cellLoc='center')\n",
    "taulukko_ylinäytteistetty.auto_set_font_size(False)\n",
    "taulukko_ylinäytteistetty.set_fontsize(9)\n",
    "taulukko_ylinäytteistetty.scale(1,3)\n",
    "plt.gca().axis('off')\n",
    "plt.title('Ylinäytteistetyillä öljyvuotodatan opetusnäytteillä opetettujen luokittelijoiden suorituskyvyn mitta-arvot')\n",
    "\n",
    "plt.figure()\n",
    "taulukko = plt.gca().table(cellText=mitta_arvot, loc='center', cellLoc='center')\n",
    "taulukko.auto_set_font_size(False)\n",
    "taulukko.set_fontsize(9)\n",
    "taulukko.scale(1,3)\n",
    "plt.gca().axis('off')\n",
    "plt.title('Epäbalansoidun öljyvuotodatan opetusnäytteillä opetettujen luokittelijoiden suorituskyvyn mitta-arvot')\n",
    "plt.show()"
   ]
  },
  {
   "cell_type": "markdown",
   "metadata": {},
   "source": [
    "**Vertaile alkuperäisellä opetusdatalla opetetun ja ylinäytteistetyllä opetusdatalla opetetun k-lähimmän naapurin luokittelijan mitta-arvoja, ROC-käyriä ja positiivinen ennustearvo-sensitiivisyys käyriä. Paraniko luokittelijan suorituskyky, kun erityisesti vähemmistöluokan näytteitä halutaan tunnistaa oikein?**\n",
    "\n",
    "`Tähän sinun vastaus`"
   ]
  },
  {
   "cell_type": "markdown",
   "metadata": {},
   "source": [
    "# Palaute\n",
    "Lopuksi vastaa seuraaviin kysymyksiin:"
   ]
  },
  {
   "cell_type": "markdown",
   "metadata": {},
   "source": [
    "**Kuinka paljon aikaa käytit harjoituksen tekemiseen?**\n",
    "\n",
    "`Tähän sinun vastaus`"
   ]
  },
  {
   "cell_type": "markdown",
   "metadata": {},
   "source": [
    "**Kohtasitko ongelmia tai haasteita harjoitusta tehdessäsi? Oliko notebookissa riittävän kattava ohjeistus harjoituksen tekemiseen?**\n",
    "\n",
    "`Tähän sinun vastaus`"
   ]
  },
  {
   "cell_type": "markdown",
   "metadata": {},
   "source": [
    "**Muuta palautetta harjoitukseen liittyen?**\n",
    "\n",
    "`Tähän sinun vastaus`"
   ]
  },
  {
   "cell_type": "markdown",
   "metadata": {
    "collapsed": true,
    "jupyter": {
     "outputs_hidden": true
    }
   },
   "source": [
    "# Palautus\n",
    "\n",
    "1. Ennen kuin palautat tämän notebookin, **tarkista, että notebookin koodi toimii** ja tuottaa kaikki pyydetyt tulokset valitsemalla valikosta `Kernel -> Restart & Run All`! Huomaa, että tuloksien ajaminen kestää hetken aikaa. Tarkista lisäksi, että olet vastannut kaikkiin lihavoituihin **kysymyksiin.**\n",
    "2. **Aiempien harjoituksien** palautusohjeisiin poiketen, **älä tyhjennä tulosteita ja muuttujia**, vaan paina tallenna painiketta suoritettuasi 1. vaihe!\n",
    "3. Nimeä uudelleen tämä notebook-tiedosto muodossa **`JT_H1_[opiskelijanumero(t)].ipynb`** (esim. `JT_H1_1234567.ipynb` jos teet harjoituksen yksin tai `JT_H1_1234567_2345678_3456789.ipynb` jos teette harjoituksen ryhmässä)\n",
    "4. Palauta **ainoastaan** ratkaisemasi notebook-tiedosto (`.ipynb` päätteinen tiedosto) Moodleen ohjelmointi harjoitus 2 . **Älä siis sisällytä työkansiota tai muita tiedostoja** palautukseesi! **HOX jokainen palauttaa tiedoston itsenäisesti moodleen**\n",
    "5. Vastaa **Moodlessa ohjelmointiharjoitus 2** vastaaviin kysymyksiin henkilökohtaisesti"
   ]
  },
  {
   "cell_type": "code",
   "execution_count": null,
   "metadata": {},
   "outputs": [],
   "source": []
  }
 ],
 "metadata": {
  "kernelspec": {
   "display_name": "Python 3 (ipykernel)",
   "language": "python",
   "name": "python3"
  },
  "language_info": {
   "codemirror_mode": {
    "name": "ipython",
    "version": 3
   },
   "file_extension": ".py",
   "mimetype": "text/x-python",
   "name": "python",
   "nbconvert_exporter": "python",
   "pygments_lexer": "ipython3",
   "version": "3.8.13"
  }
 },
 "nbformat": 4,
 "nbformat_minor": 4
}
